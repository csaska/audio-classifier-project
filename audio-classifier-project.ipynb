{
 "cells": [
  {
   "cell_type": "code",
   "execution_count": 1,
   "metadata": {},
   "outputs": [
    {
     "name": "stderr",
     "output_type": "stream",
     "text": [
      "Using TensorFlow backend.\n"
     ]
    }
   ],
   "source": [
    "import warnings\n",
    "warnings.filterwarnings(\"ignore\")\n",
    "\n",
    "import os\n",
    "import librosa\n",
    "from scipy.io import wavfile\n",
    "import numpy as np\n",
    "import pandas as pd\n",
    "import sklearn as sk\n",
    "import tensorflow as tf\n",
    "import torch\n",
    "from keras import models\n",
    "from keras import layers\n",
    "from sklearn import model_selection\n",
    "from sklearn.metrics import confusion_matrix\n",
    "\n",
    "import IPython.display as ipd\n",
    "import matplotlib.pyplot as plt\n",
    "%matplotlib inline\n",
    "plt.style.use('ggplot')"
   ]
  },
  {
   "cell_type": "code",
   "execution_count": 2,
   "metadata": {},
   "outputs": [],
   "source": [
    "device = torch.device(\"cuda:0\" if torch.cuda.is_available() else \"cpu\")\n"
   ]
  },
  {
   "cell_type": "code",
   "execution_count": 3,
   "metadata": {},
   "outputs": [],
   "source": [
    "def extract_feature(file_name):\n",
    "    \"\"\"\n",
    "    Extracts 193 chromatographic features from sound file. \n",
    "    including: MFCC's, Chroma_StFt, Melspectrogram, Spectral Contrast, and Tonnetz\n",
    "    NOTE: this extraction technique changes the time series nature of the data\n",
    "    \"\"\"\n",
    "    audio_data, sample_rate = librosa.load(file_name)\n",
    "    stft = np.abs(librosa.stft(audio_data))\n",
    "    mfcc = np.mean(librosa.feature.mfcc(y=audio_data, sr=sample_rate, n_mfcc=40).T,axis=0)\n",
    "    chroma = np.mean(librosa.feature.chroma_stft(S=stft, sr=sample_rate).T,axis=0)\n",
    "    mel = np.mean(librosa.feature.melspectrogram(audio_data, sr=sample_rate).T,axis=0)\n",
    "    contrast = np.mean(librosa.feature.spectral_contrast(S=stft, sr=sample_rate).T,axis=0)\n",
    "    # More possible features to add\n",
    "#     tonnetz = np.mean(librosa.feature.tonnetz(y=librosa.effects.harmonic(X, ), sr=sample_rate).T,axis=0)\n",
    "#     spec_cent = np.mean(librosa.feature.spectral_centroid(y=audio_data, sr=sample_rate).T, axis=0)\n",
    "#     spec_bw = np.mean(librosa.feature.spectral_bandwidth(y=audio_data, sr=sample_rate).T, axis=0)\n",
    "#     rolloff = np.mean(librosa.feature.spectral_rolloff(y=audio_data, sr=sample_rate).T, axis=0)\n",
    "#     zcr = np.mean(librosa.feature.zero_crossing_rate(audio_data).T, axis=0)\n",
    "\n",
    "    features = []\n",
    "    features.extend(mfcc) # 40 = 40\n",
    "    features.extend(chroma) # 12 = 52\n",
    "    features.extend(mel) # 128 = 180\n",
    "    features.extend(contrast) # 7 = 187\n",
    "    \n",
    "    \n",
    "#     features.extend(tonnetz) # 6 = 193\n",
    "#     features.extend(spec_cent)\n",
    "#     features.extend(spec_bw)\n",
    "#     features.extend(rolloff)\n",
    "#     features.extend(zcr)\n",
    "\n",
    "    return np.array(features)"
   ]
  },
  {
   "cell_type": "code",
   "execution_count": 4,
   "metadata": {},
   "outputs": [],
   "source": [
    "def load_all_wav_files(base_directory=\"./data\", load_birds=False):\n",
    "    #THIS WILL TAKE A WHILE!!!!!\n",
    "    all_data = []\n",
    "    all_labels = []\n",
    "    #UltraSound8K\n",
    "    print(\"loading Ultrasound8k\")\n",
    "    metadata = pd.read_csv(\"UrbanSound8K/metadata/UrbanSound8K.csv\")\n",
    "    for root, dirs, files in os.walk(\"./UrbanSound8K\"):\n",
    "        print(root, str(len(dirs)), str(len(files)), len(all_data))\n",
    "#       # This is in here for quick tests - only loads first Ultrasound8k folder (instead of all of them)\n",
    "#         if len(all_data) > 0: \n",
    "#             break\n",
    "        for idx, file in enumerate(files):\n",
    "            if file.endswith('.wav'):\n",
    "                if(len(all_data) % 100 == 0):\n",
    "                    print(str(len(all_data)))\n",
    "                fname = os.path.join(root, file)\n",
    "                features = extract_feature(fname)\n",
    "                label = metadata[metadata.slice_file_name == file][\"class\"].tolist()[0]\n",
    "                all_data.append(features)\n",
    "                all_labels.append(label)\n",
    "\n",
    "\n",
    "    if load_birds:\n",
    "        print(\"Loading birds\")\n",
    "        for root, dirs, files in os.walk(\"./data/warblrb10k_public_wav/train/hasbird\"):\n",
    "            print(root, str(len(dirs)), str(len(files)), len(all_data))\n",
    "            for file in files:\n",
    "                if(len(all_data) % 100 == 0):\n",
    "                    print(str(len(all_data)))\n",
    "                if file.endswith('.wav'):\n",
    "                    audio_data, _sampling_rate = librosa.load(os.path.join(root, file))\n",
    "                    features = extract_feature(fname)\n",
    "                    all_data.append(features)\n",
    "                    all_labels.append(\"bird\")\n",
    "\n",
    "    return np.array(all_data), np.array(all_labels)"
   ]
  },
  {
   "cell_type": "code",
   "execution_count": 5,
   "metadata": {
    "scrolled": true
   },
   "outputs": [
    {
     "name": "stdout",
     "output_type": "stream",
     "text": [
      "loading Ultrasound8k\n",
      "./UrbanSound8K 2 3 0\n",
      "./UrbanSound8K\\audio 10 1 0\n",
      "./UrbanSound8K\\audio\\fold1 0 874 0\n",
      "0\n",
      "100\n",
      "200\n",
      "300\n",
      "400\n",
      "500\n",
      "600\n",
      "700\n",
      "800\n",
      "./UrbanSound8K\\audio\\fold10 0 838 873\n",
      "900\n",
      "1000\n",
      "1100\n",
      "1200\n",
      "1300\n",
      "1400\n",
      "1500\n",
      "1600\n",
      "1700\n",
      "./UrbanSound8K\\audio\\fold2 0 889 1710\n",
      "1800\n",
      "1900\n",
      "2000\n",
      "2100\n",
      "2200\n",
      "2300\n",
      "2400\n",
      "2500\n",
      "./UrbanSound8K\\audio\\fold3 0 926 2598\n",
      "2600\n",
      "2700\n",
      "2800\n",
      "2900\n",
      "3000\n",
      "3100\n",
      "3200\n",
      "3300\n",
      "3400\n",
      "3500\n",
      "./UrbanSound8K\\audio\\fold4 0 991 3523\n",
      "3600\n",
      "3700\n",
      "3800\n",
      "3900\n",
      "4000\n",
      "4100\n",
      "4200\n",
      "4300\n",
      "4400\n",
      "4500\n",
      "./UrbanSound8K\\audio\\fold5 0 937 4513\n",
      "4600\n",
      "4700\n",
      "4800\n",
      "4900\n",
      "5000\n",
      "5100\n",
      "5200\n",
      "5300\n",
      "5400\n",
      "./UrbanSound8K\\audio\\fold6 0 824 5449\n",
      "5500\n",
      "5600\n",
      "5700\n",
      "5800\n",
      "5900\n",
      "6000\n",
      "6100\n",
      "6200\n",
      "./UrbanSound8K\\audio\\fold7 0 839 6272\n",
      "6300\n",
      "6400\n",
      "6500\n",
      "6600\n",
      "6700\n",
      "6800\n",
      "6900\n",
      "7000\n",
      "7100\n",
      "./UrbanSound8K\\audio\\fold8 0 807 7110\n",
      "7200\n",
      "7300\n",
      "7400\n",
      "7500\n",
      "7600\n",
      "7700\n",
      "7800\n",
      "7900\n",
      "./UrbanSound8K\\audio\\fold9 0 817 7916\n",
      "8000\n",
      "8100\n",
      "8200\n",
      "8300\n",
      "8400\n",
      "8500\n",
      "8600\n",
      "8700\n",
      "./UrbanSound8K\\metadata 0 2 8732\n"
     ]
    }
   ],
   "source": [
    "all_data, all_labels = load_all_wav_files(\"./UrbanSound8K\", False)"
   ]
  },
  {
   "cell_type": "code",
   "execution_count": 6,
   "metadata": {},
   "outputs": [
    {
     "name": "stdout",
     "output_type": "stream",
     "text": [
      "(8732, 187)\n",
      "['air_conditioner', 'gun_shot', 'street_music', 'car_horn', 'children_playing', 'engine_idling', 'dog_bark', 'siren', 'drilling', 'jackhammer']\n"
     ]
    }
   ],
   "source": [
    "print(all_data.shape)\n",
    "classes = list(set(all_labels))\n",
    "n_classes = len(classes)\n",
    "print(classes)\n",
    "numeric_labels = np.array([classes.index(label) for label in all_labels])"
   ]
  },
  {
   "cell_type": "code",
   "execution_count": 7,
   "metadata": {},
   "outputs": [],
   "source": [
    "x_train, x_test, y_train, y_test = sk.model_selection.train_test_split(all_data, numeric_labels, test_size=0.2, shuffle=True)"
   ]
  },
  {
   "cell_type": "code",
   "execution_count": 8,
   "metadata": {},
   "outputs": [
    {
     "data": {
      "text/plain": [
       "numpy.ndarray"
      ]
     },
     "execution_count": 8,
     "metadata": {},
     "output_type": "execute_result"
    }
   ],
   "source": [
    "type(x_train)"
   ]
  },
  {
   "cell_type": "code",
   "execution_count": 9,
   "metadata": {},
   "outputs": [
    {
     "data": {
      "text/plain": [
       "numpy.ndarray"
      ]
     },
     "execution_count": 9,
     "metadata": {},
     "output_type": "execute_result"
    }
   ],
   "source": [
    "type(y_train)"
   ]
  },
  {
   "cell_type": "code",
   "execution_count": 10,
   "metadata": {},
   "outputs": [],
   "source": [
    "model = models.Sequential()\n",
    "model.add(layers.Dense(256, activation='relu', input_shape=(x_train.shape[1],)))\n",
    "model.add(layers.Dense(128, activation='relu'))\n",
    "model.add(layers.Dense(64, activation='relu'))\n",
    "model.add(layers.Dense(10, activation='softmax'))"
   ]
  },
  {
   "cell_type": "code",
   "execution_count": 11,
   "metadata": {},
   "outputs": [],
   "source": [
    "model.compile(optimizer='adam',\n",
    "              loss='sparse_categorical_crossentropy',\n",
    "              metrics=['accuracy'])"
   ]
  },
  {
   "cell_type": "code",
   "execution_count": 12,
   "metadata": {},
   "outputs": [
    {
     "name": "stdout",
     "output_type": "stream",
     "text": [
      "Epoch 1/40\n",
      "6985/6985 [==============================] - 0s 58us/step - loss: 3.5123 - accuracy: 0.3971\n",
      "Epoch 2/40\n",
      "6985/6985 [==============================] - 0s 19us/step - loss: 1.1954 - accuracy: 0.6246\n",
      "Epoch 3/40\n",
      "6985/6985 [==============================] - 0s 20us/step - loss: 0.9257 - accuracy: 0.7055\n",
      "Epoch 4/40\n",
      "6985/6985 [==============================] - 0s 21us/step - loss: 0.7712 - accuracy: 0.7555\n",
      "Epoch 5/40\n",
      "6985/6985 [==============================] - 0s 20us/step - loss: 0.6333 - accuracy: 0.8057\n",
      "Epoch 6/40\n",
      "6985/6985 [==============================] - 0s 19us/step - loss: 0.5658 - accuracy: 0.8255\n",
      "Epoch 7/40\n",
      "6985/6985 [==============================] - 0s 19us/step - loss: 0.5125 - accuracy: 0.8445\n",
      "Epoch 8/40\n",
      "6985/6985 [==============================] - 0s 20us/step - loss: 0.4707 - accuracy: 0.8553\n",
      "Epoch 9/40\n",
      "6985/6985 [==============================] - 0s 19us/step - loss: 0.4790 - accuracy: 0.8521\n",
      "Epoch 10/40\n",
      "6985/6985 [==============================] - 0s 20us/step - loss: 0.3800 - accuracy: 0.8848\n",
      "Epoch 11/40\n",
      "6985/6985 [==============================] - 0s 19us/step - loss: 0.3475 - accuracy: 0.8875\n",
      "Epoch 12/40\n",
      "6985/6985 [==============================] - 0s 20us/step - loss: 0.3857 - accuracy: 0.8773\n",
      "Epoch 13/40\n",
      "6985/6985 [==============================] - 0s 19us/step - loss: 0.3376 - accuracy: 0.8938\n",
      "Epoch 14/40\n",
      "6985/6985 [==============================] - 0s 19us/step - loss: 0.4133 - accuracy: 0.8807\n",
      "Epoch 15/40\n",
      "6985/6985 [==============================] - 0s 19us/step - loss: 0.3036 - accuracy: 0.9041\n",
      "Epoch 16/40\n",
      "6985/6985 [==============================] - 0s 19us/step - loss: 0.2624 - accuracy: 0.9134\n",
      "Epoch 17/40\n",
      "6985/6985 [==============================] - 0s 20us/step - loss: 0.2280 - accuracy: 0.9257\n",
      "Epoch 18/40\n",
      "6985/6985 [==============================] - 0s 19us/step - loss: 0.2026 - accuracy: 0.9357\n",
      "Epoch 19/40\n",
      "6985/6985 [==============================] - 0s 19us/step - loss: 0.2199 - accuracy: 0.9261\n",
      "Epoch 20/40\n",
      "6985/6985 [==============================] - 0s 19us/step - loss: 0.1915 - accuracy: 0.9393\n",
      "Epoch 21/40\n",
      "6985/6985 [==============================] - 0s 19us/step - loss: 0.1794 - accuracy: 0.9416\n",
      "Epoch 22/40\n",
      "6985/6985 [==============================] - 0s 19us/step - loss: 0.1740 - accuracy: 0.9424\n",
      "Epoch 23/40\n",
      "6985/6985 [==============================] - 0s 19us/step - loss: 0.1511 - accuracy: 0.9520\n",
      "Epoch 24/40\n",
      "6985/6985 [==============================] - 0s 19us/step - loss: 0.1388 - accuracy: 0.9550\n",
      "Epoch 25/40\n",
      "6985/6985 [==============================] - 0s 20us/step - loss: 0.1554 - accuracy: 0.9499\n",
      "Epoch 26/40\n",
      "6985/6985 [==============================] - 0s 19us/step - loss: 0.1327 - accuracy: 0.9581\n",
      "Epoch 27/40\n",
      "6985/6985 [==============================] - 0s 19us/step - loss: 0.1216 - accuracy: 0.9618\n",
      "Epoch 28/40\n",
      "6985/6985 [==============================] - 0s 19us/step - loss: 0.1178 - accuracy: 0.9602\n",
      "Epoch 29/40\n",
      "6985/6985 [==============================] - 0s 19us/step - loss: 0.1599 - accuracy: 0.9505\n",
      "Epoch 30/40\n",
      "6985/6985 [==============================] - 0s 19us/step - loss: 0.1561 - accuracy: 0.9519\n",
      "Epoch 31/40\n",
      "6985/6985 [==============================] - 0s 19us/step - loss: 0.1444 - accuracy: 0.9543\n",
      "Epoch 32/40\n",
      "6985/6985 [==============================] - 0s 20us/step - loss: 0.2029 - accuracy: 0.9424\n",
      "Epoch 33/40\n",
      "6985/6985 [==============================] - 0s 19us/step - loss: 0.1480 - accuracy: 0.9552\n",
      "Epoch 34/40\n",
      "6985/6985 [==============================] - 0s 19us/step - loss: 0.1232 - accuracy: 0.9613\n",
      "Epoch 35/40\n",
      "6985/6985 [==============================] - 0s 19us/step - loss: 0.1174 - accuracy: 0.9613\n",
      "Epoch 36/40\n",
      "6985/6985 [==============================] - 0s 19us/step - loss: 0.1366 - accuracy: 0.9622\n",
      "Epoch 37/40\n",
      "6985/6985 [==============================] - 0s 20us/step - loss: 0.1350 - accuracy: 0.9611\n",
      "Epoch 38/40\n",
      "6985/6985 [==============================] - 0s 20us/step - loss: 0.0798 - accuracy: 0.9764\n",
      "Epoch 39/40\n",
      "6985/6985 [==============================] - 0s 20us/step - loss: 0.0822 - accuracy: 0.9721\n",
      "Epoch 40/40\n",
      "6985/6985 [==============================] - 0s 20us/step - loss: 0.0728 - accuracy: 0.9794\n"
     ]
    }
   ],
   "source": [
    "history = model.fit(x_train, y_train, epochs=40, batch_size=128)"
   ]
  },
  {
   "cell_type": "code",
   "execution_count": 13,
   "metadata": {},
   "outputs": [
    {
     "name": "stdout",
     "output_type": "stream",
     "text": [
      "1747/1747 [==============================] - 0s 44us/step\n"
     ]
    }
   ],
   "source": [
    "test_loss, test_acc = model.evaluate(x_test,y_test)\n"
   ]
  },
  {
   "cell_type": "code",
   "execution_count": 14,
   "metadata": {},
   "outputs": [
    {
     "name": "stdout",
     "output_type": "stream",
     "text": [
      "test_acc:  0.9244418740272522\n"
     ]
    }
   ],
   "source": [
    "print('test_acc: ',test_acc)"
   ]
  },
  {
   "cell_type": "code",
   "execution_count": 15,
   "metadata": {},
   "outputs": [],
   "source": [
    "y_predictions = model.predict(x_test)"
   ]
  },
  {
   "cell_type": "code",
   "execution_count": 16,
   "metadata": {},
   "outputs": [],
   "source": [
    "y_pred = np.argmax(y_predictions, axis=1)"
   ]
  },
  {
   "cell_type": "code",
   "execution_count": 17,
   "metadata": {},
   "outputs": [
    {
     "data": {
      "text/plain": [
       "array([2, 8, 6, ..., 7, 0, 5], dtype=int64)"
      ]
     },
     "execution_count": 17,
     "metadata": {},
     "output_type": "execute_result"
    }
   ],
   "source": [
    "y_pred"
   ]
  },
  {
   "cell_type": "code",
   "execution_count": 18,
   "metadata": {},
   "outputs": [
    {
     "data": {
      "text/plain": [
       "array([2, 8, 6, ..., 7, 3, 5])"
      ]
     },
     "execution_count": 18,
     "metadata": {},
     "output_type": "execute_result"
    }
   ],
   "source": [
    "y_test"
   ]
  },
  {
   "cell_type": "code",
   "execution_count": 19,
   "metadata": {},
   "outputs": [],
   "source": [
    "cm = confusion_matrix(y_test, y_pred)"
   ]
  },
  {
   "cell_type": "code",
   "execution_count": 20,
   "metadata": {},
   "outputs": [
    {
     "data": {
      "text/plain": [
       "array([[215,   0,   0,   0,   0,   1,   0,   0,   0,   3],\n",
       "       [  0,  76,   0,   0,   4,   0,   0,   0,   1,   0],\n",
       "       [  4,   0, 175,   3,   5,   0,   0,   4,   6,   3],\n",
       "       [  2,   0,   1,  85,   0,   3,   3,   2,   3,   2],\n",
       "       [  5,   1,  10,   0, 166,   0,   1,   2,   0,   2],\n",
       "       [  1,   0,   1,   0,   2, 186,   0,   1,   0,   1],\n",
       "       [  3,   3,   9,   1,  13,   1, 161,   4,   0,   0],\n",
       "       [  0,   0,   0,   2,   3,   1,   0, 187,   1,   0],\n",
       "       [  1,   0,   2,   0,   1,   0,   3,   0, 184,   3],\n",
       "       [  0,   0,   1,   0,   0,   0,   0,   0,   3, 180]], dtype=int64)"
      ]
     },
     "execution_count": 20,
     "metadata": {},
     "output_type": "execute_result"
    }
   ],
   "source": [
    "cm"
   ]
  },
  {
   "cell_type": "code",
   "execution_count": 21,
   "metadata": {},
   "outputs": [
    {
     "data": {
      "image/png": "[encoded data removed]",
      "text/plain": [
       "<Figure size 432x288 with 2 Axes>"
      ]
     },
     "metadata": {
      "needs_background": "light"
     },
     "output_type": "display_data"
    }
   ],
   "source": [
    "fig, ax = plt.subplots()\n",
    "im = ax.imshow(cm, interpolation='nearest', cmap=plt.cm.Blues)\n",
    "ax.figure.colorbar(im, ax=ax)\n",
    "# We want to show all ticks...\n",
    "ax.set(xticks=np.arange(cm.shape[1]),\n",
    "       yticks=np.arange(cm.shape[0]),\n",
    "       # ... and label them with the respective list entries\n",
    "       xticklabels=classes,\n",
    "       yticklabels=classes,\n",
    "       title=\"Confusion Matrix\",\n",
    "       ylabel='True label',\n",
    "       xlabel='Predicted label')\n",
    "ax.set_ylim(len(classes)-0.5, -0.5)\n",
    "ax.set_aspect('auto')\n",
    "\n",
    "# Rotate the tick labels and set their alignment.\n",
    "plt.setp(ax.get_xticklabels(), rotation=45, ha=\"right\", rotation_mode=\"anchor\")\n",
    "\n",
    "# Loop over data dimensions and create text annotations.\n",
    "thresh = cm.max() / 2.\n",
    "for i in range(cm.shape[0]):\n",
    "    for j in range(cm.shape[1]):\n",
    "        ax.text(j, i, format(cm[i, j], 'd'),\n",
    "                ha=\"center\", va=\"center\",\n",
    "                color=\"white\" if cm[i, j] > thresh else \"black\")\n",
    "\n",
    "plt.grid(None)\n",
    "plt.show()"
   ]
  },
  {
   "cell_type": "code",
   "execution_count": null,
   "metadata": {},
   "outputs": [],
   "source": []
  }
 ],
 "metadata": {
  "kernelspec": {
   "display_name": "Python 3",
   "language": "python",
   "name": "python3"
  },
  "language_info": {
   "codemirror_mode": {
    "name": "ipython",
    "version": 3
   },
   "file_extension": ".py",
   "mimetype": "text/x-python",
   "name": "python",
   "nbconvert_exporter": "python",
   "pygments_lexer": "ipython3",
   "version": "3.7.4"
  }
 },
 "nbformat": 4,
 "nbformat_minor": 2
}
