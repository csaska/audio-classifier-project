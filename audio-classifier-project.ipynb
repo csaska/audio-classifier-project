{
 "cells": [
  {
   "cell_type": "code",
   "execution_count": 1,
   "metadata": {},
   "outputs": [
    {
     "name": "stderr",
     "output_type": "stream",
     "text": [
      "Using TensorFlow backend.\n"
     ]
    }
   ],
   "source": [
    "####### All Imports #######\n",
    "import warnings\n",
    "warnings.filterwarnings(\"ignore\")\n",
    "\n",
    "import re\n",
    "import os\n",
    "import random\n",
    "from datetime import datetime\n",
    "\n",
    "import librosa\n",
    "from scipy.io import wavfile\n",
    "import numpy as np\n",
    "import pandas as pd\n",
    "import sklearn as sk\n",
    "import torch\n",
    "from torch.utils import data\n",
    "import tensorflow as tf\n",
    "import keras\n",
    "from keras.callbacks import ModelCheckpoint \n",
    "from keras.models import Sequential, model_from_json\n",
    "from keras.layers import Dense\n",
    "from sklearn import model_selection\n",
    "from sklearn.metrics import confusion_matrix\n",
    "\n",
    "import IPython.display as ipd\n",
    "import matplotlib.pyplot as plt\n",
    "%matplotlib inline\n",
    "plt.style.use('ggplot')"
   ]
  },
  {
   "cell_type": "code",
   "execution_count": 2,
   "metadata": {},
   "outputs": [
    {
     "name": "stdout",
     "output_type": "stream",
     "text": [
      "1 Physical GPUs, 1 Logical GPUs\n"
     ]
    },
    {
     "data": {
      "text/plain": [
       "<torch._C.Generator at 0x2229a1fc690>"
      ]
     },
     "execution_count": 2,
     "metadata": {},
     "output_type": "execute_result"
    }
   ],
   "source": [
    "####### Setup Environment #######\n",
    "\n",
    "# enable GPU\n",
    "device = torch.device(\"cuda:0\" if torch.cuda.is_available() else \"cpu\")\n",
    "\n",
    "# (tf v2) - allowing GPU memory growth.\n",
    "gpus = tf.config.experimental.list_physical_devices('GPU')\n",
    "if gpus:\n",
    "    try:\n",
    "        # Currently, memory growth needs to be the same across GPUs\n",
    "        for gpu in gpus:\n",
    "            tf.config.experimental.set_memory_growth(gpu, True)\n",
    "        logical_gpus = tf.config.experimental.list_logical_devices('GPU')\n",
    "        print(len(gpus), \"Physical GPUs,\", len(logical_gpus), \"Logical GPUs\")\n",
    "    except RuntimeError as e:\n",
    "      # Memory growth must be set before GPUs have been initialized\n",
    "      print(e)\n",
    "\n",
    "#keras saving/loading issue attempt?\n",
    "tf.random.set_seed(42)\n",
    "random.seed(42)\n",
    "np.random.seed(42)\n",
    "torch.manual_seed(42)\n",
    "# manual_variable_initialization(True)"
   ]
  },
  {
   "cell_type": "code",
   "execution_count": 3,
   "metadata": {},
   "outputs": [],
   "source": [
    "####### Configs for Machine Learning #######\n",
    "\n",
    "### Loading Test/Training Data ###\n",
    "load_urbansound_data = False # <-- Note: Urbansound8k has a shortcut for testing/debugging, only loads 1 folder (800 instead of 8000)\n",
    "# Data Source: https://urbansounddataset.weebly.com/urbansound8k.html\n",
    "load_birds_data      = False\n",
    "# Data Source: http://machine-listening.eecs.qmul.ac.uk/bird-audio-detection-challenge/#downloads\n",
    "load_kaggle_data     = True\n",
    "# Data Source: https://www.kaggle.com/mmoreaux/environmental-sound-classification-50#esc50.csv\n",
    "load_kaggle_cats_dogs_data  = False\n",
    "# Data Source:  https://www.kaggle.com/c/dogs-vs-cats/data\n",
    "# download using link https://www.kaggle.com/c/3362/download-all\n",
    "load_audioset_data   = False\n",
    "# Data Source: https://research.google.com/audioset/index.html\n",
    "# See scripts/README.md for downloading & filtering instructions.\n",
    "\n",
    "\n",
    "### Loading/Saving Model ###\n",
    "load_model_file = False # False = create new model, String = load pre-trian model from filename (no filename extension).\n",
    "save_model_file = False # False = do nothing, String = save trained model to filename (no filename extension).\n",
    "# save_model_file = \"urbansound_first_try\" \n",
    "# load_model_file = \"urbansound_first_try\"\n",
    "\n",
    "\n",
    "### Training / Fitting / Optimizing Model #####\n",
    "test_size = 0.2\n",
    "epochs    = 100\n",
    "batch_size= 10\n",
    "optimizer = keras.optimizers.Adam(learning_rate=0.001, beta_1=0.9, beta_2=0.999, amsgrad=False)"
   ]
  },
  {
   "cell_type": "code",
   "execution_count": 4,
   "metadata": {},
   "outputs": [],
   "source": [
    "####### HELPER FUNCTIONS (Table of Content) #######\n",
    "# extract_features\n",
    "# display_wav\n",
    "# load_all_wav_files\n",
    "# analyze_features\n",
    "# plot_history (loss & accuracy v epochs)\n",
    "# plot_confusion_matrix"
   ]
  },
  {
   "cell_type": "code",
   "execution_count": 5,
   "metadata": {},
   "outputs": [],
   "source": [
    "def extract_features(file_name):\n",
    "    \"\"\"\n",
    "    Extracts 193 chromatographic features from sound file. \n",
    "    including: MFCC's, Chroma_StFt, Melspectrogram, Spectral Contrast, and Tonnetz\n",
    "    NOTE: this extraction technique changes the time series nature of the data\n",
    "    \"\"\"\n",
    "    features = []\n",
    "    \n",
    "    audio_data, sample_rate = librosa.load(file_name)\n",
    "    stft = np.abs(librosa.stft(audio_data))\n",
    "    \n",
    "    mfcc = np.mean(librosa.feature.mfcc(y=audio_data, sr=sample_rate, n_mfcc=40).T,axis=0)\n",
    "    features.extend(mfcc) # 40 = 40\n",
    "    \n",
    "    chroma = np.mean(librosa.feature.chroma_stft(S=stft, sr=sample_rate).T,axis=0)\n",
    "    features.extend(chroma) # 12 = 52\n",
    "    \n",
    "    mel = np.mean(librosa.feature.melspectrogram(audio_data, sr=sample_rate).T,axis=0)\n",
    "    features.extend(mel) # 128 = 180\n",
    "    \n",
    "    contrast = np.mean(librosa.feature.spectral_contrast(S=stft, sr=sample_rate).T,axis=0)\n",
    "    features.extend(contrast) # 7 = 187\n",
    "\n",
    "# More possible features to add\n",
    "#     tonnetz = np.mean(librosa.feature.tonnetz(y=librosa.effects.harmonic(X, ), sr=sample_rate).T,axis=0)\n",
    "#     spec_cent = np.mean(librosa.feature.spectral_centroid(y=audio_data, sr=sample_rate).T, axis=0)\n",
    "#     spec_bw = np.mean(librosa.feature.spectral_bandwidth(y=audio_data, sr=sample_rate).T, axis=0)\n",
    "#     rolloff = np.mean(librosa.feature.spectral_rolloff(y=audio_data, sr=sample_rate).T, axis=0)\n",
    "#     zcr = np.mean(librosa.feature.zero_crossing_rate(audio_data).T, axis=0)\n",
    "#     features.extend(tonnetz) # 6 = 193\n",
    "#     features.extend(spec_cent)\n",
    "#     features.extend(spec_bw)\n",
    "#     features.extend(rolloff)\n",
    "#     features.extend(zcr)\n",
    "\n",
    "    return np.array(features)"
   ]
  },
  {
   "cell_type": "code",
   "execution_count": 6,
   "metadata": {},
   "outputs": [],
   "source": [
    "def display_wav(file = None):\n",
    "    # Displays comparison of loading a wav file via librosa vs via scipy\n",
    "    if not file:\n",
    "        print(\"No wav file to display\")\n",
    "        return\n",
    "    librosa_load, librosa_sampling_rate = librosa.load(file)\n",
    "    scipy_sampling_rate, scipy_load = wavfile.read(file)\n",
    "    print('original sample rate:',scipy_sampling_rate)\n",
    "    print('converted sample rate:',librosa_sampling_rate)\n",
    "    print('\\n')\n",
    "    print('original wav file min~max range:',np.min(scipy_load),'~',np.max(scipy_load))\n",
    "    print('converted wav file min~max range:',np.min(librosa_load),'~',np.max(librosa_load))\n",
    "    plt.figure(figsize=(12, 4))\n",
    "    plt.plot(scipy_load)\n",
    "    plt.figure(figsize=(12, 4))\n",
    "    plt.plot(librosa_load)"
   ]
  },
  {
   "cell_type": "code",
   "execution_count": 7,
   "metadata": {},
   "outputs": [],
   "source": [
    "def load_all_wav_files(load_urbansound=False,\n",
    "                       load_birds=False,\n",
    "                       load_kaggle=False,\n",
    "                       load_kaggle_cats_dogs=False,\n",
    "                       load_audioset=False):\n",
    "    '''\n",
    "    Returns two numpy array\n",
    "    The first is a numpy array containing each audio's numerical features - see extract_features()\n",
    "    The second numpy array is the array *STRING* of the label.\n",
    "    (The array indexes align up between the two arrays. data[idx] is classified as labels[idx]) \n",
    "    '''\n",
    "    one_file = None\n",
    "    #THIS WILL TAKE A WHILE!!!!!\n",
    "    all_data = []\n",
    "    all_labels = []\n",
    "    #UltraSound8K\n",
    "    if load_urbansound:\n",
    "        print(\"loading Ultrasound8k\")\n",
    "        # Data Source: https://urbansounddataset.weebly.com/urbansound8k.html\n",
    "        metadata = pd.read_csv(\"./data/UrbanSound8K/metadata/UrbanSound8K.csv\")\n",
    "        for root, dirs, files in os.walk(\"./data/UrbanSound8K\"):\n",
    "            print(root, str(len(dirs)), str(len(files)), len(all_data))\n",
    "#SHORTCUT\n",
    "# This is in here for quick tests - only loads first Ultrasound8k folder (instead of all of them)\n",
    "            if len(all_data) > 0: \n",
    "                break\n",
    "#END SHORTCUT\n",
    "            for idx, file in enumerate(files):\n",
    "                if file.endswith('.wav'):\n",
    "                    fname = os.path.join(root, file)\n",
    "                    if(len(all_data) % 100 == 0):\n",
    "                        print(str(len(all_data)))\n",
    "                    features = extract_features(fname)\n",
    "                    label = metadata[metadata.slice_file_name == file][\"class\"].tolist()[0]\n",
    "                    all_data.append(features)\n",
    "                    all_labels.append(label)\n",
    "                    one_file = fname\n",
    "#                     display_wav(fname)\n",
    "#                     break\n",
    "\n",
    "\n",
    "    if load_birds:\n",
    "        print(\"Loading birds\")\n",
    "        # Data Source: http://dcase.community/challenge2018/task-bird-audio-detection\n",
    "        # Data Source: http://machine-listening.eecs.qmul.ac.uk/bird-audio-detection-challenge/#downloads\n",
    "        for root, dirs, files in os.walk(\"./data/warblrb10k_public_wav/train/hasbird\"):\n",
    "            print(root, str(len(dirs)), str(len(files)), len(all_data))\n",
    "            for file in files:\n",
    "                if file.endswith('.wav'):\n",
    "                    fname = os.path.join(root, file)\n",
    "                    if(len(all_data) % 100 == 0):\n",
    "                        print(str(len(all_data)))\n",
    "                    features = extract_features(fname)\n",
    "                    all_data.append(features)\n",
    "                    all_labels.append(\"bird\")\n",
    "\n",
    "\n",
    "    if load_kaggle:\n",
    "        print(\"Loading Kaggle\")\n",
    "        # Data Source: https://www.kaggle.com/mmoreaux/environmental-sound-classification-50#esc50.csv\n",
    "        metadata = pd.read_csv(\"./data/environmental-sound-classification-50/esc50.csv\")\n",
    "        #for root, dirs, files in os.walk(\"./data/environmental-sound-classification-50/\"):\n",
    "        for file in os.listdir(\"./data/environmental-sound-classification-50/audio\"):\n",
    "            fname = \"./data/environmental-sound-classification-50/audio/\"+file\n",
    "            if file.endswith('.wav'):\n",
    "                label = metadata[metadata.filename == file][\"category\"].tolist()[0]\n",
    "                animals=[\"cat\", \"chirping_birds\",\"cow\",\"crickets\",\"crow\",\"dog\",\"frog\",\"hen\",\"insects\",\"pig\",\"rooster\",\"sheep\"]\n",
    "                if label in animals:\n",
    "                    if(len(all_data) % 100 == 0):\n",
    "                        print(str(len(all_data)))\n",
    "                    features = extract_features(fname)\n",
    "                    all_data.append(features)\n",
    "                    all_labels.append(label)\n",
    "\n",
    "    if load_kaggle_cats_dogs:\n",
    "        print(\"Loading Kaggle cats and dogs\")\n",
    "        # Data Source:  https://www.kaggle.com/c/dogs-vs-cats/data\n",
    "        #               download using link https://www.kaggle.com/c/3362/download-all\n",
    "        metadata = pd.read_csv(\"./data/kaggle_cats_dogs/train_test_split.csv\")\n",
    "        for file in os.listdir(\"./data/kaggle_cats_dogs/cats_dogs\"):\n",
    "            fname = \"./data/kaggle_cats_dogs/cats_dogs/\"+file\n",
    "            if file.endswith('.wav'):\n",
    "                if(len(all_data) % 100 == 0):\n",
    "                    print(str(len(all_data)))\n",
    "                features = extract_features(fname)\n",
    "                all_data.append(features)\n",
    "                label = 'cat' if file.startswith('cat') else 'dog'\n",
    "                all_labels.append(label)\n",
    "#                 one\n",
    "     \n",
    "    if load_audioset:\n",
    "        err_files = []\n",
    "        # Data Source: https://research.google.com/audioset/index.html\n",
    "        # See scripts/README.md for downloading & filtering instructions.\n",
    "        print(\"Loading Audioset\")\n",
    "        metadata_b = pd.read_csv(\"./data/audioset/balanced_train_segments-animals.csv\")\n",
    "        metadata_e = pd.read_csv(\"./data/audioset/eval_segments-animals.csv\")\n",
    "        metadata_l = pd.read_csv(\"./data/audioset/class_labels_indices-animals.csv\")\n",
    "#         print(\"METADATA BALANCED\", metadata_b.head())\n",
    "#         print(\"METADATA EVAL\", metadata_e.head())\n",
    "#         print(\"METADATA LABEL\", metadata_l.head())\n",
    "        for root, dirs, files in os.walk(\"./data/audioset/eval_segments\"):\n",
    "            print(root, str(len(dirs)), str(len(files)), len(all_data))\n",
    "            for idx, file in enumerate(files):\n",
    "                if file.endswith('.wav'):\n",
    "                    if(len(all_data) % 100 == 0):\n",
    "                        print(str(len(all_data)))\n",
    "                    fname = os.path.join(root, file)\n",
    "                    try:\n",
    "                        features = extract_features(fname)\n",
    "                    except ValueError as err:\n",
    "                        # Errors out on files that are empty or nearly empty\n",
    "                        err_files.append(fname)\n",
    "                        continue\n",
    "#                     file_id = file.replace(\".wav\", \"\")\n",
    "                    fid = re.sub(r'_[\\d\\.]+wav$','',file)\n",
    "                    temp = None\n",
    "                    if \"balanced_train_segments\" in fname:\n",
    "#                         temp = metadata_b[metadata_b['# YTID'] == no_ext][\"Unnamed: 3\"].tolist()\n",
    "                        temp = metadata_b[metadata_b['# YTID'] == fid][\"Unnamed: 3\"].tolist()\n",
    "                    elif \"eval_segments\" in fname:\n",
    "#                         temp = metadata_e[metadata_e['# YTID'] == no_ext][\"Unnamed: 3\"].tolist()\n",
    "                        temp = metadata_e[metadata_e['# YTID'] == fid][\"Unnamed: 3\"].tolist()\n",
    "                    if not temp:\n",
    "                        continue\n",
    "                    label_code = temp[0]\n",
    "                    label_temp = metadata_l[metadata_l.mid == label_code][\"display_name\"].to_list()\n",
    "                    if not label_temp:\n",
    "                        continue\n",
    "                    label = label_temp[0]\n",
    "                    \n",
    "                    all_data.append(features)\n",
    "                    all_labels.append(label)\n",
    "                    if(len(all_data) >= 1000):\n",
    "                        break\n",
    "        if err_files:\n",
    "            print(\"{} ERROR FILES:\\n {}\".format(len(err_files), err_files))\n",
    "        \n",
    "    \n",
    "    return np.array(all_data), np.array(all_labels), one_file"
   ]
  },
  {
   "cell_type": "code",
   "execution_count": 8,
   "metadata": {},
   "outputs": [],
   "source": [
    "def analyze_features(all_data, all_labels):\n",
    "    #seeking only the numeric features from the data\n",
    "    numeric_features = all_data.select_dtypes(include = [np.number])\n",
    "    print(numeric_features.dtypes)\n",
    "    corr = numeric_features.corr()\n",
    "    print(corr)\n",
    "#     print(corr['SalePrice'].sort_values(ascending = False)[:5], '\\n')\n",
    "#     print(corr['SalePrice'].sort_values(ascending = False)[-5:])"
   ]
  },
  {
   "cell_type": "code",
   "execution_count": 9,
   "metadata": {},
   "outputs": [],
   "source": [
    "def plot_history(history = None):\n",
    "    # Plots accuracy & loss versus epochs\n",
    "    if not history:\n",
    "        print(\"No history to plot\")\n",
    "        return\n",
    "    fig = plt.figure(figsize=(10,8))\n",
    "    plt.plot(history.history['loss'], label=\"Loss\")\n",
    "    plt.plot(history.history['accuracy'], label=\"Accuracy\")\n",
    "    plt.axis([0,90,0,np.max(history.history['accuracy'])])\n",
    "    plt.title(\"Accuracy and Loss vs Epoch\")\n",
    "    plt.xlabel(\"Epoch\")\n",
    "    plt.ylabel(\"Percentage\")\n",
    "    plt.legend()\n",
    "    plt.show()"
   ]
  },
  {
   "cell_type": "code",
   "execution_count": 10,
   "metadata": {},
   "outputs": [],
   "source": [
    "def plot_confusion_matrix(cm):\n",
    "    fig, ax = plt.subplots()\n",
    "    im = ax.imshow(cm, interpolation='nearest', cmap=plt.cm.Blues)\n",
    "    ax.figure.colorbar(im, ax=ax)\n",
    "    # We want to show all ticks...\n",
    "    ax.set(xticks=np.arange(cm.shape[1]),\n",
    "           yticks=np.arange(cm.shape[0]),\n",
    "           # ... and label them with the respective list entries\n",
    "           xticklabels=classes,\n",
    "           yticklabels=classes,\n",
    "           title=\"Confusion Matrix\",\n",
    "           ylabel='True label',\n",
    "           xlabel='Predicted label')\n",
    "    ax.set_ylim(len(classes)-0.5, -0.5)\n",
    "    ax.set_aspect('auto')\n",
    "\n",
    "    # Rotate the tick labels and set their alignment.\n",
    "    plt.setp(ax.get_xticklabels(), rotation=45, ha=\"right\", rotation_mode=\"anchor\")\n",
    "\n",
    "    # Loop over data dimensions and create text annotations.\n",
    "    thresh = cm.max() / 2.\n",
    "    for i in range(cm.shape[0]):\n",
    "        for j in range(cm.shape[1]):\n",
    "            ax.text(j, i, format(cm[i, j], 'd'),\n",
    "                    ha=\"center\", va=\"center\",\n",
    "                    color=\"white\" if cm[i, j] > thresh else \"black\")\n",
    "\n",
    "    plt.grid(None)\n",
    "    plt.show()"
   ]
  },
  {
   "cell_type": "code",
   "execution_count": 11,
   "metadata": {
    "scrolled": false
   },
   "outputs": [
    {
     "name": "stdout",
     "output_type": "stream",
     "text": [
      "Loading Kaggle\n",
      "0\n",
      "100\n",
      "200\n",
      "300\n",
      "400\n"
     ]
    }
   ],
   "source": [
    "all_data, all_labels, one_file = load_all_wav_files(load_urbansound_data,\n",
    "                                          load_birds_data,\n",
    "                                          load_kaggle_data,\n",
    "                                          load_kaggle_cats_dogs_data,\n",
    "                                          load_audioset_data)\n",
    "# display_wav(one_file)"
   ]
  },
  {
   "cell_type": "code",
   "execution_count": 12,
   "metadata": {},
   "outputs": [
    {
     "name": "stdout",
     "output_type": "stream",
     "text": [
      "480\n"
     ]
    }
   ],
   "source": [
    "print(len(all_data))# analyze_features(all_data, all_labels)"
   ]
  },
  {
   "cell_type": "code",
   "execution_count": 13,
   "metadata": {},
   "outputs": [
    {
     "name": "stdout",
     "output_type": "stream",
     "text": [
      "(480, 187)\n",
      "['chirping_birds', 'crickets', 'dog', 'hen', 'pig', 'sheep', 'insects', 'frog', 'cat', 'cow', 'rooster', 'crow']\n"
     ]
    }
   ],
   "source": [
    "print(all_data.shape)\n",
    "classes = list(set(all_labels)) # classes = unique list of labels\n",
    "n_classes = len(classes)\n",
    "numeric_labels = np.array([classes.index(label) for label in all_labels]) # labels by index\n",
    "print(classes)"
   ]
  },
  {
   "cell_type": "code",
   "execution_count": 14,
   "metadata": {},
   "outputs": [
    {
     "name": "stdout",
     "output_type": "stream",
     "text": [
      "(384, 187)\n",
      "(384,)\n",
      "(96, 187)\n",
      "(96,)\n"
     ]
    }
   ],
   "source": [
    "x_train, x_test, y_train, y_test = sk.model_selection.train_test_split(all_data, numeric_labels, test_size=test_size, shuffle=True)\n",
    "print(x_train.shape)\n",
    "print(y_train.shape)\n",
    "print(x_test.shape)\n",
    "print(y_test.shape)"
   ]
  },
  {
   "cell_type": "code",
   "execution_count": 15,
   "metadata": {},
   "outputs": [],
   "source": [
    "model = Sequential()\n",
    "model.add(Dense(256, activation='relu',  input_dim=x_train.shape[1]))\n",
    "model.add(Dense(128, activation='relu'))\n",
    "model.add(Dense(64, activation='relu'))\n",
    "model.add(Dense(n_classes, activation='softmax')) # sigmoid\n",
    "\n",
    "model.compile(loss='sparse_categorical_crossentropy', optimizer=optimizer, metrics=['accuracy'])"
   ]
  },
  {
   "cell_type": "code",
   "execution_count": 16,
   "metadata": {},
   "outputs": [
    {
     "name": "stdout",
     "output_type": "stream",
     "text": [
      "Train on 384 samples, validate on 96 samples\n",
      "Epoch 1/100\n",
      " - 0s - loss: 8.2077 - accuracy: 0.1797 - val_loss: 5.3039 - val_accuracy: 0.3021\n",
      "Epoch 2/100\n",
      " - 0s - loss: 2.2500 - accuracy: 0.4167 - val_loss: 4.8486 - val_accuracy: 0.4062\n",
      "Epoch 3/100\n",
      " - 0s - loss: 1.8574 - accuracy: 0.5156 - val_loss: 4.4345 - val_accuracy: 0.4167\n",
      "Epoch 4/100\n",
      " - 0s - loss: 1.3252 - accuracy: 0.5833 - val_loss: 3.4198 - val_accuracy: 0.4896\n",
      "Epoch 5/100\n",
      " - 0s - loss: 1.0405 - accuracy: 0.6510 - val_loss: 3.4250 - val_accuracy: 0.4896\n",
      "Epoch 6/100\n",
      " - 0s - loss: 0.8111 - accuracy: 0.7344 - val_loss: 3.1742 - val_accuracy: 0.5417\n",
      "Epoch 7/100\n",
      " - 0s - loss: 0.7690 - accuracy: 0.7344 - val_loss: 3.4518 - val_accuracy: 0.5208\n",
      "Epoch 8/100\n",
      " - 0s - loss: 0.7204 - accuracy: 0.7604 - val_loss: 3.1477 - val_accuracy: 0.5729\n",
      "Epoch 9/100\n",
      " - 0s - loss: 0.5978 - accuracy: 0.8203 - val_loss: 3.0219 - val_accuracy: 0.5729\n",
      "Epoch 10/100\n",
      " - 0s - loss: 0.5552 - accuracy: 0.8281 - val_loss: 3.0395 - val_accuracy: 0.5729\n",
      "Epoch 11/100\n",
      " - 0s - loss: 0.4769 - accuracy: 0.8333 - val_loss: 3.1013 - val_accuracy: 0.5625\n",
      "Epoch 12/100\n",
      " - 0s - loss: 0.5217 - accuracy: 0.8281 - val_loss: 2.7778 - val_accuracy: 0.6146\n",
      "Epoch 13/100\n",
      " - 0s - loss: 0.3689 - accuracy: 0.8828 - val_loss: 2.9914 - val_accuracy: 0.6250\n",
      "Epoch 14/100\n",
      " - 0s - loss: 0.3338 - accuracy: 0.9010 - val_loss: 3.1090 - val_accuracy: 0.6458\n",
      "Epoch 15/100\n",
      " - 0s - loss: 0.3180 - accuracy: 0.9062 - val_loss: 3.1132 - val_accuracy: 0.6458\n",
      "Epoch 16/100\n",
      " - 0s - loss: 0.2856 - accuracy: 0.9062 - val_loss: 3.1911 - val_accuracy: 0.6042\n",
      "Epoch 17/100\n",
      " - 0s - loss: 0.4149 - accuracy: 0.8542 - val_loss: 2.7512 - val_accuracy: 0.5833\n",
      "Epoch 18/100\n",
      " - 0s - loss: 0.3493 - accuracy: 0.9036 - val_loss: 2.6302 - val_accuracy: 0.6250\n",
      "Epoch 19/100\n",
      " - 0s - loss: 0.2435 - accuracy: 0.9271 - val_loss: 2.5668 - val_accuracy: 0.6354\n",
      "Epoch 20/100\n",
      " - 0s - loss: 0.2139 - accuracy: 0.9401 - val_loss: 2.6051 - val_accuracy: 0.6354\n",
      "Epoch 21/100\n",
      " - 0s - loss: 0.1932 - accuracy: 0.9453 - val_loss: 2.8574 - val_accuracy: 0.5938\n",
      "Epoch 22/100\n",
      " - 0s - loss: 0.1981 - accuracy: 0.9583 - val_loss: 2.5327 - val_accuracy: 0.6146\n",
      "Epoch 23/100\n",
      " - 0s - loss: 0.1350 - accuracy: 0.9557 - val_loss: 2.6686 - val_accuracy: 0.5938\n",
      "Epoch 24/100\n",
      " - 0s - loss: 0.1376 - accuracy: 0.9583 - val_loss: 2.6464 - val_accuracy: 0.6458\n",
      "Epoch 25/100\n",
      " - 0s - loss: 0.0988 - accuracy: 0.9740 - val_loss: 2.6955 - val_accuracy: 0.6771\n",
      "Epoch 26/100\n",
      " - 0s - loss: 0.1066 - accuracy: 0.9714 - val_loss: 2.9190 - val_accuracy: 0.6667\n",
      "Epoch 27/100\n",
      " - 0s - loss: 0.0689 - accuracy: 0.9818 - val_loss: 2.8682 - val_accuracy: 0.6771\n",
      "Epoch 28/100\n",
      " - 0s - loss: 0.0729 - accuracy: 0.9766 - val_loss: 2.8388 - val_accuracy: 0.6354\n",
      "Epoch 29/100\n",
      " - 0s - loss: 0.1033 - accuracy: 0.9688 - val_loss: 2.9428 - val_accuracy: 0.6562\n",
      "Epoch 30/100\n",
      " - 0s - loss: 0.1560 - accuracy: 0.9609 - val_loss: 3.2380 - val_accuracy: 0.6458\n",
      "Epoch 31/100\n",
      " - 0s - loss: 0.1464 - accuracy: 0.9531 - val_loss: 3.1371 - val_accuracy: 0.5938\n",
      "Epoch 32/100\n",
      " - 0s - loss: 0.1038 - accuracy: 0.9740 - val_loss: 3.3090 - val_accuracy: 0.6875\n",
      "Epoch 33/100\n",
      " - 0s - loss: 0.1372 - accuracy: 0.9583 - val_loss: 3.0751 - val_accuracy: 0.6562\n",
      "Epoch 34/100\n",
      " - 0s - loss: 0.3154 - accuracy: 0.8958 - val_loss: 3.2958 - val_accuracy: 0.6250\n",
      "Epoch 35/100\n",
      " - 0s - loss: 0.2163 - accuracy: 0.9297 - val_loss: 3.1391 - val_accuracy: 0.6146\n",
      "Epoch 36/100\n",
      " - 0s - loss: 0.2003 - accuracy: 0.9349 - val_loss: 3.1103 - val_accuracy: 0.6250\n",
      "Epoch 37/100\n",
      " - 0s - loss: 0.2339 - accuracy: 0.9271 - val_loss: 3.4503 - val_accuracy: 0.6458\n",
      "Epoch 38/100\n",
      " - 0s - loss: 0.2305 - accuracy: 0.9531 - val_loss: 3.3635 - val_accuracy: 0.6979\n",
      "Epoch 39/100\n",
      " - 0s - loss: 0.2204 - accuracy: 0.9505 - val_loss: 3.3146 - val_accuracy: 0.6875\n",
      "Epoch 40/100\n",
      " - 0s - loss: 0.1919 - accuracy: 0.9531 - val_loss: 3.3781 - val_accuracy: 0.6146\n",
      "Epoch 41/100\n",
      " - 0s - loss: 0.6025 - accuracy: 0.9193 - val_loss: 3.7726 - val_accuracy: 0.6042\n",
      "Epoch 42/100\n",
      " - 0s - loss: 0.3813 - accuracy: 0.9193 - val_loss: 4.1561 - val_accuracy: 0.6771\n",
      "Epoch 43/100\n",
      " - 0s - loss: 0.1943 - accuracy: 0.9297 - val_loss: 5.3324 - val_accuracy: 0.6250\n",
      "Epoch 44/100\n",
      " - 0s - loss: 0.3822 - accuracy: 0.8932 - val_loss: 5.3382 - val_accuracy: 0.6562\n",
      "Epoch 45/100\n",
      " - 0s - loss: 0.1044 - accuracy: 0.9740 - val_loss: 4.3737 - val_accuracy: 0.6771\n",
      "Epoch 46/100\n",
      " - 0s - loss: 0.0444 - accuracy: 0.9896 - val_loss: 4.1523 - val_accuracy: 0.6562\n",
      "Epoch 47/100\n",
      " - 0s - loss: 0.0339 - accuracy: 0.9896 - val_loss: 4.1071 - val_accuracy: 0.6562\n",
      "Epoch 48/100\n",
      " - 0s - loss: 0.1319 - accuracy: 0.9661 - val_loss: 3.6524 - val_accuracy: 0.6667\n",
      "Epoch 49/100\n",
      " - 0s - loss: 0.0446 - accuracy: 0.9870 - val_loss: 3.8491 - val_accuracy: 0.6771\n",
      "Epoch 50/100\n",
      " - 0s - loss: 0.0176 - accuracy: 0.9974 - val_loss: 4.0727 - val_accuracy: 0.6458\n",
      "Epoch 51/100\n",
      " - 0s - loss: 0.0087 - accuracy: 1.0000 - val_loss: 3.8203 - val_accuracy: 0.6667\n",
      "Epoch 52/100\n",
      " - 0s - loss: 0.0064 - accuracy: 1.0000 - val_loss: 3.8203 - val_accuracy: 0.6875\n",
      "Epoch 53/100\n",
      " - 0s - loss: 0.0075 - accuracy: 0.9974 - val_loss: 3.7504 - val_accuracy: 0.6667\n",
      "Epoch 54/100\n",
      " - 0s - loss: 0.0047 - accuracy: 1.0000 - val_loss: 3.8308 - val_accuracy: 0.6667\n",
      "Epoch 55/100\n",
      " - 0s - loss: 0.0039 - accuracy: 1.0000 - val_loss: 3.7687 - val_accuracy: 0.6771\n",
      "Epoch 56/100\n",
      " - 0s - loss: 0.0043 - accuracy: 1.0000 - val_loss: 3.8064 - val_accuracy: 0.6771\n",
      "Epoch 57/100\n",
      " - 0s - loss: 0.0030 - accuracy: 1.0000 - val_loss: 3.7691 - val_accuracy: 0.6875\n",
      "Epoch 58/100\n",
      " - 0s - loss: 0.0038 - accuracy: 1.0000 - val_loss: 3.8024 - val_accuracy: 0.6771\n",
      "Epoch 59/100\n",
      " - 0s - loss: 0.0030 - accuracy: 1.0000 - val_loss: 3.8172 - val_accuracy: 0.6771\n",
      "Epoch 60/100\n",
      " - 0s - loss: 0.0030 - accuracy: 1.0000 - val_loss: 3.8137 - val_accuracy: 0.6771\n",
      "Epoch 61/100\n",
      " - 0s - loss: 0.0026 - accuracy: 1.0000 - val_loss: 3.8019 - val_accuracy: 0.6771\n",
      "Epoch 62/100\n",
      " - 0s - loss: 0.0026 - accuracy: 1.0000 - val_loss: 3.8247 - val_accuracy: 0.6771\n",
      "Epoch 63/100\n",
      " - 0s - loss: 0.0024 - accuracy: 1.0000 - val_loss: 3.8341 - val_accuracy: 0.6771\n",
      "Epoch 64/100\n",
      " - 0s - loss: 0.0023 - accuracy: 1.0000 - val_loss: 3.8336 - val_accuracy: 0.6875\n",
      "Epoch 65/100\n",
      " - 0s - loss: 0.0025 - accuracy: 1.0000 - val_loss: 3.8839 - val_accuracy: 0.6771\n",
      "Epoch 66/100\n",
      " - 0s - loss: 0.0022 - accuracy: 1.0000 - val_loss: 3.8327 - val_accuracy: 0.6875\n",
      "Epoch 67/100\n",
      " - 0s - loss: 0.0021 - accuracy: 1.0000 - val_loss: 3.8773 - val_accuracy: 0.6771\n",
      "Epoch 68/100\n",
      " - 0s - loss: 0.0021 - accuracy: 1.0000 - val_loss: 3.8777 - val_accuracy: 0.6771\n",
      "Epoch 69/100\n",
      " - 0s - loss: 0.0019 - accuracy: 1.0000 - val_loss: 3.8558 - val_accuracy: 0.6979\n",
      "Epoch 70/100\n",
      " - 0s - loss: 0.0019 - accuracy: 1.0000 - val_loss: 3.8815 - val_accuracy: 0.6875\n",
      "Epoch 71/100\n",
      " - 0s - loss: 0.0018 - accuracy: 1.0000 - val_loss: 3.8834 - val_accuracy: 0.6875\n",
      "Epoch 72/100\n",
      " - 0s - loss: 0.0018 - accuracy: 1.0000 - val_loss: 3.8843 - val_accuracy: 0.6875\n",
      "Epoch 73/100\n",
      " - 0s - loss: 0.0018 - accuracy: 1.0000 - val_loss: 3.9068 - val_accuracy: 0.6979\n",
      "Epoch 74/100\n",
      " - 0s - loss: 0.0018 - accuracy: 1.0000 - val_loss: 3.9176 - val_accuracy: 0.6979\n",
      "Epoch 75/100\n",
      " - 0s - loss: 0.0018 - accuracy: 1.0000 - val_loss: 3.9174 - val_accuracy: 0.6875\n",
      "Epoch 76/100\n",
      " - 0s - loss: 0.0018 - accuracy: 1.0000 - val_loss: 3.8981 - val_accuracy: 0.6979\n",
      "Epoch 77/100\n",
      " - 0s - loss: 0.0016 - accuracy: 1.0000 - val_loss: 3.9233 - val_accuracy: 0.6979\n",
      "Epoch 78/100\n",
      " - 0s - loss: 0.0017 - accuracy: 1.0000 - val_loss: 3.9788 - val_accuracy: 0.6875\n",
      "Epoch 79/100\n",
      " - 0s - loss: 0.0019 - accuracy: 1.0000 - val_loss: 3.9016 - val_accuracy: 0.6875\n",
      "Epoch 80/100\n",
      " - 0s - loss: 0.0019 - accuracy: 1.0000 - val_loss: 3.9100 - val_accuracy: 0.6875\n",
      "Epoch 81/100\n",
      " - 0s - loss: 0.0019 - accuracy: 1.0000 - val_loss: 3.9252 - val_accuracy: 0.6771\n",
      "Epoch 82/100\n",
      " - 0s - loss: 0.0235 - accuracy: 0.9922 - val_loss: 4.2842 - val_accuracy: 0.6354\n",
      "Epoch 83/100\n",
      " - 0s - loss: 0.0942 - accuracy: 0.9661 - val_loss: 4.5204 - val_accuracy: 0.6354\n",
      "Epoch 84/100\n",
      " - 0s - loss: 0.1470 - accuracy: 0.9531 - val_loss: 5.3371 - val_accuracy: 0.5208\n",
      "Epoch 85/100\n",
      " - 0s - loss: 0.5306 - accuracy: 0.8568 - val_loss: 5.0192 - val_accuracy: 0.5729\n",
      "Epoch 86/100\n",
      " - 0s - loss: 0.5382 - accuracy: 0.8568 - val_loss: 4.4436 - val_accuracy: 0.6146\n"
     ]
    },
    {
     "name": "stdout",
     "output_type": "stream",
     "text": [
      "Epoch 87/100\n",
      " - 0s - loss: 0.2385 - accuracy: 0.9297 - val_loss: 3.3559 - val_accuracy: 0.6562\n",
      "Epoch 88/100\n",
      " - 0s - loss: 0.0682 - accuracy: 0.9870 - val_loss: 3.7769 - val_accuracy: 0.6458\n",
      "Epoch 89/100\n",
      " - 0s - loss: 0.0331 - accuracy: 0.9922 - val_loss: 3.6053 - val_accuracy: 0.6667\n",
      "Epoch 90/100\n",
      " - 0s - loss: 0.0161 - accuracy: 0.9974 - val_loss: 3.6790 - val_accuracy: 0.6250\n",
      "Epoch 91/100\n",
      " - 0s - loss: 0.0047 - accuracy: 1.0000 - val_loss: 3.8741 - val_accuracy: 0.6354\n",
      "Epoch 92/100\n",
      " - 0s - loss: 0.0039 - accuracy: 1.0000 - val_loss: 3.7516 - val_accuracy: 0.6562\n",
      "Epoch 93/100\n",
      " - 0s - loss: 0.0025 - accuracy: 1.0000 - val_loss: 3.8039 - val_accuracy: 0.6562\n",
      "Epoch 94/100\n",
      " - 0s - loss: 0.0022 - accuracy: 1.0000 - val_loss: 3.8249 - val_accuracy: 0.6562\n",
      "Epoch 95/100\n",
      " - 0s - loss: 0.0021 - accuracy: 1.0000 - val_loss: 3.8274 - val_accuracy: 0.6562\n",
      "Epoch 96/100\n",
      " - 0s - loss: 0.0019 - accuracy: 1.0000 - val_loss: 3.8320 - val_accuracy: 0.6562\n",
      "Epoch 97/100\n",
      " - 0s - loss: 0.0018 - accuracy: 1.0000 - val_loss: 3.8434 - val_accuracy: 0.6562\n",
      "Epoch 98/100\n",
      " - 0s - loss: 0.0017 - accuracy: 1.0000 - val_loss: 3.8517 - val_accuracy: 0.6562\n",
      "Epoch 99/100\n",
      " - 0s - loss: 0.0015 - accuracy: 1.0000 - val_loss: 3.8474 - val_accuracy: 0.6458\n",
      "Epoch 100/100\n",
      " - 0s - loss: 0.0015 - accuracy: 1.0000 - val_loss: 3.8490 - val_accuracy: 0.6458\n"
     ]
    }
   ],
   "source": [
    "history = None\n",
    "if load_model_file:\n",
    "    fpath = os.path.join(\"model\", load_model_file + \".hdf5\")\n",
    "    model.load_weights(fpath)\n",
    "elif save_model_file:\n",
    "    fpath = os.path.join(\"model\", save_model_file + \".hdf5\")\n",
    "    checkpointer = ModelCheckpoint(filepath=fpath,\n",
    "                                   monitor='val_loss', \n",
    "                                   save_best_only=True,\n",
    "                                   verbose=1)\n",
    "    history = model.fit(x_train, y_train,\n",
    "                        epochs=epochs,\n",
    "                        batch_size=batch_size,\n",
    "                        validation_data=(x_test, y_test),\n",
    "                        callbacks=[checkpointer],\n",
    "#                         shuffle=True,\n",
    "                        verbose=2)\n",
    "else:\n",
    "    history = model.fit(x_train, y_train,\n",
    "                        epochs=epochs,\n",
    "                        batch_size=batch_size,\n",
    "                        validation_data=(x_test, y_test),\n",
    "#                         shuffle=True,\n",
    "                        verbose=2)"
   ]
  },
  {
   "cell_type": "code",
   "execution_count": 17,
   "metadata": {
    "scrolled": true
   },
   "outputs": [
    {
     "name": "stdout",
     "output_type": "stream",
     "text": [
      "Model: \"sequential_1\"\n",
      "_________________________________________________________________\n",
      "Layer (type)                 Output Shape              Param #   \n",
      "=================================================================\n",
      "dense_1 (Dense)              (None, 256)               48128     \n",
      "_________________________________________________________________\n",
      "dense_2 (Dense)              (None, 128)               32896     \n",
      "_________________________________________________________________\n",
      "dense_3 (Dense)              (None, 64)                8256      \n",
      "_________________________________________________________________\n",
      "dense_4 (Dense)              (None, 12)                780       \n",
      "=================================================================\n",
      "Total params: 90,060\n",
      "Trainable params: 90,060\n",
      "Non-trainable params: 0\n",
      "_________________________________________________________________\n"
     ]
    }
   ],
   "source": [
    "# Display model architecture summary \n",
    "model.summary()"
   ]
  },
  {
   "cell_type": "code",
   "execution_count": 18,
   "metadata": {},
   "outputs": [
    {
     "name": "stdout",
     "output_type": "stream",
     "text": [
      "Training Accuracy:  1.0\n",
      "Training Cross Entropy: 0.00\n",
      "Testing Accuracy:  0.6458333134651184\n",
      "Testing Cross Entropy: 3.85\n"
     ]
    }
   ],
   "source": [
    "score_train = model.evaluate(x_train, y_train, verbose=0)\n",
    "print(\"Training Accuracy: \", score_train[1])\n",
    "print(\"Training Cross Entropy: %.2f\" % score_train[0])\n",
    "\n",
    "score_test = model.evaluate(x_test, y_test, verbose=0)\n",
    "print(\"Testing Accuracy: \", score_test[1])\n",
    "print(\"Testing Cross Entropy: %.2f\" % score_test[0])"
   ]
  },
  {
   "cell_type": "code",
   "execution_count": 19,
   "metadata": {},
   "outputs": [],
   "source": [
    "y_pred_percentages = model.predict(x_test) # predicted percentages\n",
    "\n",
    "y_pred = np.argmax(y_pred_percentages, axis=1) # Most prevalent prediction\n",
    "\n",
    "cm = confusion_matrix(y_test, y_pred)"
   ]
  },
  {
   "cell_type": "code",
   "execution_count": 20,
   "metadata": {
    "scrolled": true
   },
   "outputs": [
    {
     "data": {
      "image/png": "[encoded data removed]",
      "text/plain": [
       "<Figure size 432x288 with 2 Axes>"
      ]
     },
     "metadata": {
      "needs_background": "light"
     },
     "output_type": "display_data"
    }
   ],
   "source": [
    "plot_confusion_matrix(cm)"
   ]
  },
  {
   "cell_type": "code",
   "execution_count": 21,
   "metadata": {},
   "outputs": [
    {
     "data": {
      "image/png": "[encoded data removed]",
      "text/plain": [
       "<Figure size 720x576 with 1 Axes>"
      ]
     },
     "metadata": {
      "needs_background": "light"
     },
     "output_type": "display_data"
    }
   ],
   "source": [
    "plot_history(history)"
   ]
  },
  {
   "cell_type": "code",
   "execution_count": 22,
   "metadata": {},
   "outputs": [
    {
     "data": {
      "image/png": "[encoded data removed]",
      "text/plain": [
       "<Figure size 432x288 with 1 Axes>"
      ]
     },
     "metadata": {
      "needs_background": "light"
     },
     "output_type": "display_data"
    },
    {
     "data": {
      "image/png": "[encoded data removed]",
      "text/plain": [
       "<Figure size 432x288 with 1 Axes>"
      ]
     },
     "metadata": {
      "needs_background": "light"
     },
     "output_type": "display_data"
    }
   ],
   "source": [
    "plt.plot(history.history['accuracy'])\n",
    "plt.plot(history.history['val_accuracy'])\n",
    "plt.title('model accuracy')\n",
    "plt.ylabel('accuracy')\n",
    "plt.xlabel('epoch')\n",
    "plt.legend(['train', 'test'], loc='upper left')\n",
    "plt.show()\n",
    "# summarize history for loss\n",
    "plt.plot(history.history['loss'])\n",
    "plt.plot(history.history['val_loss'])\n",
    "plt.title('model loss')\n",
    "plt.ylabel('loss')\n",
    "plt.xlabel('epoch')\n",
    "plt.legend(['train', 'test'], loc='upper left')\n",
    "plt.show()\n",
    "#32, 32 lstm, w/ mel, chroma, zcr, mfcc, sp_centroid, sp_rolloff\n",
    "#sgd 0.01\n",
    "#***"
   ]
  },
  {
   "cell_type": "code",
   "execution_count": null,
   "metadata": {},
   "outputs": [],
   "source": []
  }
 ],
 "metadata": {
  "kernelspec": {
   "display_name": "Python 3",
   "language": "python",
   "name": "python3"
  },
  "language_info": {
   "codemirror_mode": {
    "name": "ipython",
    "version": 3
   },
   "file_extension": ".py",
   "mimetype": "text/x-python",
   "name": "python",
   "nbconvert_exporter": "python",
   "pygments_lexer": "ipython3",
   "version": "3.7.4"
  }
 },
 "nbformat": 4,
 "nbformat_minor": 2
}
