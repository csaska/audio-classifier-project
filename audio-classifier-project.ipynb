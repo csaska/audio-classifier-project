{
 "cells": [
  {
   "cell_type": "code",
   "execution_count": 18,
   "metadata": {},
   "outputs": [],
   "source": [
    "# All Imports\n",
    "import warnings\n",
    "warnings.filterwarnings(\"ignore\")\n",
    "\n",
    "import os\n",
    "from datetime import datetime\n",
    "\n",
    "import librosa\n",
    "from scipy.io import wavfile\n",
    "import numpy as np\n",
    "import pandas as pd\n",
    "import sklearn as sk\n",
    "import tensorflow as tf\n",
    "import torch\n",
    "from torch.utils import data\n",
    "import keras\n",
    "from keras import models\n",
    "from keras import layers\n",
    "from keras.backend import manual_variable_initialization, tensorflow_backend\n",
    "from sklearn import model_selection\n",
    "from sklearn.metrics import confusion_matrix\n",
    "\n",
    "import IPython.display as ipd\n",
    "import matplotlib.pyplot as plt\n",
    "%matplotlib inline\n",
    "plt.style.use('ggplot')"
   ]
  },
  {
   "cell_type": "code",
   "execution_count": 2,
   "metadata": {},
   "outputs": [
    {
     "name": "stdout",
     "output_type": "stream",
     "text": [
      "1 Physical GPUs, 1 Logical GPUs\n",
      "['/job:localhost/replica:0/task:0/device:GPU:0']\n"
     ]
    }
   ],
   "source": [
    "#SETUP Environment stuff (GPU, keras saving/loading config)\n",
    "device = torch.device(\"cuda:0\" if torch.cuda.is_available() else \"cpu\")\n",
    "\n",
    "gpus = tf.config.experimental.list_physical_devices('GPU')\n",
    "if gpus:\n",
    "    try:\n",
    "        # Currently, memory growth needs to be the same across GPUs\n",
    "        for gpu in gpus:\n",
    "            tf.config.experimental.set_memory_growth(gpu, True)\n",
    "        logical_gpus = tf.config.experimental.list_logical_devices('GPU')\n",
    "        print(len(gpus), \"Physical GPUs,\", len(logical_gpus), \"Logical GPUs\")\n",
    "    except RuntimeError as e:\n",
    "      # Memory growth must be set before GPUs have been initialized\n",
    "      print(e)\n",
    "\n",
    "print(tensorflow_backend._get_available_gpus())\n",
    "\n",
    "np.random.seed(42)\n",
    "tf.random.set_seed(42)\n",
    "manual_variable_initialization(True)"
   ]
  },
  {
   "cell_type": "code",
   "execution_count": 3,
   "metadata": {},
   "outputs": [],
   "source": [
    "# Configs for Machine Learning\n",
    "\n",
    "\n",
    "##### Loading Test/Training Data #####\n",
    "load_urbansound_data = True\n",
    "# Data Source: https://urbansounddataset.weebly.com/urbansound8k.html\n",
    "load_birds_data      = False\n",
    "# Data Source: http://machine-listening.eecs.qmul.ac.uk/bird-audio-detection-challenge/#downloads\n",
    "load_kaggle_data     = False\n",
    "# Data Source: https://www.kaggle.com/mmoreaux/environmental-sound-classification-50#esc50.csv\n",
    "\n",
    "\n",
    "##### Loading/Saving Model #####\n",
    "# load_model_file = False # False = create new model, String = load pre-trian model from file.\n",
    "# save_model_file = \"urbansound_first_try\" # False = do nothing, String = save trained model to file.\n",
    "load_model_file = \"urbansound_first_try\"\n",
    "save_model_file = False\n",
    "\n",
    "\n",
    "##### Training / Fitting / Optimizing Model #####\n",
    "test_size = 0.2\n",
    "epochs    = 100\n",
    "optimizer = keras.optimizers.Adam(learning_rate=1e-5, beta_1=0.9, beta_2=0.999, amsgrad=False)"
   ]
  },
  {
   "cell_type": "code",
   "execution_count": 4,
   "metadata": {},
   "outputs": [],
   "source": [
    "##### HELPER FUNCTIONS #####\n",
    "# extract_features\n",
    "# load_all_wav_files\n",
    "# save_model\n",
    "# load_model\n",
    "# plot_history (loss & accuracy v epochs)\n",
    "# plot_confusion_matrix"
   ]
  },
  {
   "cell_type": "code",
   "execution_count": 5,
   "metadata": {},
   "outputs": [],
   "source": [
    "def extract_features(file_name):\n",
    "    \"\"\"\n",
    "    Extracts 193 chromatographic features from sound file. \n",
    "    including: MFCC's, Chroma_StFt, Melspectrogram, Spectral Contrast, and Tonnetz\n",
    "    NOTE: this extraction technique changes the time series nature of the data\n",
    "    \"\"\"\n",
    "    audio_data, sample_rate = librosa.load(file_name)\n",
    "    stft = np.abs(librosa.stft(audio_data))\n",
    "    mfcc = np.mean(librosa.feature.mfcc(y=audio_data, sr=sample_rate, n_mfcc=40).T,axis=0)\n",
    "    chroma = np.mean(librosa.feature.chroma_stft(S=stft, sr=sample_rate).T,axis=0)\n",
    "    mel = np.mean(librosa.feature.melspectrogram(audio_data, sr=sample_rate).T,axis=0)\n",
    "    contrast = np.mean(librosa.feature.spectral_contrast(S=stft, sr=sample_rate).T,axis=0)\n",
    "    # More possible features to add\n",
    "#     tonnetz = np.mean(librosa.feature.tonnetz(y=librosa.effects.harmonic(X, ), sr=sample_rate).T,axis=0)\n",
    "#     spec_cent = np.mean(librosa.feature.spectral_centroid(y=audio_data, sr=sample_rate).T, axis=0)\n",
    "#     spec_bw = np.mean(librosa.feature.spectral_bandwidth(y=audio_data, sr=sample_rate).T, axis=0)\n",
    "#     rolloff = np.mean(librosa.feature.spectral_rolloff(y=audio_data, sr=sample_rate).T, axis=0)\n",
    "#     zcr = np.mean(librosa.feature.zero_crossing_rate(audio_data).T, axis=0)\n",
    "\n",
    "    features = []\n",
    "    features.extend(mfcc) # 40 = 40\n",
    "    features.extend(chroma) # 12 = 52\n",
    "    features.extend(mel) # 128 = 180\n",
    "    features.extend(contrast) # 7 = 187\n",
    "    \n",
    "    \n",
    "#     features.extend(tonnetz) # 6 = 193\n",
    "#     features.extend(spec_cent)\n",
    "#     features.extend(spec_bw)\n",
    "#     features.extend(rolloff)\n",
    "#     features.extend(zcr)\n",
    "\n",
    "    return np.array(features)"
   ]
  },
  {
   "cell_type": "code",
   "execution_count": 6,
   "metadata": {},
   "outputs": [],
   "source": [
    "def load_all_wav_files(load_urbansound=False,\n",
    "                       load_birds=False,\n",
    "                       load_kaggle=False):\n",
    "    #THIS WILL TAKE A WHILE!!!!!\n",
    "    all_data = []\n",
    "    all_labels = []\n",
    "\n",
    "    #UltraSound8K\n",
    "    if load_urbansound:\n",
    "        print(\"loading Ultrasound8k\")\n",
    "        # Data Source: https://urbansounddataset.weebly.com/urbansound8k.html\n",
    "        metadata = pd.read_csv(\"./data/UrbanSound8K/metadata/UrbanSound8K.csv\")\n",
    "        for root, dirs, files in os.walk(\"./data/UrbanSound8K\"):\n",
    "            print(root, str(len(dirs)), str(len(files)), len(all_data))\n",
    "    #       # This is in here for quick tests - only loads first Ultrasound8k folder (instead of all of them)\n",
    "            if len(all_data) > 0: \n",
    "                break\n",
    "            for idx, file in enumerate(files):\n",
    "                if file.endswith('.wav'):\n",
    "                    if(len(all_data) % 100 == 0):\n",
    "                        print(str(len(all_data)))\n",
    "                    fname = os.path.join(root, file)\n",
    "                    features = extract_features(fname)\n",
    "                    label = metadata[metadata.slice_file_name == file][\"class\"].tolist()[0]\n",
    "                    all_data.append(features)\n",
    "                    all_labels.append(label)\n",
    "\n",
    "\n",
    "    if load_birds:\n",
    "        print(\"Loading birds\")\n",
    "        # Data Source: http://dcase.community/challenge2018/task-bird-audio-detection\n",
    "        # Data Source: http://machine-listening.eecs.qmul.ac.uk/bird-audio-detection-challenge/#downloads\n",
    "        for root, dirs, files in os.walk(\"./data/warblrb10k_public_wav/train/hasbird\"):\n",
    "            print(root, str(len(dirs)), str(len(files)), len(all_data))\n",
    "            for file in files:\n",
    "                if file.endswith('.wav'):\n",
    "                    if(len(all_data) % 100 == 0):\n",
    "                        print(str(len(all_data)))\n",
    "                    fname = os.path.join(root, file)\n",
    "                    features = extract_features(fname)\n",
    "                    all_data.append(features)\n",
    "                    all_labels.append(\"bird\")\n",
    "    \n",
    "    if load_kaggle:\n",
    "        print(\"Loading Kaggle\")\n",
    "        # Data Source: https://www.kaggle.com/mmoreaux/environmental-sound-classification-50#esc50.csv\n",
    "        metadata = pd.read_csv(\"./data/environmental-sound-classification-50/esc50.csv\")\n",
    "        #for root, dirs, files in os.walk(\"./data/environmental-sound-classification-50/\"):\n",
    "        for file in os.listdir(\"./data/environmental-sound-classification-50/audio\"):\n",
    "            fname = \"./data/environmental-sound-classification-50/audio/\"+file\n",
    "#            for file in files:\n",
    "#                 print(file)\n",
    "#                 print(metadata[metadata.filename == file])\n",
    "            if file.endswith('.wav'):\n",
    "                label = metadata[metadata.filename == file][\"category\"].tolist()[0]\n",
    "                animals=[\"cat\", \"chirping_birds\",\"cow\",\"crickets\",\"crow\",\"dog\",\"frog\",\"hen\",\"insects\",\"pig\",\"rooster\",\"sheep\"]\n",
    "                if label in animals:\n",
    "                    #label_idx = animals.index(label)\n",
    "                    if(len(all_data) % 100 == 0):\n",
    "                        print(str(len(all_data)))\n",
    "    #                         fname = os.path.join(root, file)\n",
    "    #                         features = extract_feature(fname)\n",
    "                    features = extract_features(fname)\n",
    "                    all_data.append(features)\n",
    "                    all_labels.append(label)\n",
    "\n",
    "    return np.array(all_data), np.array(all_labels)"
   ]
  },
  {
   "cell_type": "code",
   "execution_count": 7,
   "metadata": {},
   "outputs": [],
   "source": [
    "def save_model(model, fname=\"model\"):\n",
    "    # Saves keras model in two files:\n",
    "    #   .json = model architecture\n",
    "    #   .h5 = model HDF5 weights\n",
    "    model_json = model.to_json()\n",
    "    fpath = os.path.join(\"model\", fname)\n",
    "    with open(fpath + \".json\", \"w\") as json_file:\n",
    "        json_file.write(model_json)\n",
    "    model.save_weights(fpath + \".h5\")\n",
    "    print(\"Saved model and weights to \" + fpath)"
   ]
  },
  {
   "cell_type": "code",
   "execution_count": 8,
   "metadata": {},
   "outputs": [],
   "source": [
    "def load_model(fname=\"model\"):\n",
    "    # load json and create (keras) model\n",
    "    loaded_model_json = None\n",
    "    fpath = os.path.join(\"model\", fname)\n",
    "    with open(fpath + \".json\", 'r') as json_file:\n",
    "        loaded_model_json = json_file.read()\n",
    "    loaded_model = models.model_from_json(loaded_model_json)\n",
    "    # load weights into new model\n",
    "    loaded_model.load_weights(fpath + \".h5\")\n",
    "    print(\"Loaded model and weights from \" + fpath)\n",
    "    return loaded_model"
   ]
  },
  {
   "cell_type": "code",
   "execution_count": 9,
   "metadata": {},
   "outputs": [],
   "source": [
    "def analyze_features(all_data, all_labels):\n",
    "    #seeking only the numeric features from the data\n",
    "    numeric_features = all_data.select_dtypes(include = [np.number])\n",
    "    print(numeric_features.dtypes)\n",
    "    corr = numeric_features.corr()\n",
    "    print(corr)\n",
    "#     print(corr['SalePrice'].sort_values(ascending = False)[:5], '\\n')\n",
    "#     print(corr['SalePrice'].sort_values(ascending = False)[-5:])"
   ]
  },
  {
   "cell_type": "code",
   "execution_count": 10,
   "metadata": {},
   "outputs": [],
   "source": [
    "def plot_history(history = None):\n",
    "    if not history:\n",
    "        print(\"No history to plot\")\n",
    "        return\n",
    "    fig = plt.figure(figsize=(10,8))\n",
    "    plt.plot(history.history['loss'], label=\"Loss\")\n",
    "    plt.plot(history.history['accuracy'], label=\"Accuracy\")\n",
    "    plt.axis([0,90,0,np.max(history.history['accuracy'])])\n",
    "    plt.title(\"Accuracy and Loss vs Epoch\")\n",
    "    plt.xlabel(\"Epoch\")\n",
    "    plt.ylabel(\"Percentage\")\n",
    "    plt.legend()\n",
    "    plt.show()"
   ]
  },
  {
   "cell_type": "code",
   "execution_count": 11,
   "metadata": {},
   "outputs": [],
   "source": [
    "def plot_confusion_matrix(cm):\n",
    "    fig, ax = plt.subplots()\n",
    "    im = ax.imshow(cm, interpolation='nearest', cmap=plt.cm.Blues)\n",
    "    ax.figure.colorbar(im, ax=ax)\n",
    "    # We want to show all ticks...\n",
    "    ax.set(xticks=np.arange(cm.shape[1]),\n",
    "           yticks=np.arange(cm.shape[0]),\n",
    "           # ... and label them with the respective list entries\n",
    "           xticklabels=classes,\n",
    "           yticklabels=classes,\n",
    "           title=\"Confusion Matrix\",\n",
    "           ylabel='True label',\n",
    "           xlabel='Predicted label')\n",
    "    ax.set_ylim(len(classes)-0.5, -0.5)\n",
    "    ax.set_aspect('auto')\n",
    "\n",
    "    # Rotate the tick labels and set their alignment.\n",
    "    plt.setp(ax.get_xticklabels(), rotation=45, ha=\"right\", rotation_mode=\"anchor\")\n",
    "\n",
    "    # Loop over data dimensions and create text annotations.\n",
    "    thresh = cm.max() / 2.\n",
    "    for i in range(cm.shape[0]):\n",
    "        for j in range(cm.shape[1]):\n",
    "            ax.text(j, i, format(cm[i, j], 'd'),\n",
    "                    ha=\"center\", va=\"center\",\n",
    "                    color=\"white\" if cm[i, j] > thresh else \"black\")\n",
    "\n",
    "    plt.grid(None)\n",
    "    plt.show()"
   ]
  },
  {
   "cell_type": "code",
   "execution_count": 12,
   "metadata": {
    "scrolled": false
   },
   "outputs": [
    {
     "name": "stdout",
     "output_type": "stream",
     "text": [
      "loading Ultrasound8k\n",
      "./data/UrbanSound8K 2 3 0\n",
      "./data/UrbanSound8K\\audio 10 1 0\n",
      "./data/UrbanSound8K\\audio\\fold1 0 874 0\n",
      "0\n",
      "100\n",
      "200\n",
      "300\n",
      "400\n",
      "500\n",
      "600\n",
      "700\n",
      "800\n",
      "./data/UrbanSound8K\\audio\\fold10 0 838 873\n"
     ]
    }
   ],
   "source": [
    "all_data, all_labels = load_all_wav_files(load_urbansound_data,\n",
    "                                          load_birds_data,\n",
    "                                          load_kaggle_data)\n",
    "# np.savetxt(\"data/temp_all_data.txt\", all_data)\n",
    "# np.savetxt(\"data/temp_all_labels.txt\", all_labels)"
   ]
  },
  {
   "cell_type": "code",
   "execution_count": 20,
   "metadata": {},
   "outputs": [],
   "source": [
    "# analyze_features(all_data, all_labels)\n",
    "# all_data = np.loadtxt(\"data/temp_all_data.txt\")\n",
    "# all_labels = np.loadtxt(\"data/temp_all_labels.txt\")"
   ]
  },
  {
   "cell_type": "code",
   "execution_count": 14,
   "metadata": {},
   "outputs": [
    {
     "name": "stdout",
     "output_type": "stream",
     "text": [
      "(873, 187)\n",
      "['siren', 'jackhammer', 'dog_bark', 'drilling', 'car_horn', 'street_music', 'air_conditioner', 'children_playing', 'engine_idling', 'gun_shot']\n"
     ]
    }
   ],
   "source": [
    "print(all_data.shape)\n",
    "classes = list(set(all_labels)) # classes = unique list of labels\n",
    "n_classes = len(classes)\n",
    "numeric_labels = np.array([classes.index(label) for label in all_labels]) # labels by index\n",
    "print(classes)"
   ]
  },
  {
   "cell_type": "code",
   "execution_count": 15,
   "metadata": {},
   "outputs": [],
   "source": [
    "x_train, x_test, y_train, y_test = sk.model_selection.train_test_split(all_data, numeric_labels, test_size=test_size, shuffle=True)"
   ]
  },
  {
   "cell_type": "code",
   "execution_count": 16,
   "metadata": {},
   "outputs": [
    {
     "name": "stdout",
     "output_type": "stream",
     "text": [
      "(698, 187)\n",
      "(698,)\n",
      "(175, 187)\n",
      "(175,)\n"
     ]
    }
   ],
   "source": [
    "print(x_train.shape)\n",
    "print(y_train.shape)\n",
    "print(x_test.shape)\n",
    "print(y_test.shape)"
   ]
  },
  {
   "cell_type": "code",
   "execution_count": 23,
   "metadata": {},
   "outputs": [],
   "source": [
    "x_train_torch = torch.from_numpy(x_train).to(device)\n",
    "y_train_torch = torch.from_numpy(y_train).to(device)\n",
    "\n",
    "train_dataset = torch.utils.data.TensorDataset(x_train_torch, y_train_torch)\n",
    "train_loader = torch.utils.data.DataLoader(train_dataset, batch_size=10)"
   ]
  },
  {
   "cell_type": "code",
   "execution_count": 25,
   "metadata": {},
   "outputs": [],
   "source": [
    "# model = models.Sequential()\n",
    "# model.add(layers.Dense(256, activation='relu', input_shape=(x_train.shape[1],)))\n",
    "# model.add(layers.Dense(128, activation='relu'))\n",
    "# model.add(layers.Dense(64, activation='relu'))\n",
    "# model.add(layers.Dense(n_classes, activation='softmax'))\n",
    "model = torch.nn.Sequential(\n",
    "          torch.nn.Conv2d(x_train.shape[1], 256, 5),\n",
    "          torch.nn.ReLU(),\n",
    "          torch.nn.Conv2d(256, 128, 5),\n",
    "          torch.nn.ReLU(),\n",
    "          torch.nn.Conv2d(128, 64, 5),\n",
    "          torch.nn.ReLU(),\n",
    "          torch.nn.Conv2d(64, n_classes, 5)\n",
    "        ).to(device)\n",
    "\n",
    "criterion = torch.nn.CrossEntropyLoss()\n",
    "optimizer = torch.optim.SGD(model.parameters(), lr=0.001, momentum=0.9)"
   ]
  },
  {
   "cell_type": "code",
   "execution_count": 28,
   "metadata": {},
   "outputs": [
    {
     "ename": "RuntimeError",
     "evalue": "Expected 4-dimensional input for 4-dimensional weight [256, 187, 5, 5], but got 2-dimensional input of size [1, 187] instead",
     "output_type": "error",
     "traceback": [
      "\u001b[1;31m---------------------------------------------------------------------------\u001b[0m",
      "\u001b[1;31mRuntimeError\u001b[0m                              Traceback (most recent call last)",
      "\u001b[1;32m<ipython-input-28-31226870ac18>\u001b[0m in \u001b[0;36m<module>\u001b[1;34m\u001b[0m\n\u001b[0;32m     12\u001b[0m \u001b[1;33m\u001b[0m\u001b[0m\n\u001b[0;32m     13\u001b[0m         \u001b[1;31m# forward + backward + optimize\u001b[0m\u001b[1;33m\u001b[0m\u001b[1;33m\u001b[0m\u001b[1;33m\u001b[0m\u001b[0m\n\u001b[1;32m---> 14\u001b[1;33m         \u001b[0moutputs\u001b[0m \u001b[1;33m=\u001b[0m \u001b[0mmodel\u001b[0m\u001b[1;33m(\u001b[0m\u001b[0minputs\u001b[0m\u001b[1;33m)\u001b[0m\u001b[1;33m\u001b[0m\u001b[1;33m\u001b[0m\u001b[0m\n\u001b[0m\u001b[0;32m     15\u001b[0m         \u001b[0mloss\u001b[0m \u001b[1;33m=\u001b[0m \u001b[0mcriterion\u001b[0m\u001b[1;33m(\u001b[0m\u001b[0moutputs\u001b[0m\u001b[1;33m,\u001b[0m \u001b[0mlabels\u001b[0m\u001b[1;33m)\u001b[0m\u001b[1;33m\u001b[0m\u001b[1;33m\u001b[0m\u001b[0m\n\u001b[0;32m     16\u001b[0m         \u001b[0mloss\u001b[0m\u001b[1;33m.\u001b[0m\u001b[0mbackward\u001b[0m\u001b[1;33m(\u001b[0m\u001b[1;33m)\u001b[0m\u001b[1;33m\u001b[0m\u001b[1;33m\u001b[0m\u001b[0m\n",
      "\u001b[1;32m~\\AppData\\Roaming\\Python\\Python37\\site-packages\\torch\\nn\\modules\\module.py\u001b[0m in \u001b[0;36m__call__\u001b[1;34m(self, *input, **kwargs)\u001b[0m\n\u001b[0;32m    487\u001b[0m             \u001b[0mresult\u001b[0m \u001b[1;33m=\u001b[0m \u001b[0mself\u001b[0m\u001b[1;33m.\u001b[0m\u001b[0m_slow_forward\u001b[0m\u001b[1;33m(\u001b[0m\u001b[1;33m*\u001b[0m\u001b[0minput\u001b[0m\u001b[1;33m,\u001b[0m \u001b[1;33m**\u001b[0m\u001b[0mkwargs\u001b[0m\u001b[1;33m)\u001b[0m\u001b[1;33m\u001b[0m\u001b[1;33m\u001b[0m\u001b[0m\n\u001b[0;32m    488\u001b[0m         \u001b[1;32melse\u001b[0m\u001b[1;33m:\u001b[0m\u001b[1;33m\u001b[0m\u001b[1;33m\u001b[0m\u001b[0m\n\u001b[1;32m--> 489\u001b[1;33m             \u001b[0mresult\u001b[0m \u001b[1;33m=\u001b[0m \u001b[0mself\u001b[0m\u001b[1;33m.\u001b[0m\u001b[0mforward\u001b[0m\u001b[1;33m(\u001b[0m\u001b[1;33m*\u001b[0m\u001b[0minput\u001b[0m\u001b[1;33m,\u001b[0m \u001b[1;33m**\u001b[0m\u001b[0mkwargs\u001b[0m\u001b[1;33m)\u001b[0m\u001b[1;33m\u001b[0m\u001b[1;33m\u001b[0m\u001b[0m\n\u001b[0m\u001b[0;32m    490\u001b[0m         \u001b[1;32mfor\u001b[0m \u001b[0mhook\u001b[0m \u001b[1;32min\u001b[0m \u001b[0mself\u001b[0m\u001b[1;33m.\u001b[0m\u001b[0m_forward_hooks\u001b[0m\u001b[1;33m.\u001b[0m\u001b[0mvalues\u001b[0m\u001b[1;33m(\u001b[0m\u001b[1;33m)\u001b[0m\u001b[1;33m:\u001b[0m\u001b[1;33m\u001b[0m\u001b[1;33m\u001b[0m\u001b[0m\n\u001b[0;32m    491\u001b[0m             \u001b[0mhook_result\u001b[0m \u001b[1;33m=\u001b[0m \u001b[0mhook\u001b[0m\u001b[1;33m(\u001b[0m\u001b[0mself\u001b[0m\u001b[1;33m,\u001b[0m \u001b[0minput\u001b[0m\u001b[1;33m,\u001b[0m \u001b[0mresult\u001b[0m\u001b[1;33m)\u001b[0m\u001b[1;33m\u001b[0m\u001b[1;33m\u001b[0m\u001b[0m\n",
      "\u001b[1;32m~\\AppData\\Roaming\\Python\\Python37\\site-packages\\torch\\nn\\modules\\container.py\u001b[0m in \u001b[0;36mforward\u001b[1;34m(self, input)\u001b[0m\n\u001b[0;32m     90\u001b[0m     \u001b[1;32mdef\u001b[0m \u001b[0mforward\u001b[0m\u001b[1;33m(\u001b[0m\u001b[0mself\u001b[0m\u001b[1;33m,\u001b[0m \u001b[0minput\u001b[0m\u001b[1;33m)\u001b[0m\u001b[1;33m:\u001b[0m\u001b[1;33m\u001b[0m\u001b[1;33m\u001b[0m\u001b[0m\n\u001b[0;32m     91\u001b[0m         \u001b[1;32mfor\u001b[0m \u001b[0mmodule\u001b[0m \u001b[1;32min\u001b[0m \u001b[0mself\u001b[0m\u001b[1;33m.\u001b[0m\u001b[0m_modules\u001b[0m\u001b[1;33m.\u001b[0m\u001b[0mvalues\u001b[0m\u001b[1;33m(\u001b[0m\u001b[1;33m)\u001b[0m\u001b[1;33m:\u001b[0m\u001b[1;33m\u001b[0m\u001b[1;33m\u001b[0m\u001b[0m\n\u001b[1;32m---> 92\u001b[1;33m             \u001b[0minput\u001b[0m \u001b[1;33m=\u001b[0m \u001b[0mmodule\u001b[0m\u001b[1;33m(\u001b[0m\u001b[0minput\u001b[0m\u001b[1;33m)\u001b[0m\u001b[1;33m\u001b[0m\u001b[1;33m\u001b[0m\u001b[0m\n\u001b[0m\u001b[0;32m     93\u001b[0m         \u001b[1;32mreturn\u001b[0m \u001b[0minput\u001b[0m\u001b[1;33m\u001b[0m\u001b[1;33m\u001b[0m\u001b[0m\n\u001b[0;32m     94\u001b[0m \u001b[1;33m\u001b[0m\u001b[0m\n",
      "\u001b[1;32m~\\AppData\\Roaming\\Python\\Python37\\site-packages\\torch\\nn\\modules\\module.py\u001b[0m in \u001b[0;36m__call__\u001b[1;34m(self, *input, **kwargs)\u001b[0m\n\u001b[0;32m    487\u001b[0m             \u001b[0mresult\u001b[0m \u001b[1;33m=\u001b[0m \u001b[0mself\u001b[0m\u001b[1;33m.\u001b[0m\u001b[0m_slow_forward\u001b[0m\u001b[1;33m(\u001b[0m\u001b[1;33m*\u001b[0m\u001b[0minput\u001b[0m\u001b[1;33m,\u001b[0m \u001b[1;33m**\u001b[0m\u001b[0mkwargs\u001b[0m\u001b[1;33m)\u001b[0m\u001b[1;33m\u001b[0m\u001b[1;33m\u001b[0m\u001b[0m\n\u001b[0;32m    488\u001b[0m         \u001b[1;32melse\u001b[0m\u001b[1;33m:\u001b[0m\u001b[1;33m\u001b[0m\u001b[1;33m\u001b[0m\u001b[0m\n\u001b[1;32m--> 489\u001b[1;33m             \u001b[0mresult\u001b[0m \u001b[1;33m=\u001b[0m \u001b[0mself\u001b[0m\u001b[1;33m.\u001b[0m\u001b[0mforward\u001b[0m\u001b[1;33m(\u001b[0m\u001b[1;33m*\u001b[0m\u001b[0minput\u001b[0m\u001b[1;33m,\u001b[0m \u001b[1;33m**\u001b[0m\u001b[0mkwargs\u001b[0m\u001b[1;33m)\u001b[0m\u001b[1;33m\u001b[0m\u001b[1;33m\u001b[0m\u001b[0m\n\u001b[0m\u001b[0;32m    490\u001b[0m         \u001b[1;32mfor\u001b[0m \u001b[0mhook\u001b[0m \u001b[1;32min\u001b[0m \u001b[0mself\u001b[0m\u001b[1;33m.\u001b[0m\u001b[0m_forward_hooks\u001b[0m\u001b[1;33m.\u001b[0m\u001b[0mvalues\u001b[0m\u001b[1;33m(\u001b[0m\u001b[1;33m)\u001b[0m\u001b[1;33m:\u001b[0m\u001b[1;33m\u001b[0m\u001b[1;33m\u001b[0m\u001b[0m\n\u001b[0;32m    491\u001b[0m             \u001b[0mhook_result\u001b[0m \u001b[1;33m=\u001b[0m \u001b[0mhook\u001b[0m\u001b[1;33m(\u001b[0m\u001b[0mself\u001b[0m\u001b[1;33m,\u001b[0m \u001b[0minput\u001b[0m\u001b[1;33m,\u001b[0m \u001b[0mresult\u001b[0m\u001b[1;33m)\u001b[0m\u001b[1;33m\u001b[0m\u001b[1;33m\u001b[0m\u001b[0m\n",
      "\u001b[1;32m~\\AppData\\Roaming\\Python\\Python37\\site-packages\\torch\\nn\\modules\\conv.py\u001b[0m in \u001b[0;36mforward\u001b[1;34m(self, input)\u001b[0m\n\u001b[0;32m    318\u001b[0m     \u001b[1;32mdef\u001b[0m \u001b[0mforward\u001b[0m\u001b[1;33m(\u001b[0m\u001b[0mself\u001b[0m\u001b[1;33m,\u001b[0m \u001b[0minput\u001b[0m\u001b[1;33m)\u001b[0m\u001b[1;33m:\u001b[0m\u001b[1;33m\u001b[0m\u001b[1;33m\u001b[0m\u001b[0m\n\u001b[0;32m    319\u001b[0m         return F.conv2d(input, self.weight, self.bias, self.stride,\n\u001b[1;32m--> 320\u001b[1;33m                         self.padding, self.dilation, self.groups)\n\u001b[0m\u001b[0;32m    321\u001b[0m \u001b[1;33m\u001b[0m\u001b[0m\n\u001b[0;32m    322\u001b[0m \u001b[1;33m\u001b[0m\u001b[0m\n",
      "\u001b[1;31mRuntimeError\u001b[0m: Expected 4-dimensional input for 4-dimensional weight [256, 187, 5, 5], but got 2-dimensional input of size [1, 187] instead"
     ]
    }
   ],
   "source": [
    "for epoch in range(epochs):  # loop over the dataset multiple times\n",
    "    running_loss = 0.0\n",
    "    for i, data in enumerate(train_loader, 0):\n",
    "        # get the inputs\n",
    "        inputs, labels = data\n",
    "        inputs = inputs.to(device)\n",
    "        labels = labels.to(device)\n",
    "\n",
    "        # zero the parameter gradients\n",
    "        optimizer.zero_grad()\n",
    "\n",
    "        # forward + backward + optimize\n",
    "        outputs = model(inputs)\n",
    "        loss = criterion(outputs, labels)\n",
    "        loss.backward()\n",
    "        optimizer.step()\n",
    "\n",
    "        # print statistics\n",
    "        running_loss += loss.item()\n",
    "        if i % 2000 == 1999:    # print every 2000 mini-batches\n",
    "            print('[%d, %5d] loss: %.3f' %\n",
    "                  (epoch + 1, i + 1, running_loss / 2000))\n",
    "            running_loss = 0.0"
   ]
  },
  {
   "cell_type": "code",
   "execution_count": null,
   "metadata": {},
   "outputs": [],
   "source": [
    "# class Net(torch.nn.Module):\n",
    "#     def __init__(self):\n",
    "#         super(Net, self).__init__()\n",
    "#         self.conv1 = torch.nn.Conv2d(3, 6, 5) # 6x28x28\n",
    "#         self.pool = torch.nn.MaxPool2d(2, 2) # 6x14x14 1st time, 16x5x5 2nd time\n",
    "#         self.conv2 = torch.nn.Conv2d(6, 16, 5) # 16x10x10\n",
    "#         self.fc1 = torch.nn.Linear(16 * 5 * 5, 120)\n",
    "#         self.fc2 = torch.nn.Linear(120, 84)\n",
    "#         self.fc3 = torch.nn.Linear(84, 10)\n",
    "\n",
    "#     def forward(self, x):\n",
    "#         x = self.pool(torch_func.relu(self.conv1(x))) # 1st Conv. Layer + kernel\n",
    "#         x = self.pool(torch_func.relu(self.conv2(x))) # 2nd Conv. Layer + kernel\n",
    "#         x = x.view(-1, 16 * 5 * 5) \n",
    "#         x = torch_func.relu(self.fc1(x))\n",
    "#         x = torch_func.relu(self.fc2(x))\n",
    "#         x = self.fc3(x)\n",
    "#         return x\n",
    "    \n",
    "# net = Net()\n",
    "# if torch.cuda.is_available():\n",
    "#     net.to(device)"
   ]
  },
  {
   "cell_type": "code",
   "execution_count": 16,
   "metadata": {},
   "outputs": [],
   "source": [
    "# model = None\n",
    "# if load_model_file:\n",
    "# #     loaded_model_json = None\n",
    "# #     fpath = os.path.join(\"model\", load_model_file)\n",
    "# #     with open(fpath + \".json\", 'r') as json_file:\n",
    "# #         loaded_model_json = json_file.read()\n",
    "# #     model = models.model_from_json(loaded_model_json)\n",
    "# #     # load weights into new model\n",
    "# #     model.load_weights(fpath + \".h5\")\n",
    "#     model = load_model(load_model_file)\n",
    "# else:\n",
    "#     model = models.Sequential()\n",
    "#     model.add(layers.Dense(256, activation='relu', input_shape=(x_train.shape[1],)))\n",
    "#     model.add(layers.Dense(128, activation='relu'))\n",
    "#     model.add(layers.Dense(64, activation='relu'))\n",
    "#     model.add(layers.Dense(n_classes, activation='softmax'))\n",
    "\n",
    "model = models.Sequential()\n",
    "model.add(layers.Dense(256, activation='relu', input_shape=(x_train.shape[1],)))\n",
    "model.add(layers.Dense(128, activation='relu'))\n",
    "model.add(layers.Dense(64, activation='relu'))\n",
    "model.add(layers.Dense(n_classes, activation='softmax'))\n",
    "\n",
    "if load_model_file:\n",
    "    fpath = os.path.join(\"model\", load_model_file)\n",
    "    model.load_weights(fpath + \".h5\")\n",
    "    \n",
    "model.compile(optimizer=optimizer,\n",
    "              loss='sparse_categorical_crossentropy',\n",
    "              metrics=['accuracy'])"
   ]
  },
  {
   "cell_type": "code",
   "execution_count": 17,
   "metadata": {},
   "outputs": [],
   "source": [
    "history = None\n",
    "if not load_model_file:\n",
    "    history = model.fit(x_train, y_train, epochs=epochs, batch_size=10)"
   ]
  },
  {
   "cell_type": "code",
   "execution_count": 18,
   "metadata": {},
   "outputs": [
    {
     "name": "stdout",
     "output_type": "stream",
     "text": [
      "175/175 [==============================] - 0s 1ms/step\n",
      "test_acc:  0.0\n"
     ]
    }
   ],
   "source": [
    "test_loss, test_acc = model.evaluate(x_test, y_test)\n",
    "print('test_acc: ',test_acc)"
   ]
  },
  {
   "cell_type": "code",
   "execution_count": 19,
   "metadata": {},
   "outputs": [],
   "source": [
    "if not load_model_file and save_model_file:\n",
    "    save_model(model, save_model_file)"
   ]
  },
  {
   "cell_type": "code",
   "execution_count": 20,
   "metadata": {},
   "outputs": [],
   "source": [
    "y_pred_percentages = model.predict(x_test) # predicted percentages\n",
    "\n",
    "y_pred = np.argmax(y_pred_percentages, axis=1) # Most prevalent prediction\n",
    "\n",
    "cm = confusion_matrix(y_test, y_pred)"
   ]
  },
  {
   "cell_type": "code",
   "execution_count": 21,
   "metadata": {
    "scrolled": true
   },
   "outputs": [
    {
     "data": {
      "image/png": "[encoded data removed]",
      "text/plain": [
       "<Figure size 432x288 with 2 Axes>"
      ]
     },
     "metadata": {
      "needs_background": "light"
     },
     "output_type": "display_data"
    }
   ],
   "source": [
    "plot_confusion_matrix(cm)"
   ]
  },
  {
   "cell_type": "code",
   "execution_count": 22,
   "metadata": {},
   "outputs": [
    {
     "name": "stdout",
     "output_type": "stream",
     "text": [
      "No history to plot\n"
     ]
    }
   ],
   "source": [
    "plot_history(history)"
   ]
  },
  {
   "cell_type": "code",
   "execution_count": null,
   "metadata": {},
   "outputs": [],
   "source": []
  }
 ],
 "metadata": {
  "kernelspec": {
   "display_name": "Python 3",
   "language": "python",
   "name": "python3"
  },
  "language_info": {
   "codemirror_mode": {
    "name": "ipython",
    "version": 3
   },
   "file_extension": ".py",
   "mimetype": "text/x-python",
   "name": "python",
   "nbconvert_exporter": "python",
   "pygments_lexer": "ipython3",
   "version": "3.7.4"
  }
 },
 "nbformat": 4,
 "nbformat_minor": 2
}
