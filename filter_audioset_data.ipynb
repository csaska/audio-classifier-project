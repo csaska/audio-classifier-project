{
 "cells": [
  {
   "cell_type": "code",
   "execution_count": 1,
   "metadata": {
    "collapsed": true
   },
   "outputs": [],
   "source": [
    "import sys\n",
    "import subprocess\n",
    "import pandas as pd"
   ]
  },
  {
   "cell_type": "code",
   "execution_count": 2,
   "metadata": {},
   "outputs": [
    {
     "ename": "FileNotFoundError",
     "evalue": "File b'data/class_labels_indices.csv' does not exist",
     "output_type": "error",
     "traceback": [
      "\u001b[0;31m---------------------------------------------------------------------------\u001b[0m",
      "\u001b[0;31mFileNotFoundError\u001b[0m                         Traceback (most recent call last)",
      "\u001b[0;32m<ipython-input-2-9cf11f3babc7>\u001b[0m in \u001b[0;36m<module>\u001b[0;34m()\u001b[0m\n\u001b[0;32m----> 1\u001b[0;31m \u001b[0maudioset_labels\u001b[0m \u001b[0;34m=\u001b[0m \u001b[0mpd\u001b[0m\u001b[0;34m.\u001b[0m\u001b[0mread_csv\u001b[0m\u001b[0;34m(\u001b[0m\u001b[0;34m\"data/class_labels_indices.csv\"\u001b[0m\u001b[0;34m)\u001b[0m\u001b[0;34m\u001b[0m\u001b[0m\n\u001b[0m\u001b[1;32m      2\u001b[0m \u001b[0;31m# audioset_unbal_train_df = pd.read_csv(\"data/audioset/unbalanced_train_segments.csv\")\u001b[0m\u001b[0;34m\u001b[0m\u001b[0;34m\u001b[0m\u001b[0m\n\u001b[1;32m      3\u001b[0m \u001b[0maudioset_bal_train\u001b[0m \u001b[0;34m=\u001b[0m \u001b[0mpd\u001b[0m\u001b[0;34m.\u001b[0m\u001b[0mread_csv\u001b[0m\u001b[0;34m(\u001b[0m\u001b[0;34m\"data/balanced_train_segments-edited.csv\"\u001b[0m\u001b[0;34m)\u001b[0m\u001b[0;34m\u001b[0m\u001b[0m\n\u001b[1;32m      4\u001b[0m \u001b[0maudioset_eval\u001b[0m \u001b[0;34m=\u001b[0m \u001b[0mpd\u001b[0m\u001b[0;34m.\u001b[0m\u001b[0mread_csv\u001b[0m\u001b[0;34m(\u001b[0m\u001b[0;34m\"data/eval_segments-edited.csv\"\u001b[0m\u001b[0;34m)\u001b[0m\u001b[0;34m\u001b[0m\u001b[0m\n",
      "\u001b[0;32m~/miniconda3/envs/tf.1.15/lib/python3.6/site-packages/pandas/io/parsers.py\u001b[0m in \u001b[0;36mparser_f\u001b[0;34m(filepath_or_buffer, sep, delimiter, header, names, index_col, usecols, squeeze, prefix, mangle_dupe_cols, dtype, engine, converters, true_values, false_values, skipinitialspace, skiprows, nrows, na_values, keep_default_na, na_filter, verbose, skip_blank_lines, parse_dates, infer_datetime_format, keep_date_col, date_parser, dayfirst, iterator, chunksize, compression, thousands, decimal, lineterminator, quotechar, quoting, escapechar, comment, encoding, dialect, tupleize_cols, error_bad_lines, warn_bad_lines, skipfooter, skip_footer, doublequote, delim_whitespace, as_recarray, compact_ints, use_unsigned, low_memory, buffer_lines, memory_map, float_precision)\u001b[0m\n\u001b[1;32m    653\u001b[0m                     skip_blank_lines=skip_blank_lines)\n\u001b[1;32m    654\u001b[0m \u001b[0;34m\u001b[0m\u001b[0m\n\u001b[0;32m--> 655\u001b[0;31m         \u001b[0;32mreturn\u001b[0m \u001b[0m_read\u001b[0m\u001b[0;34m(\u001b[0m\u001b[0mfilepath_or_buffer\u001b[0m\u001b[0;34m,\u001b[0m \u001b[0mkwds\u001b[0m\u001b[0;34m)\u001b[0m\u001b[0;34m\u001b[0m\u001b[0m\n\u001b[0m\u001b[1;32m    656\u001b[0m \u001b[0;34m\u001b[0m\u001b[0m\n\u001b[1;32m    657\u001b[0m     \u001b[0mparser_f\u001b[0m\u001b[0;34m.\u001b[0m\u001b[0m__name__\u001b[0m \u001b[0;34m=\u001b[0m \u001b[0mname\u001b[0m\u001b[0;34m\u001b[0m\u001b[0m\n",
      "\u001b[0;32m~/miniconda3/envs/tf.1.15/lib/python3.6/site-packages/pandas/io/parsers.py\u001b[0m in \u001b[0;36m_read\u001b[0;34m(filepath_or_buffer, kwds)\u001b[0m\n\u001b[1;32m    403\u001b[0m \u001b[0;34m\u001b[0m\u001b[0m\n\u001b[1;32m    404\u001b[0m     \u001b[0;31m# Create the parser.\u001b[0m\u001b[0;34m\u001b[0m\u001b[0;34m\u001b[0m\u001b[0m\n\u001b[0;32m--> 405\u001b[0;31m     \u001b[0mparser\u001b[0m \u001b[0;34m=\u001b[0m \u001b[0mTextFileReader\u001b[0m\u001b[0;34m(\u001b[0m\u001b[0mfilepath_or_buffer\u001b[0m\u001b[0;34m,\u001b[0m \u001b[0;34m**\u001b[0m\u001b[0mkwds\u001b[0m\u001b[0;34m)\u001b[0m\u001b[0;34m\u001b[0m\u001b[0m\n\u001b[0m\u001b[1;32m    406\u001b[0m \u001b[0;34m\u001b[0m\u001b[0m\n\u001b[1;32m    407\u001b[0m     \u001b[0;32mif\u001b[0m \u001b[0mchunksize\u001b[0m \u001b[0;32mor\u001b[0m \u001b[0miterator\u001b[0m\u001b[0;34m:\u001b[0m\u001b[0;34m\u001b[0m\u001b[0m\n",
      "\u001b[0;32m~/miniconda3/envs/tf.1.15/lib/python3.6/site-packages/pandas/io/parsers.py\u001b[0m in \u001b[0;36m__init__\u001b[0;34m(self, f, engine, **kwds)\u001b[0m\n\u001b[1;32m    762\u001b[0m             \u001b[0mself\u001b[0m\u001b[0;34m.\u001b[0m\u001b[0moptions\u001b[0m\u001b[0;34m[\u001b[0m\u001b[0;34m'has_index_names'\u001b[0m\u001b[0;34m]\u001b[0m \u001b[0;34m=\u001b[0m \u001b[0mkwds\u001b[0m\u001b[0;34m[\u001b[0m\u001b[0;34m'has_index_names'\u001b[0m\u001b[0;34m]\u001b[0m\u001b[0;34m\u001b[0m\u001b[0m\n\u001b[1;32m    763\u001b[0m \u001b[0;34m\u001b[0m\u001b[0m\n\u001b[0;32m--> 764\u001b[0;31m         \u001b[0mself\u001b[0m\u001b[0;34m.\u001b[0m\u001b[0m_make_engine\u001b[0m\u001b[0;34m(\u001b[0m\u001b[0mself\u001b[0m\u001b[0;34m.\u001b[0m\u001b[0mengine\u001b[0m\u001b[0;34m)\u001b[0m\u001b[0;34m\u001b[0m\u001b[0m\n\u001b[0m\u001b[1;32m    765\u001b[0m \u001b[0;34m\u001b[0m\u001b[0m\n\u001b[1;32m    766\u001b[0m     \u001b[0;32mdef\u001b[0m \u001b[0mclose\u001b[0m\u001b[0;34m(\u001b[0m\u001b[0mself\u001b[0m\u001b[0;34m)\u001b[0m\u001b[0;34m:\u001b[0m\u001b[0;34m\u001b[0m\u001b[0m\n",
      "\u001b[0;32m~/miniconda3/envs/tf.1.15/lib/python3.6/site-packages/pandas/io/parsers.py\u001b[0m in \u001b[0;36m_make_engine\u001b[0;34m(self, engine)\u001b[0m\n\u001b[1;32m    983\u001b[0m     \u001b[0;32mdef\u001b[0m \u001b[0m_make_engine\u001b[0m\u001b[0;34m(\u001b[0m\u001b[0mself\u001b[0m\u001b[0;34m,\u001b[0m \u001b[0mengine\u001b[0m\u001b[0;34m=\u001b[0m\u001b[0;34m'c'\u001b[0m\u001b[0;34m)\u001b[0m\u001b[0;34m:\u001b[0m\u001b[0;34m\u001b[0m\u001b[0m\n\u001b[1;32m    984\u001b[0m         \u001b[0;32mif\u001b[0m \u001b[0mengine\u001b[0m \u001b[0;34m==\u001b[0m \u001b[0;34m'c'\u001b[0m\u001b[0;34m:\u001b[0m\u001b[0;34m\u001b[0m\u001b[0m\n\u001b[0;32m--> 985\u001b[0;31m             \u001b[0mself\u001b[0m\u001b[0;34m.\u001b[0m\u001b[0m_engine\u001b[0m \u001b[0;34m=\u001b[0m \u001b[0mCParserWrapper\u001b[0m\u001b[0;34m(\u001b[0m\u001b[0mself\u001b[0m\u001b[0;34m.\u001b[0m\u001b[0mf\u001b[0m\u001b[0;34m,\u001b[0m \u001b[0;34m**\u001b[0m\u001b[0mself\u001b[0m\u001b[0;34m.\u001b[0m\u001b[0moptions\u001b[0m\u001b[0;34m)\u001b[0m\u001b[0;34m\u001b[0m\u001b[0m\n\u001b[0m\u001b[1;32m    986\u001b[0m         \u001b[0;32melse\u001b[0m\u001b[0;34m:\u001b[0m\u001b[0;34m\u001b[0m\u001b[0m\n\u001b[1;32m    987\u001b[0m             \u001b[0;32mif\u001b[0m \u001b[0mengine\u001b[0m \u001b[0;34m==\u001b[0m \u001b[0;34m'python'\u001b[0m\u001b[0;34m:\u001b[0m\u001b[0;34m\u001b[0m\u001b[0m\n",
      "\u001b[0;32m~/miniconda3/envs/tf.1.15/lib/python3.6/site-packages/pandas/io/parsers.py\u001b[0m in \u001b[0;36m__init__\u001b[0;34m(self, src, **kwds)\u001b[0m\n\u001b[1;32m   1603\u001b[0m         \u001b[0mkwds\u001b[0m\u001b[0;34m[\u001b[0m\u001b[0;34m'allow_leading_cols'\u001b[0m\u001b[0;34m]\u001b[0m \u001b[0;34m=\u001b[0m \u001b[0mself\u001b[0m\u001b[0;34m.\u001b[0m\u001b[0mindex_col\u001b[0m \u001b[0;32mis\u001b[0m \u001b[0;32mnot\u001b[0m \u001b[0;32mFalse\u001b[0m\u001b[0;34m\u001b[0m\u001b[0m\n\u001b[1;32m   1604\u001b[0m \u001b[0;34m\u001b[0m\u001b[0m\n\u001b[0;32m-> 1605\u001b[0;31m         \u001b[0mself\u001b[0m\u001b[0;34m.\u001b[0m\u001b[0m_reader\u001b[0m \u001b[0;34m=\u001b[0m \u001b[0mparsers\u001b[0m\u001b[0;34m.\u001b[0m\u001b[0mTextReader\u001b[0m\u001b[0;34m(\u001b[0m\u001b[0msrc\u001b[0m\u001b[0;34m,\u001b[0m \u001b[0;34m**\u001b[0m\u001b[0mkwds\u001b[0m\u001b[0;34m)\u001b[0m\u001b[0;34m\u001b[0m\u001b[0m\n\u001b[0m\u001b[1;32m   1606\u001b[0m \u001b[0;34m\u001b[0m\u001b[0m\n\u001b[1;32m   1607\u001b[0m         \u001b[0;31m# XXX\u001b[0m\u001b[0;34m\u001b[0m\u001b[0;34m\u001b[0m\u001b[0m\n",
      "\u001b[0;32mpandas/_libs/parsers.pyx\u001b[0m in \u001b[0;36mpandas._libs.parsers.TextReader.__cinit__ (pandas/_libs/parsers.c:4209)\u001b[0;34m()\u001b[0m\n",
      "\u001b[0;32mpandas/_libs/parsers.pyx\u001b[0m in \u001b[0;36mpandas._libs.parsers.TextReader._setup_parser_source (pandas/_libs/parsers.c:8873)\u001b[0;34m()\u001b[0m\n",
      "\u001b[0;31mFileNotFoundError\u001b[0m: File b'data/class_labels_indices.csv' does not exist"
     ]
    }
   ],
   "source": [
    "audioset_labels = pd.read_csv(\"data/class_labels_indices.csv\")\n",
    "# audioset_unbal_train_df = pd.read_csv(\"data/audioset/unbalanced_train_segments.csv\")\n",
    "audioset_bal_train = pd.read_csv(\"data/balanced_train_segments-edited.csv\")\n",
    "audioset_eval = pd.read_csv(\"data/eval_segments-edited.csv\")"
   ]
  },
  {
   "cell_type": "code",
   "execution_count": 62,
   "metadata": {
    "collapsed": true
   },
   "outputs": [],
   "source": [
    " index_list = [\n",
    " 72,\n",
    " 73,\n",
    " 74,\n",
    " 75,\n",
    " 77,\n",
    " 79,\n",
    " 80,\n",
    " 81,\n",
    " 82,\n",
    " 83,\n",
    " 84,\n",
    " 85,\n",
    " 86,\n",
    " 87,\n",
    " 88,\n",
    " 89,\n",
    " 90,\n",
    " 91,\n",
    " 93,\n",
    " 94,\n",
    " 95,\n",
    " 96,\n",
    " 97,\n",
    " 98,\n",
    " 99,\n",
    "100,\n",
    "101,\n",
    "102,\n",
    "103,\n",
    "104,\n",
    "105,\n",
    "106,\n",
    "108,\n",
    "109,\n",
    "110,\n",
    "111,\n",
    "112,\n",
    "113,\n",
    "114,\n",
    "115,\n",
    "116,\n",
    "117,\n",
    "118,\n",
    "119,\n",
    "120,\n",
    "121,\n",
    "122,\n",
    "123,\n",
    "124,\n",
    "125,\n",
    "126,\n",
    "127,\n",
    "128,\n",
    "129,\n",
    "130,\n",
    "131,\n",
    "132,\n",
    "133,\n",
    "134,\n",
    "135,\n",
    "136 ]"
   ]
  },
  {
   "cell_type": "code",
   "execution_count": 63,
   "metadata": {},
   "outputs": [
    {
     "data": {
      "text/plain": [
       "61"
      ]
     },
     "execution_count": 63,
     "metadata": {},
     "output_type": "execute_result"
    }
   ],
   "source": [
    "len(index_list)"
   ]
  },
  {
   "cell_type": "code",
   "execution_count": 64,
   "metadata": {},
   "outputs": [
    {
     "name": "stdout",
     "output_type": "stream",
     "text": [
      "(61, 3)\n"
     ]
    }
   ],
   "source": [
    "# Only use animal labels\n",
    "audioset_labels = audioset_labels.iloc[index_list]\n",
    "print(audioset_labels.shape)"
   ]
  },
  {
   "cell_type": "code",
   "execution_count": 65,
   "metadata": {},
   "outputs": [
    {
     "name": "stdout",
     "output_type": "stream",
     "text": [
      "     index         mid                              display_name\n",
      "72      72     /m/0jbk                                    Animal\n",
      "73      73    /m/068hy                    Domestic animals, pets\n",
      "74      74   /m/0bt9lr                                       Dog\n",
      "75      75   /m/05tny_                                      Bark\n",
      "77      77  /m/07qf0zm                                      Howl\n",
      "79      79   /m/0ghcn6                                  Growling\n",
      "80      80  /t/dd00136                             Whimper (dog)\n",
      "81      81    /m/01yrx                                       Cat\n",
      "82      82   /m/02yds9                                      Purr\n",
      "83      83  /m/07qrkrw                                      Meow\n",
      "84      84  /m/07rjwbb                                      Hiss\n",
      "85      85  /m/07r81j2                                 Caterwaul\n",
      "86      86    /m/0ch8v  Livestock, farm animals, working animals\n",
      "87      87    /m/03k3r                                     Horse\n",
      "88      88  /m/07rv9rh                                 Clip-clop\n",
      "89      89  /m/07q5rw0                             Neigh, whinny\n",
      "90      90  /m/01xq0k1                           Cattle, bovinae\n",
      "91      91  /m/07rpkh9                                       Moo\n",
      "93      93    /m/068zj                                       Pig\n",
      "94      94  /t/dd00018                                      Oink\n",
      "95      95    /m/03fwl                                      Goat\n",
      "96      96  /m/07q0h5t                                     Bleat\n",
      "97      97    /m/07bgp                                     Sheep\n",
      "98      98  /m/025rv6n                                      Fowl\n",
      "99      99    /m/09b5t                          Chicken, rooster\n",
      "100    100  /m/07st89h                                     Cluck\n",
      "101    101  /m/07qn5dc                Crowing, cock-a-doodle-doo\n",
      "102    102   /m/01rd7k                                    Turkey\n",
      "103    103  /m/07svc2k                                    Gobble\n",
      "104    104    /m/09ddx                                      Duck\n",
      "105    105  /m/07qdb04                                     Quack\n",
      "106    106    /m/0dbvp                                     Goose\n",
      "108    108   /m/01280g                              Wild animals\n",
      "109    109    /m/0cdnk              Roaring cats (lions, tigers)\n",
      "110    110  /m/04cvmfc                                      Roar\n",
      "111    111    /m/015p6                                      Bird\n",
      "112    112   /m/020bb7   Bird vocalization, bird call, bird song\n",
      "113    113  /m/07pggtn                              Chirp, tweet\n",
      "114    114  /m/07sx8x_                                    Squawk\n",
      "115    115    /m/0h0rv                              Pigeon, dove\n",
      "116    116  /m/07r_25d                                       Coo\n",
      "117    117   /m/04s8yn                                      Crow\n",
      "118    118  /m/07r5c2p                                       Caw\n",
      "119    119    /m/09d5_                                       Owl\n",
      "120    120  /m/07r_80w                                      Hoot\n",
      "121    121   /m/05_wcq               Bird flight, flapping wings\n",
      "122    122    /m/01z5f                     Canidae, dogs, wolves\n",
      "123    123    /m/06hps                       Rodents, rats, mice\n",
      "124    124    /m/04rmv                                     Mouse\n",
      "125    125  /m/07r4gkf                                    Patter\n",
      "126    126    /m/03vt0                                    Insect\n",
      "127    127    /m/09xqv                                   Cricket\n",
      "128    128    /m/09f96                                  Mosquito\n",
      "129    129    /m/0h2mp                             Fly, housefly\n",
      "130    130  /m/07pjwq1                                      Buzz\n",
      "131    131    /m/01h3n                           Bee, wasp, etc.\n",
      "132    132    /m/09ld4                                      Frog\n",
      "133    133  /m/07st88b                                     Croak\n",
      "134    134    /m/078jl                                     Snake\n",
      "135    135  /m/07qn4z3                                    Rattle\n",
      "136    136   /m/032n05                        Whale vocalization\n"
     ]
    }
   ],
   "source": [
    "with pd.option_context('display.max_rows', None, 'display.max_columns', None):  # more options can be specified also\n",
    "    print(audioset_labels)"
   ]
  },
  {
   "cell_type": "code",
   "execution_count": 69,
   "metadata": {},
   "outputs": [
    {
     "name": "stdout",
     "output_type": "stream",
     "text": [
      "Balanced train data:\n",
      "(22160, 15)\n",
      "   # YTID   start_seconds   end_seconds  positive_labels   Unnamed: 4  \\\n",
      "0  #NAME?            30.0          40.0        \"/m/09x0r  /t/dd00088\"   \n",
      "1  #NAME?            50.0          60.0      \"/m/012xff\"          NaN   \n",
      "2  #NAME?             0.0          10.0        \"/m/03fwl     /m/04rlf   \n",
      "3  #NAME?            30.0          40.0      \"/t/dd00003  /t/dd00005\"   \n",
      "4  #NAME?           200.0         210.0       \"/m/032s66   /m/073cg4\"   \n",
      "\n",
      "  Unnamed: 5 Unnamed: 6 Unnamed: 7 Unnamed: 8 Unnamed: 9 Unnamed: 10  \\\n",
      "0        NaN        NaN        NaN        NaN        NaN         NaN   \n",
      "1        NaN        NaN        NaN        NaN        NaN         NaN   \n",
      "2  /m/09x0r\"        NaN        NaN        NaN        NaN         NaN   \n",
      "3        NaN        NaN        NaN        NaN        NaN         NaN   \n",
      "4        NaN        NaN        NaN        NaN        NaN         NaN   \n",
      "\n",
      "  Unnamed: 11 Unnamed: 12 Unnamed: 13 Unnamed: 14  \n",
      "0         NaN         NaN         NaN         NaN  \n",
      "1         NaN         NaN         NaN         NaN  \n",
      "2         NaN         NaN         NaN         NaN  \n",
      "3         NaN         NaN         NaN         NaN  \n",
      "4         NaN         NaN         NaN         NaN  \n",
      "Eval data\n",
      "(20371, 14)\n",
      "        # YTID   start_seconds   end_seconds  positive_labels  Unnamed: 4  \\\n",
      "0  --4gqARaEJE             0.0          10.0        \"/m/068hy  /m/07q6cd_   \n",
      "1       #NAME?            20.0          30.0       \"/m/03l9g\"         NaN   \n",
      "2       #NAME?             0.0          10.0      \"/m/01b_21\"         NaN   \n",
      "3       #NAME?             0.0           9.0        \"/m/04rlf    /m/09x0r   \n",
      "4  -0BIyqJj9ZU            30.0          40.0      \"/m/07rgt08  /m/07sq110   \n",
      "\n",
      "    Unnamed: 5   Unnamed: 6 Unnamed: 7 Unnamed: 8 Unnamed: 9 Unnamed: 10  \\\n",
      "0    /m/0bt9lr     /m/0jbk\"        NaN        NaN        NaN         NaN   \n",
      "1          NaN          NaN        NaN        NaN        NaN         NaN   \n",
      "2          NaN          NaN        NaN        NaN        NaN         NaN   \n",
      "3   /t/dd00004  /t/dd00005\"        NaN        NaN        NaN         NaN   \n",
      "4  /t/dd00001\"          NaN        NaN        NaN        NaN         NaN   \n",
      "\n",
      "  Unnamed: 11 Unnamed: 12 Unnamed: 13  \n",
      "0         NaN         NaN         NaN  \n",
      "1         NaN         NaN         NaN  \n",
      "2         NaN         NaN         NaN  \n",
      "3         NaN         NaN         NaN  \n",
      "4         NaN         NaN         NaN  \n"
     ]
    }
   ],
   "source": [
    "# Fitler all non-animal data\n",
    "label_list = audioset_labels['mid'].tolist()\n",
    "print(\"Balanced train data:\")\n",
    "audioset_bal_train[audioset_bal_train[' positive_labels'].isin(label_list)]\n",
    "print(audioset_bal_train.shape)\n",
    "print(audioset_bal_train.head())\n",
    "\n",
    "#  print(\"Unbalanced train data:\")\n",
    "#  audioset_unbal_train[audioset_unbal_train[' positive_labels'].isin(label_list)]\n",
    "#  audioset_unbal_train.shape\n",
    "\n",
    "print(\"Eval data\")\n",
    "audioset_eval[audioset_eval[' positive_labels'].isin(label_list)]\n",
    "print(audioset_eval.shape)\n",
    "print(audioset_eval.head())"
   ]
  },
  {
   "cell_type": "code",
   "execution_count": 71,
   "metadata": {
    "collapsed": true
   },
   "outputs": [],
   "source": [
    "# Save filtered data frames\n",
    "audioset_bal_train.to_csv('data/balanced_train_segments-animals.csv', header=True, index=False)\n",
    "audioset_eval.to_csv('data/eval_segments-animals.csv', header=True, index=False)\n",
    "audioset_labels.to_csv('data/class_labels_indices-animals.csv', header=True, index=False)"
   ]
  },
  {
   "cell_type": "code",
   "execution_count": null,
   "metadata": {
    "collapsed": true
   },
   "outputs": [],
   "source": []
  }
 ],
 "metadata": {
  "kernelspec": {
   "display_name": "Python 3",
   "language": "python",
   "name": "python3"
  },
  "language_info": {
   "codemirror_mode": {
    "name": "ipython",
    "version": 3
   },
   "file_extension": ".py",
   "mimetype": "text/x-python",
   "name": "python",
   "nbconvert_exporter": "python",
   "pygments_lexer": "ipython3",
   "version": "3.6.2"
  }
 },
 "nbformat": 4,
 "nbformat_minor": 2
}
