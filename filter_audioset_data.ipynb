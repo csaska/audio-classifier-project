{
 "cells": [
  {
   "cell_type": "code",
   "execution_count": 585,
   "metadata": {},
   "outputs": [],
   "source": [
    "import os\n",
    "import sys\n",
    "import subprocess\n",
    "import pandas as pd"
   ]
  },
  {
   "cell_type": "code",
   "execution_count": 586,
   "metadata": {},
   "outputs": [],
   "source": [
    "audioset_labels = pd.read_csv(\"data/class_labels_indices.csv\")\n",
    "# audioset_unbal_train_df = pd.read_csv(\"data/audioset/unbalanced_train_segments.csv\")\n",
    "audioset_bal_train = pd.read_csv(\"data/balanced_train_segments-edited.csv\")#, delimiter=', ', engine='python')\n",
    "audioset_eval = pd.read_csv(\"data/eval_segments-edited.csv\")#, delimiter=', ', engine='python')"
   ]
  },
  {
   "cell_type": "code",
   "execution_count": 587,
   "metadata": {},
   "outputs": [
    {
     "data": {
      "text/plain": [
       "(22160, 15)"
      ]
     },
     "execution_count": 587,
     "metadata": {},
     "output_type": "execute_result"
    }
   ],
   "source": [
    "audioset_bal_train.shape"
   ]
  },
  {
   "cell_type": "code",
   "execution_count": 588,
   "metadata": {},
   "outputs": [
    {
     "name": "stdout",
     "output_type": "stream",
     "text": [
      "['# YTID', ' start_seconds', ' end_seconds', ' positive_labels', 'Unnamed: 4', 'Unnamed: 5', 'Unnamed: 6', 'Unnamed: 7', 'Unnamed: 8', 'Unnamed: 9', 'Unnamed: 10', 'Unnamed: 11', 'Unnamed: 12', 'Unnamed: 13', 'Unnamed: 14']\n",
      "['# YTID', ' start_seconds', ' end_seconds', ' positive_labels', 'Unnamed: 4', 'Unnamed: 5', 'Unnamed: 6', 'Unnamed: 7', 'Unnamed: 8', 'Unnamed: 9', 'Unnamed: 10', 'Unnamed: 11', 'Unnamed: 12', 'Unnamed: 13']\n"
     ]
    }
   ],
   "source": [
    "print(list(audioset_bal_train.columns.values))\n",
    "print(list(audioset_eval.columns.values))"
   ]
  },
  {
   "cell_type": "code",
   "execution_count": 589,
   "metadata": {},
   "outputs": [
    {
     "name": "stdout",
     "output_type": "stream",
     "text": [
      "[' positive_labels', 'Unnamed: 4', 'Unnamed: 5', 'Unnamed: 6', 'Unnamed: 7', 'Unnamed: 8', 'Unnamed: 9', 'Unnamed: 10', 'Unnamed: 11', 'Unnamed: 12', 'Unnamed: 13', 'Unnamed: 14']\n"
     ]
    }
   ],
   "source": [
    "train_cols = list(audioset_bal_train.columns.values)[3:]\n",
    "print(train_cols)"
   ]
  },
  {
   "cell_type": "code",
   "execution_count": 590,
   "metadata": {},
   "outputs": [
    {
     "name": "stdout",
     "output_type": "stream",
     "text": [
      "[' positive_labels', 'Unnamed: 4', 'Unnamed: 5', 'Unnamed: 6', 'Unnamed: 7', 'Unnamed: 8', 'Unnamed: 9', 'Unnamed: 10', 'Unnamed: 11', 'Unnamed: 12', 'Unnamed: 13']\n"
     ]
    }
   ],
   "source": [
    "eval_cols = list(audioset_eval.columns.values)[3:]\n",
    "print(eval_cols)"
   ]
  },
  {
   "cell_type": "code",
   "execution_count": 591,
   "metadata": {},
   "outputs": [],
   "source": [
    "# Create column with all labels\n",
    "audioset_bal_train.fillna('', inplace=True)\n",
    "audioset_eval.fillna('', inplace=True)\n",
    "audioset_bal_train['all_labels'] = audioset_bal_train[train_cols].apply(lambda row: ','.join(row.values.astype(str)), axis=1)\n",
    "audioset_eval['all_labels'] = audioset_bal_train[eval_cols].apply(lambda row: ','.join(row.values.astype(str)), axis=1)\n",
    "audioset_bal_train['all_labels'] = audioset_bal_train['all_labels'].str.rstrip(',')\n",
    "audioset_eval['all_labels'] = audioset_eval['all_labels'].str.rstrip(',')"
   ]
  },
  {
   "cell_type": "code",
   "execution_count": 592,
   "metadata": {},
   "outputs": [],
   "source": [
    "# Define some helper functions\n",
    "def contains_animal_label(positive_labels):\n",
    "    for label in label_list:\n",
    "        if label in positive_labels:\n",
    "            return True\n",
    "    return False\n",
    "\n",
    "def get_display_name_from_mid(mid):\n",
    "    return audioset_labels.loc[audioset_labels['mid'] == mid].iloc[0]['display_name']\n",
    "\n",
    "def strip_quotes(in_string):\n",
    "    in_string = in_string.strip()\n",
    "    if in_string.startswith('\"'):\n",
    "        in_string = in_string[1:]\n",
    "    if in_string.endswith('\"'):\n",
    "        in_string = in_string[:-1]\n",
    "    return in_string"
   ]
  },
  {
   "cell_type": "code",
   "execution_count": 593,
   "metadata": {},
   "outputs": [],
   "source": [
    "# Strip quotes from every column. They are no longer needed\n",
    "for col in train_cols:\n",
    "    audioset_bal_train[col] = audioset_bal_train[col].apply(strip_quotes)\n",
    "for col in eval_cols:\n",
    "    audioset_eval[col] = audioset_eval[col].apply(strip_quotes)"
   ]
  },
  {
   "cell_type": "code",
   "execution_count": 594,
   "metadata": {},
   "outputs": [
    {
     "name": "stdout",
     "output_type": "stream",
     "text": [
      "['# YTID', ' start_seconds', ' end_seconds', ' positive_labels', 'Unnamed: 4', 'Unnamed: 5', 'Unnamed: 6', 'Unnamed: 7', 'Unnamed: 8', 'Unnamed: 9', 'Unnamed: 10', 'Unnamed: 11', 'Unnamed: 12', 'Unnamed: 13', 'Unnamed: 14', 'all_labels']\n",
      "['# YTID', ' start_seconds', ' end_seconds', ' positive_labels', 'Unnamed: 4', 'Unnamed: 5', 'Unnamed: 6', 'Unnamed: 7', 'Unnamed: 8', 'Unnamed: 9', 'Unnamed: 10', 'Unnamed: 11', 'Unnamed: 12', 'Unnamed: 13', 'Unnamed: 14', 'all_labels']\n"
     ]
    }
   ],
   "source": [
    "train_cols = list(audioset_bal_train.columns.values)\n",
    "print(train_cols)\n",
    "\n",
    "eval_cols = list(audioset_eval.columns.values)\n",
    "print(train_cols)"
   ]
  },
  {
   "cell_type": "code",
   "execution_count": 595,
   "metadata": {},
   "outputs": [],
   "source": [
    "# Rearragne columns\n",
    "audioset_bal_train = audioset_bal_train[['# YTID', ' start_seconds', ' end_seconds', 'all_labels', ' positive_labels', 'Unnamed: 4', 'Unnamed: 5', 'Unnamed: 6', 'Unnamed: 7', 'Unnamed: 8', 'Unnamed: 9', 'Unnamed: 10', 'Unnamed: 11', 'Unnamed: 12', 'Unnamed: 13', 'Unnamed: 14']]\n",
    "audioset_eval = audioset_eval[['# YTID', ' start_seconds', ' end_seconds', 'all_labels', ' positive_labels', 'Unnamed: 4', 'Unnamed: 5', 'Unnamed: 6', 'Unnamed: 7', 'Unnamed: 8', 'Unnamed: 9', 'Unnamed: 10', 'Unnamed: 11', 'Unnamed: 12', 'Unnamed: 13']]"
   ]
  },
  {
   "cell_type": "code",
   "execution_count": 596,
   "metadata": {},
   "outputs": [],
   "source": [
    "# Rearragne columns\n",
    "audioset_bal_train.rename(columns={\" positive_labels\": 'Unnamed: 3'}, inplace=True)\n",
    "audioset_eval.rename(columns={\" positive_labels\": 'Unnamed: 3'}, inplace=True)"
   ]
  },
  {
   "cell_type": "code",
   "execution_count": 597,
   "metadata": {},
   "outputs": [
    {
     "data": {
      "text/html": [
       "<div>\n",
       "<style scoped>\n",
       "    .dataframe tbody tr th:only-of-type {\n",
       "        vertical-align: middle;\n",
       "    }\n",
       "\n",
       "    .dataframe tbody tr th {\n",
       "        vertical-align: top;\n",
       "    }\n",
       "\n",
       "    .dataframe thead th {\n",
       "        text-align: right;\n",
       "    }\n",
       "</style>\n",
       "<table border=\"1\" class=\"dataframe\">\n",
       "  <thead>\n",
       "    <tr style=\"text-align: right;\">\n",
       "      <th></th>\n",
       "      <th># YTID</th>\n",
       "      <th>start_seconds</th>\n",
       "      <th>end_seconds</th>\n",
       "      <th>all_labels</th>\n",
       "      <th>Unnamed: 3</th>\n",
       "      <th>Unnamed: 4</th>\n",
       "      <th>Unnamed: 5</th>\n",
       "      <th>Unnamed: 6</th>\n",
       "      <th>Unnamed: 7</th>\n",
       "      <th>Unnamed: 8</th>\n",
       "      <th>Unnamed: 9</th>\n",
       "      <th>Unnamed: 10</th>\n",
       "      <th>Unnamed: 11</th>\n",
       "      <th>Unnamed: 12</th>\n",
       "      <th>Unnamed: 13</th>\n",
       "      <th>Unnamed: 14</th>\n",
       "    </tr>\n",
       "  </thead>\n",
       "  <tbody>\n",
       "    <tr>\n",
       "      <th>0</th>\n",
       "      <td>#NAME?</td>\n",
       "      <td>30.0</td>\n",
       "      <td>40.0</td>\n",
       "      <td>\"/m/09x0r,/t/dd00088\"</td>\n",
       "      <td>/m/09x0r</td>\n",
       "      <td>/t/dd00088</td>\n",
       "      <td></td>\n",
       "      <td></td>\n",
       "      <td></td>\n",
       "      <td></td>\n",
       "      <td></td>\n",
       "      <td></td>\n",
       "      <td></td>\n",
       "      <td></td>\n",
       "      <td></td>\n",
       "      <td></td>\n",
       "    </tr>\n",
       "    <tr>\n",
       "      <th>1</th>\n",
       "      <td>#NAME?</td>\n",
       "      <td>50.0</td>\n",
       "      <td>60.0</td>\n",
       "      <td>\"/m/012xff\"</td>\n",
       "      <td>/m/012xff</td>\n",
       "      <td></td>\n",
       "      <td></td>\n",
       "      <td></td>\n",
       "      <td></td>\n",
       "      <td></td>\n",
       "      <td></td>\n",
       "      <td></td>\n",
       "      <td></td>\n",
       "      <td></td>\n",
       "      <td></td>\n",
       "      <td></td>\n",
       "    </tr>\n",
       "    <tr>\n",
       "      <th>2</th>\n",
       "      <td>#NAME?</td>\n",
       "      <td>0.0</td>\n",
       "      <td>10.0</td>\n",
       "      <td>\"/m/03fwl,/m/04rlf,/m/09x0r\"</td>\n",
       "      <td>/m/03fwl</td>\n",
       "      <td>/m/04rlf</td>\n",
       "      <td>/m/09x0r</td>\n",
       "      <td></td>\n",
       "      <td></td>\n",
       "      <td></td>\n",
       "      <td></td>\n",
       "      <td></td>\n",
       "      <td></td>\n",
       "      <td></td>\n",
       "      <td></td>\n",
       "      <td></td>\n",
       "    </tr>\n",
       "    <tr>\n",
       "      <th>3</th>\n",
       "      <td>#NAME?</td>\n",
       "      <td>30.0</td>\n",
       "      <td>40.0</td>\n",
       "      <td>\"/t/dd00003,/t/dd00005\"</td>\n",
       "      <td>/t/dd00003</td>\n",
       "      <td>/t/dd00005</td>\n",
       "      <td></td>\n",
       "      <td></td>\n",
       "      <td></td>\n",
       "      <td></td>\n",
       "      <td></td>\n",
       "      <td></td>\n",
       "      <td></td>\n",
       "      <td></td>\n",
       "      <td></td>\n",
       "      <td></td>\n",
       "    </tr>\n",
       "    <tr>\n",
       "      <th>4</th>\n",
       "      <td>#NAME?</td>\n",
       "      <td>200.0</td>\n",
       "      <td>210.0</td>\n",
       "      <td>\"/m/032s66,/m/073cg4\"</td>\n",
       "      <td>/m/032s66</td>\n",
       "      <td>/m/073cg4</td>\n",
       "      <td></td>\n",
       "      <td></td>\n",
       "      <td></td>\n",
       "      <td></td>\n",
       "      <td></td>\n",
       "      <td></td>\n",
       "      <td></td>\n",
       "      <td></td>\n",
       "      <td></td>\n",
       "      <td></td>\n",
       "    </tr>\n",
       "  </tbody>\n",
       "</table>\n",
       "</div>"
      ],
      "text/plain": [
       "   # YTID   start_seconds   end_seconds                     all_labels  \\\n",
       "0  #NAME?            30.0          40.0          \"/m/09x0r,/t/dd00088\"   \n",
       "1  #NAME?            50.0          60.0                    \"/m/012xff\"   \n",
       "2  #NAME?             0.0          10.0   \"/m/03fwl,/m/04rlf,/m/09x0r\"   \n",
       "3  #NAME?            30.0          40.0        \"/t/dd00003,/t/dd00005\"   \n",
       "4  #NAME?           200.0         210.0          \"/m/032s66,/m/073cg4\"   \n",
       "\n",
       "   Unnamed: 3  Unnamed: 4 Unnamed: 5 Unnamed: 6 Unnamed: 7 Unnamed: 8  \\\n",
       "0    /m/09x0r  /t/dd00088                                               \n",
       "1   /m/012xff                                                           \n",
       "2    /m/03fwl    /m/04rlf   /m/09x0r                                    \n",
       "3  /t/dd00003  /t/dd00005                                               \n",
       "4   /m/032s66   /m/073cg4                                               \n",
       "\n",
       "  Unnamed: 9 Unnamed: 10 Unnamed: 11 Unnamed: 12 Unnamed: 13 Unnamed: 14  \n",
       "0                                                                         \n",
       "1                                                                         \n",
       "2                                                                         \n",
       "3                                                                         \n",
       "4                                                                         "
      ]
     },
     "execution_count": 597,
     "metadata": {},
     "output_type": "execute_result"
    }
   ],
   "source": [
    "audioset_bal_train.head()"
   ]
  },
  {
   "cell_type": "code",
   "execution_count": 598,
   "metadata": {},
   "outputs": [],
   "source": [
    " index_list = [\n",
    " 72,\n",
    " 73,\n",
    " 74,\n",
    " 75,\n",
    " 77,\n",
    " 79,\n",
    " 80,\n",
    " 81,\n",
    " 82,\n",
    " 83,\n",
    " 84,\n",
    " 85,\n",
    " 86,\n",
    " 87,\n",
    " 88,\n",
    " 89,\n",
    " 90,\n",
    " 91,\n",
    " 93,\n",
    " 94,\n",
    " 95,\n",
    " 96,\n",
    " 97,\n",
    " 98,\n",
    " 99,\n",
    "100,\n",
    "101,\n",
    "102,\n",
    "103,\n",
    "104,\n",
    "105,\n",
    "106,\n",
    "108,\n",
    "109,\n",
    "110,\n",
    "111,\n",
    "112,\n",
    "113,\n",
    "114,\n",
    "115,\n",
    "116,\n",
    "117,\n",
    "118,\n",
    "119,\n",
    "120,\n",
    "121,\n",
    "122,\n",
    "123,\n",
    "124,\n",
    "125,\n",
    "126,\n",
    "127,\n",
    "128,\n",
    "129,\n",
    "130,\n",
    "131,\n",
    "132,\n",
    "133,\n",
    "134,\n",
    "135,\n",
    "136 ]"
   ]
  },
  {
   "cell_type": "code",
   "execution_count": 599,
   "metadata": {},
   "outputs": [
    {
     "data": {
      "text/plain": [
       "61"
      ]
     },
     "execution_count": 599,
     "metadata": {},
     "output_type": "execute_result"
    }
   ],
   "source": [
    "len(index_list)"
   ]
  },
  {
   "cell_type": "code",
   "execution_count": 600,
   "metadata": {},
   "outputs": [
    {
     "name": "stdout",
     "output_type": "stream",
     "text": [
      "(61, 3)\n"
     ]
    }
   ],
   "source": [
    "# Only use animal labels\n",
    "audioset_labels = audioset_labels.iloc[index_list]\n",
    "print(audioset_labels.shape)"
   ]
  },
  {
   "cell_type": "code",
   "execution_count": 601,
   "metadata": {},
   "outputs": [],
   "source": [
    "#with pd.option_context('display.max_rows', None, 'display.max_columns', None):  # more options can be specified also\n",
    "#    print(audioset_labels)"
   ]
  },
  {
   "cell_type": "code",
   "execution_count": 602,
   "metadata": {},
   "outputs": [],
   "source": [
    "# Add column indicating if data has a single label or multiple labels\n",
    "#  audioset_bal_train['singlelabel'] = audioset_bal_train[' positive_labels'].str.endswith('\"')\n",
    "#  audioset_eval['singlelabel'] = audioset_bal_train[' positive_labels'].str.endswith('\"')"
   ]
  },
  {
   "cell_type": "code",
   "execution_count": 603,
   "metadata": {},
   "outputs": [
    {
     "name": "stdout",
     "output_type": "stream",
     "text": [
      "Train shape: (22160, 16)\n",
      "Eval shape: (20373, 15)\n"
     ]
    }
   ],
   "source": [
    "print(\"Train shape:\", audioset_bal_train.shape)\n",
    "print(\"Eval shape:\", audioset_eval.shape)"
   ]
  },
  {
   "cell_type": "code",
   "execution_count": 604,
   "metadata": {},
   "outputs": [
    {
     "name": "stdout",
     "output_type": "stream",
     "text": [
      "['/m/0jbk', '/m/068hy', '/m/0bt9lr', '/m/05tny_', '/m/07qf0zm', '/m/0ghcn6', '/t/dd00136', '/m/01yrx', '/m/02yds9', '/m/07qrkrw', '/m/07rjwbb', '/m/07r81j2', '/m/0ch8v', '/m/03k3r', '/m/07rv9rh', '/m/07q5rw0', '/m/01xq0k1', '/m/07rpkh9', '/m/068zj', '/t/dd00018', '/m/03fwl', '/m/07q0h5t', '/m/07bgp', '/m/025rv6n', '/m/09b5t', '/m/07st89h', '/m/07qn5dc', '/m/01rd7k', '/m/07svc2k', '/m/09ddx', '/m/07qdb04', '/m/0dbvp', '/m/01280g', '/m/0cdnk', '/m/04cvmfc', '/m/015p6', '/m/020bb7', '/m/07pggtn', '/m/07sx8x_', '/m/0h0rv', '/m/07r_25d', '/m/04s8yn', '/m/07r5c2p', '/m/09d5_', '/m/07r_80w', '/m/05_wcq', '/m/01z5f', '/m/06hps', '/m/04rmv', '/m/07r4gkf', '/m/03vt0', '/m/09xqv', '/m/09f96', '/m/0h2mp', '/m/07pjwq1', '/m/01h3n', '/m/09ld4', '/m/07st88b', '/m/078jl', '/m/07qn4z3', '/m/032n05']\n"
     ]
    }
   ],
   "source": [
    "label_list = audioset_labels['mid'].tolist()\n",
    "print(label_list)"
   ]
  },
  {
   "cell_type": "code",
   "execution_count": 605,
   "metadata": {},
   "outputs": [
    {
     "data": {
      "text/html": [
       "<div>\n",
       "<style scoped>\n",
       "    .dataframe tbody tr th:only-of-type {\n",
       "        vertical-align: middle;\n",
       "    }\n",
       "\n",
       "    .dataframe tbody tr th {\n",
       "        vertical-align: top;\n",
       "    }\n",
       "\n",
       "    .dataframe thead th {\n",
       "        text-align: right;\n",
       "    }\n",
       "</style>\n",
       "<table border=\"1\" class=\"dataframe\">\n",
       "  <thead>\n",
       "    <tr style=\"text-align: right;\">\n",
       "      <th></th>\n",
       "      <th># YTID</th>\n",
       "      <th>start_seconds</th>\n",
       "      <th>end_seconds</th>\n",
       "      <th>all_labels</th>\n",
       "      <th>Unnamed: 3</th>\n",
       "      <th>Unnamed: 4</th>\n",
       "      <th>Unnamed: 5</th>\n",
       "      <th>Unnamed: 6</th>\n",
       "      <th>Unnamed: 7</th>\n",
       "      <th>Unnamed: 8</th>\n",
       "      <th>Unnamed: 9</th>\n",
       "      <th>Unnamed: 10</th>\n",
       "      <th>Unnamed: 11</th>\n",
       "      <th>Unnamed: 12</th>\n",
       "      <th>Unnamed: 13</th>\n",
       "      <th>Unnamed: 14</th>\n",
       "    </tr>\n",
       "  </thead>\n",
       "  <tbody>\n",
       "    <tr>\n",
       "      <th>0</th>\n",
       "      <td>#NAME?</td>\n",
       "      <td>30.0</td>\n",
       "      <td>40.0</td>\n",
       "      <td>\"/m/09x0r,/t/dd00088\"</td>\n",
       "      <td>/m/09x0r</td>\n",
       "      <td>/t/dd00088</td>\n",
       "      <td></td>\n",
       "      <td></td>\n",
       "      <td></td>\n",
       "      <td></td>\n",
       "      <td></td>\n",
       "      <td></td>\n",
       "      <td></td>\n",
       "      <td></td>\n",
       "      <td></td>\n",
       "      <td></td>\n",
       "    </tr>\n",
       "    <tr>\n",
       "      <th>1</th>\n",
       "      <td>#NAME?</td>\n",
       "      <td>50.0</td>\n",
       "      <td>60.0</td>\n",
       "      <td>\"/m/012xff\"</td>\n",
       "      <td>/m/012xff</td>\n",
       "      <td></td>\n",
       "      <td></td>\n",
       "      <td></td>\n",
       "      <td></td>\n",
       "      <td></td>\n",
       "      <td></td>\n",
       "      <td></td>\n",
       "      <td></td>\n",
       "      <td></td>\n",
       "      <td></td>\n",
       "      <td></td>\n",
       "    </tr>\n",
       "    <tr>\n",
       "      <th>2</th>\n",
       "      <td>#NAME?</td>\n",
       "      <td>0.0</td>\n",
       "      <td>10.0</td>\n",
       "      <td>\"/m/03fwl,/m/04rlf,/m/09x0r\"</td>\n",
       "      <td>/m/03fwl</td>\n",
       "      <td>/m/04rlf</td>\n",
       "      <td>/m/09x0r</td>\n",
       "      <td></td>\n",
       "      <td></td>\n",
       "      <td></td>\n",
       "      <td></td>\n",
       "      <td></td>\n",
       "      <td></td>\n",
       "      <td></td>\n",
       "      <td></td>\n",
       "      <td></td>\n",
       "    </tr>\n",
       "    <tr>\n",
       "      <th>3</th>\n",
       "      <td>#NAME?</td>\n",
       "      <td>30.0</td>\n",
       "      <td>40.0</td>\n",
       "      <td>\"/t/dd00003,/t/dd00005\"</td>\n",
       "      <td>/t/dd00003</td>\n",
       "      <td>/t/dd00005</td>\n",
       "      <td></td>\n",
       "      <td></td>\n",
       "      <td></td>\n",
       "      <td></td>\n",
       "      <td></td>\n",
       "      <td></td>\n",
       "      <td></td>\n",
       "      <td></td>\n",
       "      <td></td>\n",
       "      <td></td>\n",
       "    </tr>\n",
       "    <tr>\n",
       "      <th>4</th>\n",
       "      <td>#NAME?</td>\n",
       "      <td>200.0</td>\n",
       "      <td>210.0</td>\n",
       "      <td>\"/m/032s66,/m/073cg4\"</td>\n",
       "      <td>/m/032s66</td>\n",
       "      <td>/m/073cg4</td>\n",
       "      <td></td>\n",
       "      <td></td>\n",
       "      <td></td>\n",
       "      <td></td>\n",
       "      <td></td>\n",
       "      <td></td>\n",
       "      <td></td>\n",
       "      <td></td>\n",
       "      <td></td>\n",
       "      <td></td>\n",
       "    </tr>\n",
       "  </tbody>\n",
       "</table>\n",
       "</div>"
      ],
      "text/plain": [
       "   # YTID   start_seconds   end_seconds                     all_labels  \\\n",
       "0  #NAME?            30.0          40.0          \"/m/09x0r,/t/dd00088\"   \n",
       "1  #NAME?            50.0          60.0                    \"/m/012xff\"   \n",
       "2  #NAME?             0.0          10.0   \"/m/03fwl,/m/04rlf,/m/09x0r\"   \n",
       "3  #NAME?            30.0          40.0        \"/t/dd00003,/t/dd00005\"   \n",
       "4  #NAME?           200.0         210.0          \"/m/032s66,/m/073cg4\"   \n",
       "\n",
       "   Unnamed: 3  Unnamed: 4 Unnamed: 5 Unnamed: 6 Unnamed: 7 Unnamed: 8  \\\n",
       "0    /m/09x0r  /t/dd00088                                               \n",
       "1   /m/012xff                                                           \n",
       "2    /m/03fwl    /m/04rlf   /m/09x0r                                    \n",
       "3  /t/dd00003  /t/dd00005                                               \n",
       "4   /m/032s66   /m/073cg4                                               \n",
       "\n",
       "  Unnamed: 9 Unnamed: 10 Unnamed: 11 Unnamed: 12 Unnamed: 13 Unnamed: 14  \n",
       "0                                                                         \n",
       "1                                                                         \n",
       "2                                                                         \n",
       "3                                                                         \n",
       "4                                                                         "
      ]
     },
     "execution_count": 605,
     "metadata": {},
     "output_type": "execute_result"
    }
   ],
   "source": [
    "audioset_bal_train.head()"
   ]
  },
  {
   "cell_type": "code",
   "execution_count": null,
   "metadata": {},
   "outputs": [],
   "source": []
  },
  {
   "cell_type": "code",
   "execution_count": 607,
   "metadata": {},
   "outputs": [],
   "source": [
    "audioset_bal_train['animal_sound'] = audioset_bal_train['all_labels'].apply(contains_animal_label)\n",
    "audioset_eval['animal_sound'] = audioset_eval['all_labels'].apply(contains_animal_label)"
   ]
  },
  {
   "cell_type": "code",
   "execution_count": 608,
   "metadata": {
    "scrolled": true
   },
   "outputs": [
    {
     "name": "stdout",
     "output_type": "stream",
     "text": [
      "Balanced train data:\n",
      "(2391, 17)\n",
      "         # YTID   start_seconds   end_seconds  \\\n",
      "2        #NAME?             0.0          10.0   \n",
      "15  -11LhdJgBb8            30.0          40.0   \n",
      "29  -3IYpJfLVJk            30.0          40.0   \n",
      "45  -64xnyOswXA           120.0         130.0   \n",
      "54  -6x2PtSRfJU            30.0          40.0   \n",
      "\n",
      "                                  all_labels Unnamed: 3  Unnamed: 4  \\\n",
      "2               \"/m/03fwl,/m/04rlf,/m/09x0r\"   /m/03fwl    /m/04rlf   \n",
      "15                     \"/m/04rlf,/m/07qn4z3\"   /m/04rlf  /m/07qn4z3   \n",
      "29             \"/m/03k3r,/m/07q5rw0,/m/0jbk\"   /m/03k3r  /m/07q5rw0   \n",
      "45                                \"/m/0cdnk\"   /m/0cdnk               \n",
      "54   \"/m/01yrx,/m/068hy,/m/07qrkrw,/m/09x0r\"   /m/01yrx    /m/068hy   \n",
      "\n",
      "    Unnamed: 5 Unnamed: 6 Unnamed: 7 Unnamed: 8 Unnamed: 9 Unnamed: 10  \\\n",
      "2     /m/09x0r                                                           \n",
      "15                                                                       \n",
      "29     /m/0jbk                                                           \n",
      "45                                                                       \n",
      "54  /m/07qrkrw   /m/09x0r                                                \n",
      "\n",
      "   Unnamed: 11 Unnamed: 12 Unnamed: 13 Unnamed: 14  animal_sound  \n",
      "2                                                           True  \n",
      "15                                                          True  \n",
      "29                                                          True  \n",
      "45                                                          True  \n",
      "54                                                          True  \n",
      "Eval data\n",
      "(2206, 16)\n",
      "         # YTID  start_seconds  end_seconds  \\\n",
      "2        #NAME?              0           10   \n",
      "15  -116CjQ3MAg            160          170   \n",
      "29  -23CeprtibU             30           40   \n",
      "45  -4kkGS4-qVM             10           20   \n",
      "54  -6GcdDStIwM             21           31   \n",
      "\n",
      "                                  all_labels Unnamed: 3 Unnamed: 4 Unnamed: 5  \\\n",
      "2               \"/m/03fwl,/m/04rlf,/m/09x0r\"  /m/01b_21             /m/0bt9lr   \n",
      "15                     \"/m/04rlf,/m/07qn4z3\"   /m/015p6   /m/0chx_              \n",
      "29             \"/m/03k3r,/m/07q5rw0,/m/0jbk\"  /m/01j4z9                         \n",
      "45                                \"/m/0cdnk\"   /m/01wy6   /m/085jw              \n",
      "54   \"/m/01yrx,/m/068hy,/m/07qrkrw,/m/09x0r\"  /m/08j51y   /m/0c1dj              \n",
      "\n",
      "   Unnamed: 6 Unnamed: 7 Unnamed: 8 Unnamed: 9 Unnamed: 10 Unnamed: 11  \\\n",
      "2     /m/0jbk                                                            \n",
      "15                                                                       \n",
      "29                                                                       \n",
      "45                                                                       \n",
      "54                                                                       \n",
      "\n",
      "   Unnamed: 12 Unnamed: 13  animal_sound  \n",
      "2                                   True  \n",
      "15                                  True  \n",
      "29                                  True  \n",
      "45                                  True  \n",
      "54                                  True  \n"
     ]
    }
   ],
   "source": [
    "# Fitler all non-animal data\n",
    "#audioset_bal_train = audioset_bal_train[audioset_bal_train[' positive_labels'].isin(label_list)]\n",
    "audioset_bal_train = audioset_bal_train[audioset_bal_train['animal_sound'] == True]\n",
    "print(\"Balanced train data:\")\n",
    "print(audioset_bal_train.shape)\n",
    "print(audioset_bal_train.head())\n",
    "\n",
    "#  print(\"Unbalanced train data:\")\n",
    "#  audioset_unbal_train[audioset_unbal_train[' positive_labels'].isin(label_list)]\n",
    "#  audioset_unbal_train.shape\n",
    "\n",
    "audioset_eval = audioset_eval[audioset_eval['animal_sound'] == True]\n",
    "print(\"Eval data\")\n",
    "print(audioset_eval.shape)\n",
    "#print(audioset_eval.head())"
   ]
  },
  {
   "cell_type": "code",
   "execution_count": 578,
   "metadata": {},
   "outputs": [
    {
     "name": "stdout",
     "output_type": "stream",
     "text": [
      "Balanced train data:\n",
      "(2391, 17)\n",
      "Eval data\n",
      "(2206, 16)\n"
     ]
    }
   ],
   "source": [
    "# Fitler all wavs with multiple labels\n",
    "#audioset_bal_train = audioset_bal_train.loc[temp_df['singlelabel'] == True]\n",
    "print(\"Balanced train data:\")\n",
    "print(audioset_bal_train.shape)\n",
    "\n",
    "#  print(\"Unbalanced train data:\")\n",
    "#  audioset_unbal_train[audioset_unbal_train[' positive_labels'].isin(label_list)]\n",
    "#  audioset_unbal_train.shape\n",
    "\n",
    "#audioset_eval = audioset_eval.loc[audioset_eval['singlelabel'] == False]\n",
    "print(\"Eval data\")\n",
    "print(audioset_eval.shape)"
   ]
  },
  {
   "cell_type": "code",
   "execution_count": 579,
   "metadata": {},
   "outputs": [],
   "source": [
    "# Save filtered data frames\n",
    "audioset_bal_train.to_csv('data/balanced_train_segments-animals.csv', header=True, index=False)\n",
    "audioset_eval.to_csv('data/eval_segments-animals.csv', header=True, index=False)\n",
    "audioset_labels.to_csv('data/class_labels_indices-animals.csv', header=True, index=False)"
   ]
  },
  {
   "cell_type": "code",
   "execution_count": 581,
   "metadata": {},
   "outputs": [],
   "source": [
    "%config InlineBackend.figure_format = 'retina' #set 'png' here when working on notebook\n",
    "%matplotlib inline"
   ]
  },
  {
   "cell_type": "markdown",
   "metadata": {},
   "source": [
    "## Everything after this needs to be updated"
   ]
  },
  {
   "cell_type": "code",
   "execution_count": 582,
   "metadata": {},
   "outputs": [
    {
     "data": {
      "text/html": [
       "<div>\n",
       "<style scoped>\n",
       "    .dataframe tbody tr th:only-of-type {\n",
       "        vertical-align: middle;\n",
       "    }\n",
       "\n",
       "    .dataframe tbody tr th {\n",
       "        vertical-align: top;\n",
       "    }\n",
       "\n",
       "    .dataframe thead th {\n",
       "        text-align: right;\n",
       "    }\n",
       "</style>\n",
       "<table border=\"1\" class=\"dataframe\">\n",
       "  <thead>\n",
       "    <tr style=\"text-align: right;\">\n",
       "      <th></th>\n",
       "      <th># YTID</th>\n",
       "      <th>start_seconds</th>\n",
       "      <th>end_seconds</th>\n",
       "      <th>all_labels</th>\n",
       "      <th>Unnamed: 3</th>\n",
       "      <th>Unnamed: 4</th>\n",
       "      <th>Unnamed: 5</th>\n",
       "      <th>Unnamed: 6</th>\n",
       "      <th>Unnamed: 7</th>\n",
       "      <th>Unnamed: 8</th>\n",
       "      <th>Unnamed: 9</th>\n",
       "      <th>Unnamed: 10</th>\n",
       "      <th>Unnamed: 11</th>\n",
       "      <th>Unnamed: 12</th>\n",
       "      <th>Unnamed: 13</th>\n",
       "      <th>Unnamed: 14</th>\n",
       "      <th>animal_sound</th>\n",
       "    </tr>\n",
       "  </thead>\n",
       "  <tbody>\n",
       "    <tr>\n",
       "      <th>2</th>\n",
       "      <td>#NAME?</td>\n",
       "      <td>0.0</td>\n",
       "      <td>10.0</td>\n",
       "      <td>\"/m/03fwl,/m/04rlf,/m/09x0r\"</td>\n",
       "      <td>/m/03fwl</td>\n",
       "      <td>/m/04rlf</td>\n",
       "      <td>/m/09x0r</td>\n",
       "      <td></td>\n",
       "      <td></td>\n",
       "      <td></td>\n",
       "      <td></td>\n",
       "      <td></td>\n",
       "      <td></td>\n",
       "      <td></td>\n",
       "      <td></td>\n",
       "      <td></td>\n",
       "      <td>True</td>\n",
       "    </tr>\n",
       "    <tr>\n",
       "      <th>15</th>\n",
       "      <td>-11LhdJgBb8</td>\n",
       "      <td>30.0</td>\n",
       "      <td>40.0</td>\n",
       "      <td>\"/m/04rlf,/m/07qn4z3\"</td>\n",
       "      <td>/m/04rlf</td>\n",
       "      <td>/m/07qn4z3</td>\n",
       "      <td></td>\n",
       "      <td></td>\n",
       "      <td></td>\n",
       "      <td></td>\n",
       "      <td></td>\n",
       "      <td></td>\n",
       "      <td></td>\n",
       "      <td></td>\n",
       "      <td></td>\n",
       "      <td></td>\n",
       "      <td>True</td>\n",
       "    </tr>\n",
       "    <tr>\n",
       "      <th>29</th>\n",
       "      <td>-3IYpJfLVJk</td>\n",
       "      <td>30.0</td>\n",
       "      <td>40.0</td>\n",
       "      <td>\"/m/03k3r,/m/07q5rw0,/m/0jbk\"</td>\n",
       "      <td>/m/03k3r</td>\n",
       "      <td>/m/07q5rw0</td>\n",
       "      <td>/m/0jbk</td>\n",
       "      <td></td>\n",
       "      <td></td>\n",
       "      <td></td>\n",
       "      <td></td>\n",
       "      <td></td>\n",
       "      <td></td>\n",
       "      <td></td>\n",
       "      <td></td>\n",
       "      <td></td>\n",
       "      <td>True</td>\n",
       "    </tr>\n",
       "    <tr>\n",
       "      <th>45</th>\n",
       "      <td>-64xnyOswXA</td>\n",
       "      <td>120.0</td>\n",
       "      <td>130.0</td>\n",
       "      <td>\"/m/0cdnk\"</td>\n",
       "      <td>/m/0cdnk</td>\n",
       "      <td></td>\n",
       "      <td></td>\n",
       "      <td></td>\n",
       "      <td></td>\n",
       "      <td></td>\n",
       "      <td></td>\n",
       "      <td></td>\n",
       "      <td></td>\n",
       "      <td></td>\n",
       "      <td></td>\n",
       "      <td></td>\n",
       "      <td>True</td>\n",
       "    </tr>\n",
       "    <tr>\n",
       "      <th>54</th>\n",
       "      <td>-6x2PtSRfJU</td>\n",
       "      <td>30.0</td>\n",
       "      <td>40.0</td>\n",
       "      <td>\"/m/01yrx,/m/068hy,/m/07qrkrw,/m/09x0r\"</td>\n",
       "      <td>/m/01yrx</td>\n",
       "      <td>/m/068hy</td>\n",
       "      <td>/m/07qrkrw</td>\n",
       "      <td>/m/09x0r</td>\n",
       "      <td></td>\n",
       "      <td></td>\n",
       "      <td></td>\n",
       "      <td></td>\n",
       "      <td></td>\n",
       "      <td></td>\n",
       "      <td></td>\n",
       "      <td></td>\n",
       "      <td>True</td>\n",
       "    </tr>\n",
       "  </tbody>\n",
       "</table>\n",
       "</div>"
      ],
      "text/plain": [
       "         # YTID   start_seconds   end_seconds  \\\n",
       "2        #NAME?             0.0          10.0   \n",
       "15  -11LhdJgBb8            30.0          40.0   \n",
       "29  -3IYpJfLVJk            30.0          40.0   \n",
       "45  -64xnyOswXA           120.0         130.0   \n",
       "54  -6x2PtSRfJU            30.0          40.0   \n",
       "\n",
       "                                  all_labels Unnamed: 3  Unnamed: 4  \\\n",
       "2               \"/m/03fwl,/m/04rlf,/m/09x0r\"   /m/03fwl    /m/04rlf   \n",
       "15                     \"/m/04rlf,/m/07qn4z3\"   /m/04rlf  /m/07qn4z3   \n",
       "29             \"/m/03k3r,/m/07q5rw0,/m/0jbk\"   /m/03k3r  /m/07q5rw0   \n",
       "45                                \"/m/0cdnk\"   /m/0cdnk               \n",
       "54   \"/m/01yrx,/m/068hy,/m/07qrkrw,/m/09x0r\"   /m/01yrx    /m/068hy   \n",
       "\n",
       "    Unnamed: 5 Unnamed: 6 Unnamed: 7 Unnamed: 8 Unnamed: 9 Unnamed: 10  \\\n",
       "2     /m/09x0r                                                           \n",
       "15                                                                       \n",
       "29     /m/0jbk                                                           \n",
       "45                                                                       \n",
       "54  /m/07qrkrw   /m/09x0r                                                \n",
       "\n",
       "   Unnamed: 11 Unnamed: 12 Unnamed: 13 Unnamed: 14  animal_sound  \n",
       "2                                                           True  \n",
       "15                                                          True  \n",
       "29                                                          True  \n",
       "45                                                          True  \n",
       "54                                                          True  "
      ]
     },
     "execution_count": 582,
     "metadata": {},
     "output_type": "execute_result"
    }
   ],
   "source": [
    "# Create temp_df so that we can scrub the positive_label column and perform some operations to view the data\n",
    "temp_df = audioset_bal_train.copy()\n",
    "temp_df.head()"
   ]
  },
  {
   "cell_type": "code",
   "execution_count": 177,
   "metadata": {},
   "outputs": [],
   "source": [
    "temp_df['singlelabel'] = temp_df[' positive_labels'].str.endswith('\"')"
   ]
  },
  {
   "cell_type": "code",
   "execution_count": 178,
   "metadata": {},
   "outputs": [
    {
     "data": {
      "text/html": [
       "<div>\n",
       "<style scoped>\n",
       "    .dataframe tbody tr th:only-of-type {\n",
       "        vertical-align: middle;\n",
       "    }\n",
       "\n",
       "    .dataframe tbody tr th {\n",
       "        vertical-align: top;\n",
       "    }\n",
       "\n",
       "    .dataframe thead th {\n",
       "        text-align: right;\n",
       "    }\n",
       "</style>\n",
       "<table border=\"1\" class=\"dataframe\">\n",
       "  <thead>\n",
       "    <tr style=\"text-align: right;\">\n",
       "      <th></th>\n",
       "      <th># YTID</th>\n",
       "      <th>start_seconds</th>\n",
       "      <th>end_seconds</th>\n",
       "      <th>positive_labels</th>\n",
       "      <th>Unnamed: 4</th>\n",
       "      <th>Unnamed: 5</th>\n",
       "      <th>Unnamed: 6</th>\n",
       "      <th>Unnamed: 7</th>\n",
       "      <th>Unnamed: 8</th>\n",
       "      <th>Unnamed: 9</th>\n",
       "      <th>Unnamed: 10</th>\n",
       "      <th>Unnamed: 11</th>\n",
       "      <th>Unnamed: 12</th>\n",
       "      <th>Unnamed: 13</th>\n",
       "      <th>Unnamed: 14</th>\n",
       "      <th>singlelabel</th>\n",
       "    </tr>\n",
       "  </thead>\n",
       "  <tbody>\n",
       "    <tr>\n",
       "      <th>2</th>\n",
       "      <td>#NAME?</td>\n",
       "      <td>0.0</td>\n",
       "      <td>10.0</td>\n",
       "      <td>/m/03fwl</td>\n",
       "      <td>/m/04rlf</td>\n",
       "      <td>/m/09x0r\"</td>\n",
       "      <td>NaN</td>\n",
       "      <td>NaN</td>\n",
       "      <td>NaN</td>\n",
       "      <td>NaN</td>\n",
       "      <td>NaN</td>\n",
       "      <td>NaN</td>\n",
       "      <td>NaN</td>\n",
       "      <td>NaN</td>\n",
       "      <td>NaN</td>\n",
       "      <td>False</td>\n",
       "    </tr>\n",
       "    <tr>\n",
       "      <th>29</th>\n",
       "      <td>-3IYpJfLVJk</td>\n",
       "      <td>30.0</td>\n",
       "      <td>40.0</td>\n",
       "      <td>/m/03k3r</td>\n",
       "      <td>/m/07q5rw0</td>\n",
       "      <td>/m/0jbk\"</td>\n",
       "      <td>NaN</td>\n",
       "      <td>NaN</td>\n",
       "      <td>NaN</td>\n",
       "      <td>NaN</td>\n",
       "      <td>NaN</td>\n",
       "      <td>NaN</td>\n",
       "      <td>NaN</td>\n",
       "      <td>NaN</td>\n",
       "      <td>NaN</td>\n",
       "      <td>False</td>\n",
       "    </tr>\n",
       "    <tr>\n",
       "      <th>54</th>\n",
       "      <td>-6x2PtSRfJU</td>\n",
       "      <td>30.0</td>\n",
       "      <td>40.0</td>\n",
       "      <td>/m/01yrx</td>\n",
       "      <td>/m/068hy</td>\n",
       "      <td>/m/07qrkrw</td>\n",
       "      <td>/m/09x0r\"</td>\n",
       "      <td>NaN</td>\n",
       "      <td>NaN</td>\n",
       "      <td>NaN</td>\n",
       "      <td>NaN</td>\n",
       "      <td>NaN</td>\n",
       "      <td>NaN</td>\n",
       "      <td>NaN</td>\n",
       "      <td>NaN</td>\n",
       "      <td>False</td>\n",
       "    </tr>\n",
       "    <tr>\n",
       "      <th>64</th>\n",
       "      <td>-7ye24UFRng</td>\n",
       "      <td>0.0</td>\n",
       "      <td>10.0</td>\n",
       "      <td>/m/032n05</td>\n",
       "      <td>/m/04rlf\"</td>\n",
       "      <td>NaN</td>\n",
       "      <td>NaN</td>\n",
       "      <td>NaN</td>\n",
       "      <td>NaN</td>\n",
       "      <td>NaN</td>\n",
       "      <td>NaN</td>\n",
       "      <td>NaN</td>\n",
       "      <td>NaN</td>\n",
       "      <td>NaN</td>\n",
       "      <td>NaN</td>\n",
       "      <td>False</td>\n",
       "    </tr>\n",
       "    <tr>\n",
       "      <th>86</th>\n",
       "      <td>#NAME?</td>\n",
       "      <td>30.0</td>\n",
       "      <td>40.0</td>\n",
       "      <td>/m/07bgp</td>\n",
       "      <td>/m/07q0h5t</td>\n",
       "      <td>/m/09x0r\"</td>\n",
       "      <td>NaN</td>\n",
       "      <td>NaN</td>\n",
       "      <td>NaN</td>\n",
       "      <td>NaN</td>\n",
       "      <td>NaN</td>\n",
       "      <td>NaN</td>\n",
       "      <td>NaN</td>\n",
       "      <td>NaN</td>\n",
       "      <td>NaN</td>\n",
       "      <td>False</td>\n",
       "    </tr>\n",
       "  </tbody>\n",
       "</table>\n",
       "</div>"
      ],
      "text/plain": [
       "         # YTID   start_seconds   end_seconds  positive_labels  Unnamed: 4  \\\n",
       "2        #NAME?             0.0          10.0         /m/03fwl    /m/04rlf   \n",
       "29  -3IYpJfLVJk            30.0          40.0         /m/03k3r  /m/07q5rw0   \n",
       "54  -6x2PtSRfJU            30.0          40.0         /m/01yrx    /m/068hy   \n",
       "64  -7ye24UFRng             0.0          10.0        /m/032n05   /m/04rlf\"   \n",
       "86       #NAME?            30.0          40.0         /m/07bgp  /m/07q0h5t   \n",
       "\n",
       "    Unnamed: 5 Unnamed: 6 Unnamed: 7 Unnamed: 8 Unnamed: 9 Unnamed: 10  \\\n",
       "2    /m/09x0r\"        NaN        NaN        NaN        NaN         NaN   \n",
       "29    /m/0jbk\"        NaN        NaN        NaN        NaN         NaN   \n",
       "54  /m/07qrkrw  /m/09x0r\"        NaN        NaN        NaN         NaN   \n",
       "64         NaN        NaN        NaN        NaN        NaN         NaN   \n",
       "86   /m/09x0r\"        NaN        NaN        NaN        NaN         NaN   \n",
       "\n",
       "   Unnamed: 11 Unnamed: 12 Unnamed: 13 Unnamed: 14  singlelabel  \n",
       "2          NaN         NaN         NaN         NaN        False  \n",
       "29         NaN         NaN         NaN         NaN        False  \n",
       "54         NaN         NaN         NaN         NaN        False  \n",
       "64         NaN         NaN         NaN         NaN        False  \n",
       "86         NaN         NaN         NaN         NaN        False  "
      ]
     },
     "execution_count": 178,
     "metadata": {},
     "output_type": "execute_result"
    }
   ],
   "source": [
    "temp_df[' positive_labels'] = temp_df[' positive_labels'].apply(strip_quotes)\n",
    "temp_df.head()"
   ]
  },
  {
   "cell_type": "code",
   "execution_count": 179,
   "metadata": {},
   "outputs": [],
   "source": [
    "df = temp_df[' positive_labels'].value_counts().to_frame()\n",
    "df.reset_index(inplace=True)\n",
    "df.columns = [' mid', ' positive_labels']\n",
    "df['display_name'] = df[' mid'].apply(get_display_name_from_mid)"
   ]
  },
  {
   "cell_type": "code",
   "execution_count": 180,
   "metadata": {},
   "outputs": [
    {
     "data": {
      "text/html": [
       "<div>\n",
       "<style scoped>\n",
       "    .dataframe tbody tr th:only-of-type {\n",
       "        vertical-align: middle;\n",
       "    }\n",
       "\n",
       "    .dataframe tbody tr th {\n",
       "        vertical-align: top;\n",
       "    }\n",
       "\n",
       "    .dataframe thead th {\n",
       "        text-align: right;\n",
       "    }\n",
       "</style>\n",
       "<table border=\"1\" class=\"dataframe\">\n",
       "  <thead>\n",
       "    <tr style=\"text-align: right;\">\n",
       "      <th></th>\n",
       "      <th>mid</th>\n",
       "      <th>positive_labels</th>\n",
       "      <th>display_name</th>\n",
       "    </tr>\n",
       "  </thead>\n",
       "  <tbody>\n",
       "    <tr>\n",
       "      <th>0</th>\n",
       "      <td>/m/015p6</td>\n",
       "      <td>171</td>\n",
       "      <td>Bird</td>\n",
       "    </tr>\n",
       "    <tr>\n",
       "      <th>1</th>\n",
       "      <td>/m/068hy</td>\n",
       "      <td>157</td>\n",
       "      <td>Domestic animals, pets</td>\n",
       "    </tr>\n",
       "    <tr>\n",
       "      <th>2</th>\n",
       "      <td>/m/025rv6n</td>\n",
       "      <td>133</td>\n",
       "      <td>Fowl</td>\n",
       "    </tr>\n",
       "    <tr>\n",
       "      <th>3</th>\n",
       "      <td>/m/01yrx</td>\n",
       "      <td>120</td>\n",
       "      <td>Cat</td>\n",
       "    </tr>\n",
       "    <tr>\n",
       "      <th>4</th>\n",
       "      <td>/m/03vt0</td>\n",
       "      <td>104</td>\n",
       "      <td>Insect</td>\n",
       "    </tr>\n",
       "  </tbody>\n",
       "</table>\n",
       "</div>"
      ],
      "text/plain": [
       "          mid   positive_labels            display_name\n",
       "0    /m/015p6               171                    Bird\n",
       "1    /m/068hy               157  Domestic animals, pets\n",
       "2  /m/025rv6n               133                    Fowl\n",
       "3    /m/01yrx               120                     Cat\n",
       "4    /m/03vt0               104                  Insect"
      ]
     },
     "execution_count": 180,
     "metadata": {},
     "output_type": "execute_result"
    }
   ],
   "source": [
    "df.head()"
   ]
  },
  {
   "cell_type": "code",
   "execution_count": 181,
   "metadata": {},
   "outputs": [
    {
     "data": {
      "text/plain": [
       "Index([' mid', ' positive_labels', 'display_name'], dtype='object')"
      ]
     },
     "execution_count": 181,
     "metadata": {},
     "output_type": "execute_result"
    }
   ],
   "source": [
    "df.columns"
   ]
  },
  {
   "cell_type": "code",
   "execution_count": 182,
   "metadata": {},
   "outputs": [
    {
     "name": "stdout",
     "output_type": "stream",
     "text": [
      "           mid   positive_labels                             display_name\n",
      "0     /m/015p6               171                                     Bird\n",
      "1     /m/068hy               157                   Domestic animals, pets\n",
      "2   /m/025rv6n               133                                     Fowl\n",
      "3     /m/01yrx               120                                      Cat\n",
      "4     /m/03vt0               104                                   Insect\n",
      "5     /m/03k3r                77                                    Horse\n",
      "6   /m/01xq0k1                62                          Cattle, bovinae\n",
      "7    /m/01280g                60                             Wild animals\n",
      "8     /m/01h3n                60                          Bee, wasp, etc.\n",
      "9   /m/07st88b                59                                    Croak\n",
      "10  /m/07r_80w                58                                     Hoot\n",
      "11    /m/01z5f                57                    Canidae, dogs, wolves\n",
      "12    /m/03fwl                56                                     Goat\n",
      "13   /m/01rd7k                47                                   Turkey\n",
      "14   /m/04s8yn                42                                     Crow\n",
      "15    /m/068zj                42                                      Pig\n",
      "16    /m/078jl                38                                    Snake\n",
      "17    /m/07bgp                37                                    Sheep\n",
      "18   /m/05tny_                36                                     Bark\n",
      "19   /m/032n05                29                       Whale vocalization\n",
      "20  /m/04cvmfc                28                                     Roar\n",
      "21  /m/07qdb04                27                                    Quack\n",
      "22    /m/04rmv                26                                    Mouse\n",
      "23  /m/07pjwq1                19                                     Buzz\n",
      "24    /m/06hps                17                      Rodents, rats, mice\n",
      "25  /m/07sx8x_                16                                   Squawk\n",
      "26   /m/02yds9                15                                     Purr\n",
      "27  /m/07rv9rh                13                                Clip-clop\n",
      "28  /m/07qn4z3                11                                   Rattle\n",
      "29  /m/07qf0zm                 7                                     Howl\n",
      "30   /m/020bb7                 6  Bird vocalization, bird call, bird song\n",
      "31    /m/0cdnk                 5             Roaring cats (lions, tigers)\n",
      "32  /m/07q5rw0                 4                            Neigh, whinny\n",
      "33    /m/09ddx                 4                                     Duck\n",
      "34   /m/0ghcn6                 3                                 Growling\n",
      "35   /m/05_wcq                 3              Bird flight, flapping wings\n",
      "36  /m/07r81j2                 3                                Caterwaul\n",
      "37  /m/07q0h5t                 3                                    Bleat\n",
      "38  /m/07qrkrw                 3                                     Meow\n",
      "39   /m/0bt9lr                 2                                      Dog\n",
      "40  /m/07r5c2p                 2                                      Caw\n",
      "41     /m/0jbk                 1                                   Animal\n",
      "42  /m/07pggtn                 1                             Chirp, tweet\n"
     ]
    }
   ],
   "source": [
    "with pd.option_context('display.max_rows', None, 'display.max_columns', None):  # more options can be specified also\n",
    "    print(df)"
   ]
  },
  {
   "cell_type": "code",
   "execution_count": 183,
   "metadata": {},
   "outputs": [
    {
     "data": {
      "text/plain": [
       "<matplotlib.axes._subplots.AxesSubplot at 0x121c75748>"
      ]
     },
     "execution_count": 183,
     "metadata": {},
     "output_type": "execute_result"
    },
    {
     "data": {
      "image/png": "[encoded data removed]",
      "text/plain": [
       "<Figure size 432x288 with 1 Axes>"
      ]
     },
     "metadata": {
      "image/png": {
       "height": 435,
       "width": 376
      },
      "needs_background": "light"
     },
     "output_type": "display_data"
    }
   ],
   "source": [
    "hist_df = df.loc[:, [' positive_labels', 'display_name',' mid']]\n",
    "hist_df.set_index('display_name', inplace=True)\n",
    "hist_df[' positive_labels'].plot(kind=\"bar\")"
   ]
  },
  {
   "cell_type": "code",
   "execution_count": 198,
   "metadata": {},
   "outputs": [
    {
     "data": {
      "text/plain": [
       "<matplotlib.axes._subplots.AxesSubplot at 0x121a3aa90>"
      ]
     },
     "execution_count": 198,
     "metadata": {},
     "output_type": "execute_result"
    },
    {
     "data": {
      "image/png": "[encoded data removed]",
      "text/plain": [
       "<Figure size 432x288 with 1 Axes>"
      ]
     },
     "metadata": {
      "image/png": {
       "height": 370,
       "width": 375
      },
      "needs_background": "light"
     },
     "output_type": "display_data"
    }
   ],
   "source": [
    "hist_df = hist_df[hist_df[' positive_labels'] > 49 ]\n",
    "hist_df[' positive_labels'].plot(kind='bar')"
   ]
  },
  {
   "cell_type": "code",
   "execution_count": 199,
   "metadata": {},
   "outputs": [
    {
     "data": {
      "text/html": [
       "<div>\n",
       "<style scoped>\n",
       "    .dataframe tbody tr th:only-of-type {\n",
       "        vertical-align: middle;\n",
       "    }\n",
       "\n",
       "    .dataframe tbody tr th {\n",
       "        vertical-align: top;\n",
       "    }\n",
       "\n",
       "    .dataframe thead th {\n",
       "        text-align: right;\n",
       "    }\n",
       "</style>\n",
       "<table border=\"1\" class=\"dataframe\">\n",
       "  <thead>\n",
       "    <tr style=\"text-align: right;\">\n",
       "      <th></th>\n",
       "      <th>positive_labels</th>\n",
       "      <th>mid</th>\n",
       "    </tr>\n",
       "    <tr>\n",
       "      <th>display_name</th>\n",
       "      <th></th>\n",
       "      <th></th>\n",
       "    </tr>\n",
       "  </thead>\n",
       "  <tbody>\n",
       "    <tr>\n",
       "      <th>Bird</th>\n",
       "      <td>171</td>\n",
       "      <td>/m/015p6</td>\n",
       "    </tr>\n",
       "    <tr>\n",
       "      <th>Domestic animals, pets</th>\n",
       "      <td>157</td>\n",
       "      <td>/m/068hy</td>\n",
       "    </tr>\n",
       "    <tr>\n",
       "      <th>Fowl</th>\n",
       "      <td>133</td>\n",
       "      <td>/m/025rv6n</td>\n",
       "    </tr>\n",
       "    <tr>\n",
       "      <th>Cat</th>\n",
       "      <td>120</td>\n",
       "      <td>/m/01yrx</td>\n",
       "    </tr>\n",
       "    <tr>\n",
       "      <th>Insect</th>\n",
       "      <td>104</td>\n",
       "      <td>/m/03vt0</td>\n",
       "    </tr>\n",
       "  </tbody>\n",
       "</table>\n",
       "</div>"
      ],
      "text/plain": [
       "                         positive_labels         mid\n",
       "display_name                                        \n",
       "Bird                                 171    /m/015p6\n",
       "Domestic animals, pets               157    /m/068hy\n",
       "Fowl                                 133  /m/025rv6n\n",
       "Cat                                  120    /m/01yrx\n",
       "Insect                               104    /m/03vt0"
      ]
     },
     "execution_count": 199,
     "metadata": {},
     "output_type": "execute_result"
    }
   ],
   "source": [
    "hist_df.head()"
   ]
  },
  {
   "cell_type": "code",
   "execution_count": 188,
   "metadata": {},
   "outputs": [
    {
     "name": "stdout",
     "output_type": "stream",
     "text": [
      "[' \"/m/015p6', ' \"/m/068hy', ' \"/m/025rv6n', ' \"/m/01yrx', ' \"/m/03vt0', ' \"/m/03k3r', ' \"/m/01xq0k1', ' \"/m/01280g', ' \"/m/01h3n', ' \"/m/07st88b', ' \"/m/07r_80w', ' \"/m/01z5f', ' \"/m/03fwl']\n"
     ]
    }
   ],
   "source": [
    "label_list = [ str(' \"' + label) for label in hist_df[' mid'].tolist() ]\n",
    "label_list \n",
    "print(label_list)"
   ]
  },
  {
   "cell_type": "code",
   "execution_count": 189,
   "metadata": {},
   "outputs": [
    {
     "data": {
      "text/html": [
       "<div>\n",
       "<style scoped>\n",
       "    .dataframe tbody tr th:only-of-type {\n",
       "        vertical-align: middle;\n",
       "    }\n",
       "\n",
       "    .dataframe tbody tr th {\n",
       "        vertical-align: top;\n",
       "    }\n",
       "\n",
       "    .dataframe thead th {\n",
       "        text-align: right;\n",
       "    }\n",
       "</style>\n",
       "<table border=\"1\" class=\"dataframe\">\n",
       "  <thead>\n",
       "    <tr style=\"text-align: right;\">\n",
       "      <th></th>\n",
       "      <th>index</th>\n",
       "      <th>mid</th>\n",
       "      <th>display_name</th>\n",
       "    </tr>\n",
       "  </thead>\n",
       "  <tbody>\n",
       "    <tr>\n",
       "      <th>72</th>\n",
       "      <td>72</td>\n",
       "      <td>/m/0jbk</td>\n",
       "      <td>Animal</td>\n",
       "    </tr>\n",
       "    <tr>\n",
       "      <th>73</th>\n",
       "      <td>73</td>\n",
       "      <td>/m/068hy</td>\n",
       "      <td>Domestic animals, pets</td>\n",
       "    </tr>\n",
       "    <tr>\n",
       "      <th>74</th>\n",
       "      <td>74</td>\n",
       "      <td>/m/0bt9lr</td>\n",
       "      <td>Dog</td>\n",
       "    </tr>\n",
       "    <tr>\n",
       "      <th>75</th>\n",
       "      <td>75</td>\n",
       "      <td>/m/05tny_</td>\n",
       "      <td>Bark</td>\n",
       "    </tr>\n",
       "    <tr>\n",
       "      <th>77</th>\n",
       "      <td>77</td>\n",
       "      <td>/m/07qf0zm</td>\n",
       "      <td>Howl</td>\n",
       "    </tr>\n",
       "  </tbody>\n",
       "</table>\n",
       "</div>"
      ],
      "text/plain": [
       "    index         mid            display_name\n",
       "72     72     /m/0jbk                  Animal\n",
       "73     73    /m/068hy  Domestic animals, pets\n",
       "74     74   /m/0bt9lr                     Dog\n",
       "75     75   /m/05tny_                    Bark\n",
       "77     77  /m/07qf0zm                    Howl"
      ]
     },
     "execution_count": 189,
     "metadata": {},
     "output_type": "execute_result"
    }
   ],
   "source": [
    "audioset_labels.head()"
   ]
  },
  {
   "cell_type": "code",
   "execution_count": 191,
   "metadata": {},
   "outputs": [],
   "source": [
    "# Drop Domestic animals, pets and wild animals. Categories are too broad\n",
    "audioset_bal_train = audioset_bal_train[audioset_bal_train[' positive_labels'].isin(filter_list)]\n",
    "audioset_eval = audioset_eval[audioset_eval[' positive_labels'].isin(filter_list)]\n",
    "audioset_labels = audioset_labels[audioset_labels['mid'].isin(filter_list)]"
   ]
  },
  {
   "cell_type": "code",
   "execution_count": 192,
   "metadata": {},
   "outputs": [],
   "source": [
    "# Save filtered data frames\n",
    "audioset_bal_train.to_csv('data/balanced_train_segments-animals.csv', header=True, index=False)\n",
    "audioset_eval.to_csv('data/eval_segments-animals.csv', header=True, index=False)\n",
    "audioset_labels.to_csv('data/class_labels_indices-animals.csv', header=True, index=False)"
   ]
  },
  {
   "cell_type": "code",
   "execution_count": 197,
   "metadata": {},
   "outputs": [
    {
     "name": "stdout",
     "output_type": "stream",
     "text": [
      "Train shape: (0, 16)\n",
      "Eval shape: (0, 15)\n"
     ]
    }
   ],
   "source": [
    "print(\"Train shape:\", audioset_bal_train.shape)\n",
    "print(\"Eval shape:\", audioset_eval.shape)"
   ]
  },
  {
   "cell_type": "code",
   "execution_count": 260,
   "metadata": {},
   "outputs": [
    {
     "data": {
      "text/plain": [
       "'Purr'"
      ]
     },
     "execution_count": 260,
     "metadata": {},
     "output_type": "execute_result"
    }
   ],
   "source": [
    "get_display_name_from_mid('/m/02yds9')"
   ]
  },
  {
   "cell_type": "code",
   "execution_count": null,
   "metadata": {},
   "outputs": [],
   "source": []
  }
 ],
 "metadata": {
  "kernelspec": {
   "display_name": "Python 3",
   "language": "python",
   "name": "python3"
  },
  "language_info": {
   "codemirror_mode": {
    "name": "ipython",
    "version": 3
   },
   "file_extension": ".py",
   "mimetype": "text/x-python",
   "name": "python",
   "nbconvert_exporter": "python",
   "pygments_lexer": "ipython3",
   "version": "3.7.3"
  }
 },
 "nbformat": 4,
 "nbformat_minor": 2
}
