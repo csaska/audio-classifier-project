{
 "cells": [
  {
   "cell_type": "code",
   "execution_count": 244,
   "metadata": {
    "collapsed": true
   },
   "outputs": [],
   "source": [
    "import os\n",
    "import sys\n",
    "import subprocess\n",
    "import pandas as pd\n",
    "import pytube"
   ]
  },
  {
   "cell_type": "code",
   "execution_count": 245,
   "metadata": {
    "collapsed": true
   },
   "outputs": [],
   "source": [
    "audioset_labels = pd.read_csv(\"data/class_labels_indices.csv\")\n",
    "# audioset_unbal_train_df = pd.read_csv(\"data/audioset/unbalanced_train_segments.csv\")\n",
    "audioset_bal_train = pd.read_csv(\"data/balanced_train_segments-edited.csv\")\n",
    "audioset_eval = pd.read_csv(\"data/eval_segments-edited.csv\")"
   ]
  },
  {
   "cell_type": "code",
   "execution_count": null,
   "metadata": {},
   "outputs": [],
   "source": []
  },
  {
   "cell_type": "code",
   "execution_count": null,
   "metadata": {},
   "outputs": [],
   "source": []
  },
  {
   "cell_type": "code",
   "execution_count": 246,
   "metadata": {
    "collapsed": true
   },
   "outputs": [],
   "source": [
    " index_list = [\n",
    " 72,\n",
    " 73,\n",
    " 74,\n",
    " 75,\n",
    " 77,\n",
    " 79,\n",
    " 80,\n",
    " 81,\n",
    " 82,\n",
    " 83,\n",
    " 84,\n",
    " 85,\n",
    " 86,\n",
    " 87,\n",
    " 88,\n",
    " 89,\n",
    " 90,\n",
    " 91,\n",
    " 93,\n",
    " 94,\n",
    " 95,\n",
    " 96,\n",
    " 97,\n",
    " 98,\n",
    " 99,\n",
    "100,\n",
    "101,\n",
    "102,\n",
    "103,\n",
    "104,\n",
    "105,\n",
    "106,\n",
    "108,\n",
    "109,\n",
    "110,\n",
    "111,\n",
    "112,\n",
    "113,\n",
    "114,\n",
    "115,\n",
    "116,\n",
    "117,\n",
    "118,\n",
    "119,\n",
    "120,\n",
    "121,\n",
    "122,\n",
    "123,\n",
    "124,\n",
    "125,\n",
    "126,\n",
    "127,\n",
    "128,\n",
    "129,\n",
    "130,\n",
    "131,\n",
    "132,\n",
    "133,\n",
    "134,\n",
    "135,\n",
    "136 ]"
   ]
  },
  {
   "cell_type": "code",
   "execution_count": 247,
   "metadata": {},
   "outputs": [
    {
     "data": {
      "text/plain": [
       "61"
      ]
     },
     "execution_count": 247,
     "metadata": {},
     "output_type": "execute_result"
    }
   ],
   "source": [
    "len(index_list)"
   ]
  },
  {
   "cell_type": "code",
   "execution_count": 248,
   "metadata": {},
   "outputs": [
    {
     "name": "stdout",
     "output_type": "stream",
     "text": [
      "(61, 3)\n"
     ]
    }
   ],
   "source": [
    "# Only use animal labels\n",
    "audioset_labels = audioset_labels.iloc[index_list]\n",
    "print(audioset_labels.shape)"
   ]
  },
  {
   "cell_type": "code",
   "execution_count": 249,
   "metadata": {},
   "outputs": [
    {
     "name": "stdout",
     "output_type": "stream",
     "text": [
      "     index         mid                              display_name\n",
      "72      72     /m/0jbk                                    Animal\n",
      "73      73    /m/068hy                    Domestic animals, pets\n",
      "74      74   /m/0bt9lr                                       Dog\n",
      "75      75   /m/05tny_                                      Bark\n",
      "77      77  /m/07qf0zm                                      Howl\n",
      "79      79   /m/0ghcn6                                  Growling\n",
      "80      80  /t/dd00136                             Whimper (dog)\n",
      "81      81    /m/01yrx                                       Cat\n",
      "82      82   /m/02yds9                                      Purr\n",
      "83      83  /m/07qrkrw                                      Meow\n",
      "84      84  /m/07rjwbb                                      Hiss\n",
      "85      85  /m/07r81j2                                 Caterwaul\n",
      "86      86    /m/0ch8v  Livestock, farm animals, working animals\n",
      "87      87    /m/03k3r                                     Horse\n",
      "88      88  /m/07rv9rh                                 Clip-clop\n",
      "89      89  /m/07q5rw0                             Neigh, whinny\n",
      "90      90  /m/01xq0k1                           Cattle, bovinae\n",
      "91      91  /m/07rpkh9                                       Moo\n",
      "93      93    /m/068zj                                       Pig\n",
      "94      94  /t/dd00018                                      Oink\n",
      "95      95    /m/03fwl                                      Goat\n",
      "96      96  /m/07q0h5t                                     Bleat\n",
      "97      97    /m/07bgp                                     Sheep\n",
      "98      98  /m/025rv6n                                      Fowl\n",
      "99      99    /m/09b5t                          Chicken, rooster\n",
      "100    100  /m/07st89h                                     Cluck\n",
      "101    101  /m/07qn5dc                Crowing, cock-a-doodle-doo\n",
      "102    102   /m/01rd7k                                    Turkey\n",
      "103    103  /m/07svc2k                                    Gobble\n",
      "104    104    /m/09ddx                                      Duck\n",
      "105    105  /m/07qdb04                                     Quack\n",
      "106    106    /m/0dbvp                                     Goose\n",
      "108    108   /m/01280g                              Wild animals\n",
      "109    109    /m/0cdnk              Roaring cats (lions, tigers)\n",
      "110    110  /m/04cvmfc                                      Roar\n",
      "111    111    /m/015p6                                      Bird\n",
      "112    112   /m/020bb7   Bird vocalization, bird call, bird song\n",
      "113    113  /m/07pggtn                              Chirp, tweet\n",
      "114    114  /m/07sx8x_                                    Squawk\n",
      "115    115    /m/0h0rv                              Pigeon, dove\n",
      "116    116  /m/07r_25d                                       Coo\n",
      "117    117   /m/04s8yn                                      Crow\n",
      "118    118  /m/07r5c2p                                       Caw\n",
      "119    119    /m/09d5_                                       Owl\n",
      "120    120  /m/07r_80w                                      Hoot\n",
      "121    121   /m/05_wcq               Bird flight, flapping wings\n",
      "122    122    /m/01z5f                     Canidae, dogs, wolves\n",
      "123    123    /m/06hps                       Rodents, rats, mice\n",
      "124    124    /m/04rmv                                     Mouse\n",
      "125    125  /m/07r4gkf                                    Patter\n",
      "126    126    /m/03vt0                                    Insect\n",
      "127    127    /m/09xqv                                   Cricket\n",
      "128    128    /m/09f96                                  Mosquito\n",
      "129    129    /m/0h2mp                             Fly, housefly\n",
      "130    130  /m/07pjwq1                                      Buzz\n",
      "131    131    /m/01h3n                           Bee, wasp, etc.\n",
      "132    132    /m/09ld4                                      Frog\n",
      "133    133  /m/07st88b                                     Croak\n",
      "134    134    /m/078jl                                     Snake\n",
      "135    135  /m/07qn4z3                                    Rattle\n",
      "136    136   /m/032n05                        Whale vocalization\n"
     ]
    }
   ],
   "source": [
    "with pd.option_context('display.max_rows', None, 'display.max_columns', None):  # more options can be specified also\n",
    "    print(audioset_labels)"
   ]
  },
  {
   "cell_type": "code",
   "execution_count": 250,
   "metadata": {},
   "outputs": [],
   "source": [
    "audioset_bal_train['singlelabel'] = audioset_bal_train[' positive_labels'].str.endswith('\"')\n",
    "audioset_eval['singlelabel'] = audioset_bal_train[' positive_labels'].str.endswith('\"')"
   ]
  },
  {
   "cell_type": "code",
   "execution_count": 251,
   "metadata": {},
   "outputs": [
    {
     "name": "stdout",
     "output_type": "stream",
     "text": [
      "Train shape: (22160, 16)\n",
      "Eval shape: (20373, 15)\n"
     ]
    }
   ],
   "source": [
    "print(\"Train shape:\", audioset_bal_train.shape)\n",
    "print(\"Eval shape:\", audioset_eval.shape)"
   ]
  },
  {
   "cell_type": "code",
   "execution_count": 252,
   "metadata": {},
   "outputs": [
    {
     "name": "stdout",
     "output_type": "stream",
     "text": [
      "[' \"/m/0jbk', ' \"/m/068hy', ' \"/m/0bt9lr', ' \"/m/05tny_', ' \"/m/07qf0zm', ' \"/m/0ghcn6', ' \"/t/dd00136', ' \"/m/01yrx', ' \"/m/02yds9', ' \"/m/07qrkrw', ' \"/m/07rjwbb', ' \"/m/07r81j2', ' \"/m/0ch8v', ' \"/m/03k3r', ' \"/m/07rv9rh', ' \"/m/07q5rw0', ' \"/m/01xq0k1', ' \"/m/07rpkh9', ' \"/m/068zj', ' \"/t/dd00018', ' \"/m/03fwl', ' \"/m/07q0h5t', ' \"/m/07bgp', ' \"/m/025rv6n', ' \"/m/09b5t', ' \"/m/07st89h', ' \"/m/07qn5dc', ' \"/m/01rd7k', ' \"/m/07svc2k', ' \"/m/09ddx', ' \"/m/07qdb04', ' \"/m/0dbvp', ' \"/m/01280g', ' \"/m/0cdnk', ' \"/m/04cvmfc', ' \"/m/015p6', ' \"/m/020bb7', ' \"/m/07pggtn', ' \"/m/07sx8x_', ' \"/m/0h0rv', ' \"/m/07r_25d', ' \"/m/04s8yn', ' \"/m/07r5c2p', ' \"/m/09d5_', ' \"/m/07r_80w', ' \"/m/05_wcq', ' \"/m/01z5f', ' \"/m/06hps', ' \"/m/04rmv', ' \"/m/07r4gkf', ' \"/m/03vt0', ' \"/m/09xqv', ' \"/m/09f96', ' \"/m/0h2mp', ' \"/m/07pjwq1', ' \"/m/01h3n', ' \"/m/09ld4', ' \"/m/07st88b', ' \"/m/078jl', ' \"/m/07qn4z3', ' \"/m/032n05']\n"
     ]
    }
   ],
   "source": [
    "label_list = [ str(' \"' + label) for label in audioset_labels['mid'].tolist() ]\n",
    "label_list \n",
    "print(label_list)"
   ]
  },
  {
   "cell_type": "code",
   "execution_count": 253,
   "metadata": {},
   "outputs": [
    {
     "name": "stdout",
     "output_type": "stream",
     "text": [
      "Balanced train data:\n",
      "(1664, 16)\n",
      "         # YTID   start_seconds   end_seconds  positive_labels  Unnamed: 4  \\\n",
      "2        #NAME?             0.0          10.0        \"/m/03fwl    /m/04rlf   \n",
      "29  -3IYpJfLVJk            30.0          40.0        \"/m/03k3r  /m/07q5rw0   \n",
      "54  -6x2PtSRfJU            30.0          40.0        \"/m/01yrx    /m/068hy   \n",
      "64  -7ye24UFRng             0.0          10.0       \"/m/032n05   /m/04rlf\"   \n",
      "86       #NAME?            30.0          40.0        \"/m/07bgp  /m/07q0h5t   \n",
      "\n",
      "    Unnamed: 5 Unnamed: 6 Unnamed: 7 Unnamed: 8 Unnamed: 9 Unnamed: 10  \\\n",
      "2    /m/09x0r\"        NaN        NaN        NaN        NaN         NaN   \n",
      "29    /m/0jbk\"        NaN        NaN        NaN        NaN         NaN   \n",
      "54  /m/07qrkrw  /m/09x0r\"        NaN        NaN        NaN         NaN   \n",
      "64         NaN        NaN        NaN        NaN        NaN         NaN   \n",
      "86   /m/09x0r\"        NaN        NaN        NaN        NaN         NaN   \n",
      "\n",
      "   Unnamed: 11 Unnamed: 12 Unnamed: 13 Unnamed: 14  singlelabel  \n",
      "2          NaN         NaN         NaN         NaN        False  \n",
      "29         NaN         NaN         NaN         NaN        False  \n",
      "54         NaN         NaN         NaN         NaN        False  \n",
      "64         NaN         NaN         NaN         NaN        False  \n",
      "86         NaN         NaN         NaN         NaN        False  \n",
      "Eval data\n",
      "(1597, 15)\n",
      "          # YTID   start_seconds   end_seconds  positive_labels  Unnamed: 4  \\\n",
      "0    --4gqARaEJE             0.0          10.0        \"/m/068hy  /m/07q6cd_   \n",
      "9    -0jeONf82dE            21.0          31.0        \"/m/03k3r    /m/04rlf   \n",
      "15   -116CjQ3MAg           160.0         170.0        \"/m/015p6    /m/0chx_   \n",
      "76   -9byM5-ih2M             0.0          10.0        \"/m/01yrx    /m/068hy   \n",
      "113       #NAME?            20.0          30.0       \"/m/02yds9   /m/0ytgt\"   \n",
      "\n",
      "     Unnamed: 5 Unnamed: 6 Unnamed: 7 Unnamed: 8 Unnamed: 9 Unnamed: 10  \\\n",
      "0           NaN        NaN        NaN        NaN        NaN         NaN   \n",
      "9           NaN        NaN        NaN        NaN        NaN         NaN   \n",
      "15          NaN        NaN        NaN        NaN        NaN         NaN   \n",
      "76   /m/04qvtq\"        NaN        NaN        NaN        NaN         NaN   \n",
      "113   /m/0ytgt\"        NaN        NaN        NaN        NaN         NaN   \n",
      "\n",
      "    Unnamed: 11 Unnamed: 12 Unnamed: 13  singlelabel  \n",
      "0           NaN         NaN         NaN        False  \n",
      "9           NaN         NaN         NaN        False  \n",
      "15          NaN         NaN         NaN        False  \n",
      "76          NaN         NaN         NaN        False  \n",
      "113         NaN         NaN         NaN        False  \n"
     ]
    }
   ],
   "source": [
    "# Fitler all non-animal data\n",
    "audioset_bal_train = audioset_bal_train[audioset_bal_train[' positive_labels'].isin(label_list)]\n",
    "print(\"Balanced train data:\")\n",
    "print(audioset_bal_train.shape)\n",
    "print(audioset_bal_train.head())\n",
    "\n",
    "#  print(\"Unbalanced train data:\")\n",
    "#  audioset_unbal_train[audioset_unbal_train[' positive_labels'].isin(label_list)]\n",
    "#  audioset_unbal_train.shape\n",
    "\n",
    "audioset_eval = audioset_eval[audioset_eval[' positive_labels'].isin(label_list)]\n",
    "print(\"Eval data\")\n",
    "print(audioset_eval.shape)\n",
    "print(audioset_eval.head())"
   ]
  },
  {
   "cell_type": "code",
   "execution_count": 254,
   "metadata": {},
   "outputs": [],
   "source": [
    "# Fitler all wavs with multiple labels\n",
    "#audioset_bal_train = audioset_bal_train.loc[audioset_bal_train['multilabel'] == False]\n",
    "#print(\"Balanced train data:\")\n",
    "#print(audioset_bal_train.shape)\n",
    "#print(audioset_bal_train.head())\n",
    "\n",
    "#  print(\"Unbalanced train data:\")\n",
    "#  audioset_unbal_train[audioset_unbal_train[' positive_labels'].isin(label_list)]\n",
    "#  audioset_unbal_train.shape\n",
    "\n",
    "#audioset_eval = audioset_eval.loc[audioset_eval['multilabel'] == False]\n",
    "#print(\"Eval data\")\n",
    "#print(audioset_eval.shape)\n",
    "#print(audioset_eval.head())"
   ]
  },
  {
   "cell_type": "code",
   "execution_count": 255,
   "metadata": {
    "collapsed": true
   },
   "outputs": [],
   "source": [
    "# Save filtered data frames\n",
    "audioset_bal_train.to_csv('data/balanced_train_segments-animals.csv', header=True, index=False)\n",
    "audioset_eval.to_csv('data/eval_segments-animals.csv', header=True, index=False)\n",
    "audioset_labels.to_csv('data/class_labels_indices-animals.csv', header=True, index=False)"
   ]
  },
  {
   "cell_type": "code",
   "execution_count": 256,
   "metadata": {},
   "outputs": [
    {
     "data": {
      "text/plain": [
       "Index(['# YTID', ' start_seconds', ' end_seconds', ' positive_labels',\n",
       "       'Unnamed: 4', 'Unnamed: 5', 'Unnamed: 6', 'Unnamed: 7', 'Unnamed: 8',\n",
       "       'Unnamed: 9', 'Unnamed: 10', 'Unnamed: 11', 'Unnamed: 12',\n",
       "       'Unnamed: 13', 'Unnamed: 14', 'singlelabel'],\n",
       "      dtype='object')"
      ]
     },
     "execution_count": 256,
     "metadata": {},
     "output_type": "execute_result"
    }
   ],
   "source": [
    "audioset_bal_train.columns"
   ]
  },
  {
   "cell_type": "code",
   "execution_count": 257,
   "metadata": {
    "collapsed": true
   },
   "outputs": [],
   "source": [
    "def supported(name):\n",
    "    url = \"https://youtube.com/watch?v=\" + name\n",
    "    try:\n",
    "        youtube = pytube.YouTube(url)\n",
    "    except:\n",
    "        return False\n",
    "    else:\n",
    "        return True"
   ]
  },
  {
   "cell_type": "code",
   "execution_count": 258,
   "metadata": {
    "collapsed": true
   },
   "outputs": [],
   "source": [
    "# Probably don't need to do this! It takes a very long time. Better of just listing whatever wav files you do have\n",
    "# after running the download script and filtering the dataframe then"
   ]
  },
  {
   "cell_type": "code",
   "execution_count": 259,
   "metadata": {
    "collapsed": true
   },
   "outputs": [],
   "source": [
    "# Check all videso to see if they no longer exist on youtube.com\n",
    "#audioset_bal_train['exists'] = audioset_bal_train['# YTID'].apply(supported)\n",
    "\n",
    "# Check all videso to see if they no longer exist on youtube.com\n",
    "#audioset_eval['exists'] = audioset_eval['# YTID'].apply(supported)"
   ]
  },
  {
   "cell_type": "code",
   "execution_count": 260,
   "metadata": {
    "collapsed": true
   },
   "outputs": [],
   "source": [
    "#audioset_bal_train.head(30)"
   ]
  },
  {
   "cell_type": "code",
   "execution_count": 261,
   "metadata": {
    "collapsed": true
   },
   "outputs": [],
   "source": [
    "# Filter videos no longer on YouTube\n",
    "#audioset_bal_train = audioset_bal_train.loc[audioset_bal_train['exists'] == True]\n",
    "#print(\"Balanced train data:\")\n",
    "#print(audioset_bal_train.shape)\n",
    "\n",
    "#  audioset_ubbal_train = audioset_ubbal_train.loc[audioset_ubbal_train['exists'] == True]\n",
    "#  print(\"Unbalanced train data:\")\n",
    "#  print(audioset_unbal_train.shape)\n",
    "\n",
    "#audioset_eval = audioset_eval.loc[audioset_eval['exists'] == True]\n",
    "#print(\"Eval data\")\n",
    "#print(audioset_eval.shape)"
   ]
  },
  {
   "cell_type": "code",
   "execution_count": 262,
   "metadata": {
    "collapsed": true
   },
   "outputs": [],
   "source": [
    "%config InlineBackend.figure_format = 'retina' #set 'png' here when working on notebook\n",
    "%matplotlib inline"
   ]
  },
  {
   "cell_type": "code",
   "execution_count": 263,
   "metadata": {},
   "outputs": [],
   "source": [
    "# audioset_labels.set_index('mid', inplace=True)"
   ]
  },
  {
   "cell_type": "code",
   "execution_count": 308,
   "metadata": {
    "collapsed": true
   },
   "outputs": [],
   "source": [
    "def get_display_name_from_mid(mid):\n",
    "    return audioset_labels.loc[audioset_labels['mid'] == mid[2:]].iloc[0]['display_name']"
   ]
  },
  {
   "cell_type": "code",
   "execution_count": 309,
   "metadata": {},
   "outputs": [],
   "source": [
    "# counts = audioset_bal_train[' positive_labels'].value_counts()\n",
    "# label_counts = pd.DataFrame({'label':audioset_bal_train[' positive_labels'], 'count':audioset_bal_train[' positive_labels'].value_counts()})\n",
    "# prices.hist()\n",
    "\n",
    "df = audioset_bal_train[' positive_labels'].value_counts().to_frame()\n",
    "df.reset_index(inplace=True)\n",
    "df.columns = [' mid', ' positive_labels']\n",
    "df['display_name'] = df[' mid'].apply(get_display_name_from_mid)"
   ]
  },
  {
   "cell_type": "code",
   "execution_count": 310,
   "metadata": {},
   "outputs": [
    {
     "name": "stdout",
     "output_type": "stream",
     "text": [
      "             mid   positive_labels                             display_name\n",
      "0      \"/m/015p6               171                                     Bird\n",
      "1      \"/m/068hy               157                   Domestic animals, pets\n",
      "2    \"/m/025rv6n               133                                     Fowl\n",
      "3      \"/m/01yrx               120                                      Cat\n",
      "4      \"/m/03vt0               104                                   Insect\n",
      "5      \"/m/03k3r                77                                    Horse\n",
      "6    \"/m/01xq0k1                62                          Cattle, bovinae\n",
      "7     \"/m/01280g                60                             Wild animals\n",
      "8      \"/m/01h3n                60                          Bee, wasp, etc.\n",
      "9    \"/m/07st88b                59                                    Croak\n",
      "10   \"/m/07r_80w                58                                     Hoot\n",
      "11     \"/m/01z5f                57                    Canidae, dogs, wolves\n",
      "12     \"/m/03fwl                56                                     Goat\n",
      "13    \"/m/01rd7k                47                                   Turkey\n",
      "14    \"/m/04s8yn                42                                     Crow\n",
      "15     \"/m/068zj                42                                      Pig\n",
      "16     \"/m/078jl                38                                    Snake\n",
      "17     \"/m/07bgp                37                                    Sheep\n",
      "18    \"/m/05tny_                36                                     Bark\n",
      "19    \"/m/032n05                29                       Whale vocalization\n",
      "20   \"/m/04cvmfc                28                                     Roar\n",
      "21   \"/m/07qdb04                27                                    Quack\n",
      "22     \"/m/04rmv                26                                    Mouse\n",
      "23   \"/m/07pjwq1                19                                     Buzz\n",
      "24     \"/m/06hps                17                      Rodents, rats, mice\n",
      "25   \"/m/07sx8x_                16                                   Squawk\n",
      "26    \"/m/02yds9                15                                     Purr\n",
      "27   \"/m/07rv9rh                13                                Clip-clop\n",
      "28   \"/m/07qn4z3                11                                   Rattle\n",
      "29   \"/m/07qf0zm                 7                                     Howl\n",
      "30    \"/m/020bb7                 6  Bird vocalization, bird call, bird song\n",
      "31     \"/m/0cdnk                 5             Roaring cats (lions, tigers)\n",
      "32   \"/m/07q5rw0                 4                            Neigh, whinny\n",
      "33     \"/m/09ddx                 4                                     Duck\n",
      "34    \"/m/0ghcn6                 3                                 Growling\n",
      "35    \"/m/05_wcq                 3              Bird flight, flapping wings\n",
      "36   \"/m/07q0h5t                 3                                    Bleat\n",
      "37   \"/m/07r81j2                 3                                Caterwaul\n",
      "38   \"/m/07qrkrw                 3                                     Meow\n",
      "39   \"/m/07r5c2p                 2                                      Caw\n",
      "40    \"/m/0bt9lr                 2                                      Dog\n",
      "41      \"/m/0jbk                 1                                   Animal\n",
      "42   \"/m/07pggtn                 1                             Chirp, tweet\n"
     ]
    }
   ],
   "source": [
    "with pd.option_context('display.max_rows', None, 'display.max_columns', None):  # more options can be specified also\n",
    "    print(df)"
   ]
  },
  {
   "cell_type": "code",
   "execution_count": null,
   "metadata": {
    "collapsed": true
   },
   "outputs": [],
   "source": []
  }
 ],
 "metadata": {
  "kernelspec": {
   "display_name": "Python 3",
   "language": "python",
   "name": "python3"
  },
  "language_info": {
   "codemirror_mode": {
    "name": "ipython",
    "version": 3
   },
   "file_extension": ".py",
   "mimetype": "text/x-python",
   "name": "python",
   "nbconvert_exporter": "python",
   "pygments_lexer": "ipython3",
   "version": "3.6.2"
  }
 },
 "nbformat": 4,
 "nbformat_minor": 2
}
